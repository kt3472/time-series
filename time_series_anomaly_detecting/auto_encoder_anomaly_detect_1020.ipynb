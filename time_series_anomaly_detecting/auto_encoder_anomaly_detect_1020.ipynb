{
 "cells": [
  {
   "cell_type": "code",
   "execution_count": 143,
   "metadata": {},
   "outputs": [],
   "source": [
    "import numpy\n",
    "import pandas\n",
    "import matplotlib\n",
    "import seaborn\n",
    "import tensorflow\n",
    "import keras"
   ]
  },
  {
   "cell_type": "code",
   "execution_count": 144,
   "metadata": {},
   "outputs": [],
   "source": [
    "import warnings\n",
    "warnings.filterwarnings(\"ignore\")"
   ]
  },
  {
   "cell_type": "code",
   "execution_count": 145,
   "metadata": {},
   "outputs": [
    {
     "name": "stdout",
     "output_type": "stream",
     "text": [
      "Numpy version      : 1.16.5\n",
      "Pandas version     : 0.25.1\n",
      "matplotlib version : 3.1.1\n",
      "seaborn version    : 0.9.0\n",
      "tensorflow version : 2.2.0\n",
      "keras version      : 2.4.3\n"
     ]
    }
   ],
   "source": [
    "print('Numpy version      :' , numpy.__version__)\n",
    "print('Pandas version     :' ,pandas.__version__)\n",
    "print('matplotlib version :' ,matplotlib.__version__)\n",
    "print('seaborn version    :' , seaborn.__version__)\n",
    "print('tensorflow version :' , tensorflow.__version__)\n",
    "print('keras version      :' , keras.__version__)"
   ]
  },
  {
   "cell_type": "code",
   "execution_count": 146,
   "metadata": {},
   "outputs": [],
   "source": [
    "import numpy as np\n",
    "import pandas as pd\n",
    "pd.set_option('display.max_columns', None)\n",
    "pd.set_option('display.max_row', None)\n",
    "import matplotlib.pyplot as plt\n",
    "plt.rcdefaults()\n",
    "from pylab import rcParams\n",
    "import seaborn as sns\n",
    "%matplotlib inline\n",
    "\n",
    "####### Deep learning libraries\n",
    "import tensorflow as tf\n",
    "import keras\n",
    "from keras.models import Model, load_model\n",
    "from keras.layers import Input, Dense\n",
    "from keras.callbacks import ModelCheckpoint, TensorBoard\n",
    "from keras import regularizers\n",
    "from ann_visualizer.visualize import ann_viz\n",
    "# \n",
    "from sklearn.preprocessing import  StandardScaler, MinMaxScaler\n",
    "from sklearn.model_selection import train_test_split\n",
    "\n",
    "from sklearn.metrics import (confusion_matrix, classification_report, accuracy_score, roc_auc_score, auc,\n",
    "                             precision_score, recall_score, roc_curve, precision_recall_curve,\n",
    "                             precision_recall_fscore_support, f1_score,\n",
    "                             precision_recall_fscore_support)\n",
    "#\n",
    "from IPython.display import display, Math, Latex"
   ]
  },
  {
   "cell_type": "code",
   "execution_count": 147,
   "metadata": {},
   "outputs": [],
   "source": [
    "df = pd.read_csv('JADS_CarrerDay_Data.cvs',index_col=0)"
   ]
  },
  {
   "cell_type": "code",
   "execution_count": 148,
   "metadata": {},
   "outputs": [
    {
     "data": {
      "text/html": [
       "<div>\n",
       "<style scoped>\n",
       "    .dataframe tbody tr th:only-of-type {\n",
       "        vertical-align: middle;\n",
       "    }\n",
       "\n",
       "    .dataframe tbody tr th {\n",
       "        vertical-align: top;\n",
       "    }\n",
       "\n",
       "    .dataframe thead th {\n",
       "        text-align: right;\n",
       "    }\n",
       "</style>\n",
       "<table border=\"1\" class=\"dataframe\">\n",
       "  <thead>\n",
       "    <tr style=\"text-align: right;\">\n",
       "      <th></th>\n",
       "      <th>V_1</th>\n",
       "      <th>V_2</th>\n",
       "      <th>V_3</th>\n",
       "      <th>V_4</th>\n",
       "      <th>V_5</th>\n",
       "      <th>V_6</th>\n",
       "      <th>V_7</th>\n",
       "      <th>V_8</th>\n",
       "      <th>V_9</th>\n",
       "      <th>Label</th>\n",
       "    </tr>\n",
       "  </thead>\n",
       "  <tbody>\n",
       "    <tr>\n",
       "      <td>0</td>\n",
       "      <td>7.52785</td>\n",
       "      <td>100.0</td>\n",
       "      <td>22.2</td>\n",
       "      <td>47.8</td>\n",
       "      <td>13.0</td>\n",
       "      <td>925</td>\n",
       "      <td>951</td>\n",
       "      <td>938</td>\n",
       "      <td>954</td>\n",
       "      <td>0</td>\n",
       "    </tr>\n",
       "    <tr>\n",
       "      <td>1</td>\n",
       "      <td>7.43006</td>\n",
       "      <td>100.0</td>\n",
       "      <td>22.2</td>\n",
       "      <td>47.8</td>\n",
       "      <td>12.9</td>\n",
       "      <td>931</td>\n",
       "      <td>953</td>\n",
       "      <td>935</td>\n",
       "      <td>950</td>\n",
       "      <td>0</td>\n",
       "    </tr>\n",
       "    <tr>\n",
       "      <td>2</td>\n",
       "      <td>7.40669</td>\n",
       "      <td>100.0</td>\n",
       "      <td>22.2</td>\n",
       "      <td>47.8</td>\n",
       "      <td>13.0</td>\n",
       "      <td>932</td>\n",
       "      <td>952</td>\n",
       "      <td>937</td>\n",
       "      <td>950</td>\n",
       "      <td>0</td>\n",
       "    </tr>\n",
       "    <tr>\n",
       "      <td>3</td>\n",
       "      <td>7.52365</td>\n",
       "      <td>100.0</td>\n",
       "      <td>22.2</td>\n",
       "      <td>47.9</td>\n",
       "      <td>13.0</td>\n",
       "      <td>923</td>\n",
       "      <td>950</td>\n",
       "      <td>942</td>\n",
       "      <td>950</td>\n",
       "      <td>0</td>\n",
       "    </tr>\n",
       "    <tr>\n",
       "      <td>4</td>\n",
       "      <td>7.43734</td>\n",
       "      <td>100.0</td>\n",
       "      <td>22.3</td>\n",
       "      <td>47.6</td>\n",
       "      <td>13.3</td>\n",
       "      <td>920</td>\n",
       "      <td>952</td>\n",
       "      <td>945</td>\n",
       "      <td>954</td>\n",
       "      <td>0</td>\n",
       "    </tr>\n",
       "  </tbody>\n",
       "</table>\n",
       "</div>"
      ],
      "text/plain": [
       "       V_1    V_2   V_3   V_4   V_5  V_6  V_7  V_8  V_9  Label\n",
       "0  7.52785  100.0  22.2  47.8  13.0  925  951  938  954      0\n",
       "1  7.43006  100.0  22.2  47.8  12.9  931  953  935  950      0\n",
       "2  7.40669  100.0  22.2  47.8  13.0  932  952  937  950      0\n",
       "3  7.52365  100.0  22.2  47.9  13.0  923  950  942  950      0\n",
       "4  7.43734  100.0  22.3  47.6  13.3  920  952  945  954      0"
      ]
     },
     "execution_count": 148,
     "metadata": {},
     "output_type": "execute_result"
    }
   ],
   "source": [
    "df.head()"
   ]
  },
  {
   "cell_type": "code",
   "execution_count": 149,
   "metadata": {},
   "outputs": [
    {
     "data": {
      "text/plain": [
       "(4550, 10)"
      ]
     },
     "execution_count": 149,
     "metadata": {},
     "output_type": "execute_result"
    }
   ],
   "source": [
    "df.shape"
   ]
  },
  {
   "cell_type": "code",
   "execution_count": 150,
   "metadata": {},
   "outputs": [
    {
     "data": {
      "text/plain": [
       "0    4444\n",
       "1     106\n",
       "Name: Label, dtype: int64"
      ]
     },
     "execution_count": 150,
     "metadata": {},
     "output_type": "execute_result"
    }
   ],
   "source": [
    "df['Label'].value_counts()"
   ]
  },
  {
   "cell_type": "code",
   "execution_count": 151,
   "metadata": {},
   "outputs": [
    {
     "data": {
      "text/plain": [
       "V_1      0\n",
       "V_2      0\n",
       "V_3      0\n",
       "V_4      0\n",
       "V_5      0\n",
       "V_6      0\n",
       "V_7      0\n",
       "V_8      0\n",
       "V_9      0\n",
       "Label    0\n",
       "dtype: int64"
      ]
     },
     "execution_count": 151,
     "metadata": {},
     "output_type": "execute_result"
    }
   ],
   "source": [
    "df.isnull().sum()"
   ]
  },
  {
   "cell_type": "code",
   "execution_count": 152,
   "metadata": {},
   "outputs": [],
   "source": [
    "df.reset_index(inplace=True, drop= True)"
   ]
  },
  {
   "cell_type": "code",
   "execution_count": 153,
   "metadata": {},
   "outputs": [
    {
     "data": {
      "text/plain": [
       "RangeIndex(start=0, stop=4550, step=1)"
      ]
     },
     "execution_count": 153,
     "metadata": {},
     "output_type": "execute_result"
    }
   ],
   "source": [
    "df.index"
   ]
  },
  {
   "cell_type": "code",
   "execution_count": 154,
   "metadata": {},
   "outputs": [
    {
     "data": {
      "text/html": [
       "<div>\n",
       "<style scoped>\n",
       "    .dataframe tbody tr th:only-of-type {\n",
       "        vertical-align: middle;\n",
       "    }\n",
       "\n",
       "    .dataframe tbody tr th {\n",
       "        vertical-align: top;\n",
       "    }\n",
       "\n",
       "    .dataframe thead th {\n",
       "        text-align: right;\n",
       "    }\n",
       "</style>\n",
       "<table border=\"1\" class=\"dataframe\">\n",
       "  <thead>\n",
       "    <tr style=\"text-align: right;\">\n",
       "      <th></th>\n",
       "      <th>V_1</th>\n",
       "      <th>V_2</th>\n",
       "      <th>V_3</th>\n",
       "      <th>V_4</th>\n",
       "      <th>V_5</th>\n",
       "      <th>V_6</th>\n",
       "      <th>V_7</th>\n",
       "      <th>V_8</th>\n",
       "      <th>V_9</th>\n",
       "      <th>Label</th>\n",
       "    </tr>\n",
       "  </thead>\n",
       "  <tbody>\n",
       "    <tr>\n",
       "      <td>0</td>\n",
       "      <td>7.52785</td>\n",
       "      <td>100.0</td>\n",
       "      <td>22.2</td>\n",
       "      <td>47.8</td>\n",
       "      <td>13.0</td>\n",
       "      <td>925</td>\n",
       "      <td>951</td>\n",
       "      <td>938</td>\n",
       "      <td>954</td>\n",
       "      <td>0</td>\n",
       "    </tr>\n",
       "    <tr>\n",
       "      <td>1</td>\n",
       "      <td>7.43006</td>\n",
       "      <td>100.0</td>\n",
       "      <td>22.2</td>\n",
       "      <td>47.8</td>\n",
       "      <td>12.9</td>\n",
       "      <td>931</td>\n",
       "      <td>953</td>\n",
       "      <td>935</td>\n",
       "      <td>950</td>\n",
       "      <td>0</td>\n",
       "    </tr>\n",
       "    <tr>\n",
       "      <td>2</td>\n",
       "      <td>7.40669</td>\n",
       "      <td>100.0</td>\n",
       "      <td>22.2</td>\n",
       "      <td>47.8</td>\n",
       "      <td>13.0</td>\n",
       "      <td>932</td>\n",
       "      <td>952</td>\n",
       "      <td>937</td>\n",
       "      <td>950</td>\n",
       "      <td>0</td>\n",
       "    </tr>\n",
       "    <tr>\n",
       "      <td>3</td>\n",
       "      <td>7.52365</td>\n",
       "      <td>100.0</td>\n",
       "      <td>22.2</td>\n",
       "      <td>47.9</td>\n",
       "      <td>13.0</td>\n",
       "      <td>923</td>\n",
       "      <td>950</td>\n",
       "      <td>942</td>\n",
       "      <td>950</td>\n",
       "      <td>0</td>\n",
       "    </tr>\n",
       "    <tr>\n",
       "      <td>4</td>\n",
       "      <td>7.43734</td>\n",
       "      <td>100.0</td>\n",
       "      <td>22.3</td>\n",
       "      <td>47.6</td>\n",
       "      <td>13.3</td>\n",
       "      <td>920</td>\n",
       "      <td>952</td>\n",
       "      <td>945</td>\n",
       "      <td>954</td>\n",
       "      <td>0</td>\n",
       "    </tr>\n",
       "  </tbody>\n",
       "</table>\n",
       "</div>"
      ],
      "text/plain": [
       "       V_1    V_2   V_3   V_4   V_5  V_6  V_7  V_8  V_9  Label\n",
       "0  7.52785  100.0  22.2  47.8  13.0  925  951  938  954      0\n",
       "1  7.43006  100.0  22.2  47.8  12.9  931  953  935  950      0\n",
       "2  7.40669  100.0  22.2  47.8  13.0  932  952  937  950      0\n",
       "3  7.52365  100.0  22.2  47.9  13.0  923  950  942  950      0\n",
       "4  7.43734  100.0  22.3  47.6  13.3  920  952  945  954      0"
      ]
     },
     "execution_count": 154,
     "metadata": {},
     "output_type": "execute_result"
    }
   ],
   "source": [
    "df.head()"
   ]
  },
  {
   "cell_type": "code",
   "execution_count": 155,
   "metadata": {},
   "outputs": [
    {
     "data": {
      "text/plain": [
       "(4550, 10)"
      ]
     },
     "execution_count": 155,
     "metadata": {},
     "output_type": "execute_result"
    }
   ],
   "source": [
    "df.shape"
   ]
  },
  {
   "cell_type": "code",
   "execution_count": 156,
   "metadata": {},
   "outputs": [
    {
     "data": {
      "text/plain": [
       "0    4444\n",
       "1     106\n",
       "Name: Label, dtype: int64"
      ]
     },
     "execution_count": 156,
     "metadata": {},
     "output_type": "execute_result"
    }
   ],
   "source": [
    "df.Label.value_counts()"
   ]
  },
  {
   "cell_type": "code",
   "execution_count": 157,
   "metadata": {},
   "outputs": [
    {
     "data": {
      "text/plain": [
       "0    97.67033\n",
       "1     2.32967\n",
       "Name: Label, dtype: float64"
      ]
     },
     "execution_count": 157,
     "metadata": {},
     "output_type": "execute_result"
    }
   ],
   "source": [
    "df.Label.value_counts(normalize=True)*100"
   ]
  },
  {
   "cell_type": "code",
   "execution_count": 158,
   "metadata": {},
   "outputs": [
    {
     "data": {
      "text/plain": [
       "Index(['V_1', 'V_2', 'V_3', 'V_4', 'V_5', 'V_6', 'V_7', 'V_8', 'V_9', 'Label'], dtype='object')"
      ]
     },
     "execution_count": 158,
     "metadata": {},
     "output_type": "execute_result"
    }
   ],
   "source": [
    "df.columns"
   ]
  },
  {
   "cell_type": "code",
   "execution_count": 159,
   "metadata": {},
   "outputs": [
    {
     "data": {
      "text/plain": [
       "V_1      float64\n",
       "V_2      float64\n",
       "V_3      float64\n",
       "V_4      float64\n",
       "V_5      float64\n",
       "V_6        int64\n",
       "V_7        int64\n",
       "V_8        int64\n",
       "V_9        int64\n",
       "Label      int64\n",
       "dtype: object"
      ]
     },
     "execution_count": 159,
     "metadata": {},
     "output_type": "execute_result"
    }
   ],
   "source": [
    "df.dtypes"
   ]
  },
  {
   "cell_type": "code",
   "execution_count": 160,
   "metadata": {},
   "outputs": [],
   "source": [
    "numerical_cols = ['V_1', 'V_2', 'V_3', 'V_4', 'V_5', 'V_6', 'V_7', 'V_8', 'V_9']"
   ]
  },
  {
   "cell_type": "code",
   "execution_count": 161,
   "metadata": {},
   "outputs": [
    {
     "data": {
      "text/plain": [
       "array([0, 1], dtype=int64)"
      ]
     },
     "execution_count": 161,
     "metadata": {},
     "output_type": "execute_result"
    }
   ],
   "source": [
    "df.Label.unique()"
   ]
  },
  {
   "cell_type": "code",
   "execution_count": 162,
   "metadata": {},
   "outputs": [],
   "source": [
    "labels = df['Label'].astype(int)\n",
    "labels[labels != 0] = 1"
   ]
  },
  {
   "cell_type": "code",
   "execution_count": 163,
   "metadata": {},
   "outputs": [
    {
     "data": {
      "text/plain": [
       "106"
      ]
     },
     "execution_count": 163,
     "metadata": {},
     "output_type": "execute_result"
    }
   ],
   "source": [
    "len(labels[labels !=0])"
   ]
  },
  {
   "cell_type": "code",
   "execution_count": 164,
   "metadata": {},
   "outputs": [
    {
     "data": {
      "text/plain": [
       "[4444, 106]"
      ]
     },
     "execution_count": 164,
     "metadata": {},
     "output_type": "execute_result"
    }
   ],
   "source": [
    "df.Label.value_counts().tolist()"
   ]
  },
  {
   "cell_type": "code",
   "execution_count": 165,
   "metadata": {},
   "outputs": [
    {
     "data": {
      "text/plain": [
       "Text(0.5, 1.0, 'Data per Label')"
      ]
     },
     "execution_count": 165,
     "metadata": {},
     "output_type": "execute_result"
    },
    {
     "data": {
      "image/png": "[encoded data removed]",
      "text/plain": [
       "<Figure size 576x432 with 1 Axes>"
      ]
     },
     "metadata": {
      "needs_background": "light"
     },
     "output_type": "display_data"
    }
   ],
   "source": [
    "plt.figure(figsize=(8,6))\n",
    "objects = tuple(['0', '1']) \n",
    "y_pos = np.arange(len(objects))\n",
    "x   = np.arange(len(objects))\n",
    "y   = df.Label.value_counts().tolist()\n",
    "#plt.ylim([0, 1.2])\n",
    "plt.bar(x, y, align='center', alpha=0.5)\n",
    "plt.xticks(y_pos, objects,fontsize=18)\n",
    "plt.xlabel('Label', fontsize=18)\n",
    "plt.ylabel('Frequency', fontsize=18)\n",
    "plt.title('Data per Label',fontsize=18)"
   ]
  },
  {
   "cell_type": "code",
   "execution_count": 166,
   "metadata": {},
   "outputs": [
    {
     "name": "stdout",
     "output_type": "stream",
     "text": [
      "Training data size   : (3558, 9)\n",
      "Validation data size : (910, 9)\n"
     ]
    }
   ],
   "source": [
    "RANDOM_SEED = 101\n",
    "\n",
    "X_train, X_test = train_test_split(df, test_size=0.2, random_state = RANDOM_SEED)\n",
    "\n",
    "X_train = X_train[X_train['Label'] == 0]\n",
    "X_train = X_train.drop(['Label'], axis=1)\n",
    "\n",
    "y_test  = X_test['Label']\n",
    "X_test  = X_test.drop(['Label'], axis=1)\n",
    "\n",
    "X_train = X_train.values\n",
    "X_test  = X_test.values\n",
    "\n",
    "print('Training data size   :', X_train.shape)\n",
    "print('Validation data size :', X_test.shape)"
   ]
  },
  {
   "cell_type": "code",
   "execution_count": 167,
   "metadata": {},
   "outputs": [],
   "source": [
    "scaler = MinMaxScaler()"
   ]
  },
  {
   "cell_type": "code",
   "execution_count": 168,
   "metadata": {},
   "outputs": [
    {
     "data": {
      "text/plain": [
       "MinMaxScaler()"
      ]
     },
     "execution_count": 168,
     "metadata": {},
     "output_type": "execute_result"
    }
   ],
   "source": [
    "scaler"
   ]
  },
  {
   "cell_type": "code",
   "execution_count": 169,
   "metadata": {},
   "outputs": [],
   "source": [
    "X_train_scaled = scaler.fit_transform(X_train)\n",
    "X_test_scaled = scaler.transform(X_test)"
   ]
  },
  {
   "cell_type": "code",
   "execution_count": 170,
   "metadata": {},
   "outputs": [
    {
     "data": {
      "text/plain": [
       "(3558, 9)"
      ]
     },
     "execution_count": 170,
     "metadata": {},
     "output_type": "execute_result"
    }
   ],
   "source": [
    "X_train_scaled.shape"
   ]
  },
  {
   "cell_type": "code",
   "execution_count": 171,
   "metadata": {},
   "outputs": [
    {
     "data": {
      "text/plain": [
       "(910, 9)"
      ]
     },
     "execution_count": 171,
     "metadata": {},
     "output_type": "execute_result"
    }
   ],
   "source": [
    "X_test_scaled.shape"
   ]
  },
  {
   "cell_type": "code",
   "execution_count": 172,
   "metadata": {},
   "outputs": [],
   "source": [
    "input_dim = X_train.shape[1]"
   ]
  },
  {
   "cell_type": "code",
   "execution_count": 173,
   "metadata": {},
   "outputs": [
    {
     "data": {
      "text/plain": [
       "9"
      ]
     },
     "execution_count": 173,
     "metadata": {},
     "output_type": "execute_result"
    }
   ],
   "source": [
    "input_dim"
   ]
  },
  {
   "cell_type": "code",
   "execution_count": 174,
   "metadata": {},
   "outputs": [
    {
     "data": {
      "text/plain": [
       "10"
      ]
     },
     "execution_count": 174,
     "metadata": {},
     "output_type": "execute_result"
    }
   ],
   "source": [
    "len(df.columns)"
   ]
  },
  {
   "cell_type": "code",
   "execution_count": 204,
   "metadata": {},
   "outputs": [],
   "source": [
    "encoding_dim = 12"
   ]
  },
  {
   "cell_type": "code",
   "execution_count": 205,
   "metadata": {},
   "outputs": [],
   "source": [
    "input_layer = Input(shape= (input_dim,))\n",
    "\n",
    "encoder = Dense(encoding_dim, activation = \"tanh\", \n",
    "                activity_regularizer = regularizers.l1(10e-5))(input_layer)\n",
    "encoder = Dense(int(encoding_dim / 2 ), activation = \"tanh\")(encoder)\n",
    "encoder = Dense(int(encoding_dim / 4 ), activation = \"tanh\")(encoder)\n",
    "decoder = Dense(int(encoding_dim / 2 ), activation = \"tanh\")(encoder)\n",
    "decoder = Dense(int(encoding_dim) , activation = \"tanh\")(decoder)\n",
    "decoder = Dense(input_dim, activation='tanh')(decoder)\n",
    "\n"
   ]
  },
  {
   "cell_type": "code",
   "execution_count": 206,
   "metadata": {},
   "outputs": [
    {
     "name": "stdout",
     "output_type": "stream",
     "text": [
      "Model: \"model_8\"\n",
      "_________________________________________________________________\n",
      "Layer (type)                 Output Shape              Param #   \n",
      "=================================================================\n",
      "input_11 (InputLayer)        [(None, 9)]               0         \n",
      "_________________________________________________________________\n",
      "dense_51 (Dense)             (None, 12)                120       \n",
      "_________________________________________________________________\n",
      "dense_52 (Dense)             (None, 6)                 78        \n",
      "_________________________________________________________________\n",
      "dense_53 (Dense)             (None, 3)                 21        \n",
      "_________________________________________________________________\n",
      "dense_54 (Dense)             (None, 6)                 24        \n",
      "_________________________________________________________________\n",
      "dense_55 (Dense)             (None, 12)                84        \n",
      "_________________________________________________________________\n",
      "dense_56 (Dense)             (None, 9)                 117       \n",
      "=================================================================\n",
      "Total params: 444\n",
      "Trainable params: 444\n",
      "Non-trainable params: 0\n",
      "_________________________________________________________________\n"
     ]
    }
   ],
   "source": [
    "autoencoder = Model(inputs = input_layer, outputs=decoder)\n",
    "autoencoder.summary()"
   ]
  },
  {
   "cell_type": "code",
   "execution_count": 207,
   "metadata": {},
   "outputs": [
    {
     "name": "stdout",
     "output_type": "stream",
     "text": [
      "Epoch 1/100\n",
      "65/65 [==============================] - 0s 2ms/step - loss: 0.2564 - val_loss: 0.0778\n",
      "Epoch 2/100\n",
      "65/65 [==============================] - 0s 2ms/step - loss: 0.0450 - val_loss: 0.0306\n",
      "Epoch 3/100\n",
      "65/65 [==============================] - 0s 1ms/step - loss: 0.0289 - val_loss: 0.0265\n",
      "Epoch 4/100\n",
      "65/65 [==============================] - 0s 1ms/step - loss: 0.0268 - val_loss: 0.0253\n",
      "Epoch 5/100\n",
      "65/65 [==============================] - 0s 2ms/step - loss: 0.0258 - val_loss: 0.0244\n",
      "Epoch 6/100\n",
      "65/65 [==============================] - 0s 1ms/step - loss: 0.0249 - val_loss: 0.0234\n",
      "Epoch 7/100\n",
      "65/65 [==============================] - 0s 1ms/step - loss: 0.0238 - val_loss: 0.0221\n",
      "Epoch 8/100\n",
      "65/65 [==============================] - 0s 1ms/step - loss: 0.0223 - val_loss: 0.0207\n",
      "Epoch 9/100\n",
      "65/65 [==============================] - 0s 1ms/step - loss: 0.0209 - val_loss: 0.0193\n",
      "Epoch 10/100\n",
      "65/65 [==============================] - 0s 2ms/step - loss: 0.0196 - val_loss: 0.0182\n",
      "Epoch 11/100\n",
      "65/65 [==============================] - 0s 2ms/step - loss: 0.0187 - val_loss: 0.0174\n",
      "Epoch 12/100\n",
      "65/65 [==============================] - 0s 1ms/step - loss: 0.0180 - val_loss: 0.0168\n",
      "Epoch 13/100\n",
      "65/65 [==============================] - 0s 1ms/step - loss: 0.0174 - val_loss: 0.0162\n",
      "Epoch 14/100\n",
      "65/65 [==============================] - 0s 2ms/step - loss: 0.0170 - val_loss: 0.0158\n",
      "Epoch 15/100\n",
      "65/65 [==============================] - 0s 2ms/step - loss: 0.0166 - val_loss: 0.0155\n",
      "Epoch 16/100\n",
      "65/65 [==============================] - 0s 1ms/step - loss: 0.0163 - val_loss: 0.0152\n",
      "Epoch 17/100\n",
      "65/65 [==============================] - 0s 2ms/step - loss: 0.0160 - val_loss: 0.0150\n",
      "Epoch 18/100\n",
      "65/65 [==============================] - 0s 1ms/step - loss: 0.0157 - val_loss: 0.0147\n",
      "Epoch 19/100\n",
      "65/65 [==============================] - 0s 1ms/step - loss: 0.0155 - val_loss: 0.0145\n",
      "Epoch 20/100\n",
      "65/65 [==============================] - 0s 2ms/step - loss: 0.0152 - val_loss: 0.0143\n",
      "Epoch 21/100\n",
      "65/65 [==============================] - 0s 1ms/step - loss: 0.0150 - val_loss: 0.0140\n",
      "Epoch 22/100\n",
      "65/65 [==============================] - 0s 1ms/step - loss: 0.0146 - val_loss: 0.0137\n",
      "Epoch 23/100\n",
      "65/65 [==============================] - 0s 2ms/step - loss: 0.0142 - val_loss: 0.0133\n",
      "Epoch 24/100\n",
      "65/65 [==============================] - 0s 2ms/step - loss: 0.0136 - val_loss: 0.0126\n",
      "Epoch 25/100\n",
      "65/65 [==============================] - 0s 2ms/step - loss: 0.0128 - val_loss: 0.0117\n",
      "Epoch 26/100\n",
      "65/65 [==============================] - 0s 1ms/step - loss: 0.0116 - val_loss: 0.0106\n",
      "Epoch 27/100\n",
      "65/65 [==============================] - 0s 2ms/step - loss: 0.0102 - val_loss: 0.0095\n",
      "Epoch 28/100\n",
      "65/65 [==============================] - 0s 1ms/step - loss: 0.0092 - val_loss: 0.0087\n",
      "Epoch 29/100\n",
      "65/65 [==============================] - 0s 2ms/step - loss: 0.0085 - val_loss: 0.0082\n",
      "Epoch 30/100\n",
      "65/65 [==============================] - 0s 2ms/step - loss: 0.0081 - val_loss: 0.0078\n",
      "Epoch 31/100\n",
      "65/65 [==============================] - 0s 2ms/step - loss: 0.0078 - val_loss: 0.0075\n",
      "Epoch 32/100\n",
      "65/65 [==============================] - 0s 1ms/step - loss: 0.0075 - val_loss: 0.0072\n",
      "Epoch 33/100\n",
      "65/65 [==============================] - 0s 1ms/step - loss: 0.0072 - val_loss: 0.0070\n",
      "Epoch 34/100\n",
      "65/65 [==============================] - 0s 1ms/step - loss: 0.0070 - val_loss: 0.0069\n",
      "Epoch 35/100\n",
      "65/65 [==============================] - 0s 1ms/step - loss: 0.0068 - val_loss: 0.0066\n",
      "Epoch 36/100\n",
      "65/65 [==============================] - 0s 1ms/step - loss: 0.0065 - val_loss: 0.0065\n",
      "Epoch 37/100\n",
      "65/65 [==============================] - 0s 2ms/step - loss: 0.0063 - val_loss: 0.0062\n",
      "Epoch 38/100\n",
      "65/65 [==============================] - 0s 1ms/step - loss: 0.0061 - val_loss: 0.0061\n",
      "Epoch 39/100\n",
      "65/65 [==============================] - 0s 2ms/step - loss: 0.0059 - val_loss: 0.0059\n",
      "Epoch 40/100\n",
      "65/65 [==============================] - 0s 2ms/step - loss: 0.0057 - val_loss: 0.0056\n",
      "Epoch 41/100\n",
      "65/65 [==============================] - 0s 1ms/step - loss: 0.0055 - val_loss: 0.0055\n",
      "Epoch 42/100\n",
      "65/65 [==============================] - 0s 2ms/step - loss: 0.0053 - val_loss: 0.0054\n",
      "Epoch 43/100\n",
      "65/65 [==============================] - 0s 2ms/step - loss: 0.0052 - val_loss: 0.0052\n",
      "Epoch 44/100\n",
      "65/65 [==============================] - 0s 1ms/step - loss: 0.0050 - val_loss: 0.0050\n",
      "Epoch 45/100\n",
      "65/65 [==============================] - 0s 2ms/step - loss: 0.0049 - val_loss: 0.0050\n",
      "Epoch 46/100\n",
      "65/65 [==============================] - 0s 1ms/step - loss: 0.0048 - val_loss: 0.0048\n",
      "Epoch 47/100\n",
      "65/65 [==============================] - 0s 1ms/step - loss: 0.0046 - val_loss: 0.0047\n",
      "Epoch 48/100\n",
      "65/65 [==============================] - 0s 2ms/step - loss: 0.0045 - val_loss: 0.0046\n",
      "Epoch 49/100\n",
      "65/65 [==============================] - 0s 2ms/step - loss: 0.0044 - val_loss: 0.0044\n",
      "Epoch 50/100\n",
      "65/65 [==============================] - 0s 2ms/step - loss: 0.0043 - val_loss: 0.0044\n",
      "Epoch 51/100\n",
      "65/65 [==============================] - 0s 2ms/step - loss: 0.0043 - val_loss: 0.0043\n",
      "Epoch 52/100\n",
      "65/65 [==============================] - 0s 2ms/step - loss: 0.0042 - val_loss: 0.0042\n",
      "Epoch 53/100\n",
      "65/65 [==============================] - 0s 2ms/step - loss: 0.0041 - val_loss: 0.0041\n",
      "Epoch 54/100\n",
      "65/65 [==============================] - 0s 1ms/step - loss: 0.0040 - val_loss: 0.0040\n",
      "Epoch 55/100\n",
      "65/65 [==============================] - 0s 2ms/step - loss: 0.0040 - val_loss: 0.0040\n",
      "Epoch 56/100\n",
      "65/65 [==============================] - 0s 1ms/step - loss: 0.0039 - val_loss: 0.0039\n",
      "Epoch 57/100\n",
      "65/65 [==============================] - 0s 1ms/step - loss: 0.0039 - val_loss: 0.0038\n",
      "Epoch 58/100\n",
      "65/65 [==============================] - 0s 1ms/step - loss: 0.0038 - val_loss: 0.0038\n",
      "Epoch 59/100\n",
      "65/65 [==============================] - 0s 1ms/step - loss: 0.0038 - val_loss: 0.0037\n",
      "Epoch 60/100\n",
      "65/65 [==============================] - 0s 1ms/step - loss: 0.0037 - val_loss: 0.0037\n",
      "Epoch 61/100\n",
      "65/65 [==============================] - 0s 1ms/step - loss: 0.0037 - val_loss: 0.0037\n",
      "Epoch 62/100\n",
      "65/65 [==============================] - 0s 1ms/step - loss: 0.0036 - val_loss: 0.0036\n",
      "Epoch 63/100\n",
      "65/65 [==============================] - 0s 1ms/step - loss: 0.0036 - val_loss: 0.0035\n",
      "Epoch 64/100\n",
      "65/65 [==============================] - 0s 2ms/step - loss: 0.0035 - val_loss: 0.0035\n",
      "Epoch 65/100\n",
      "65/65 [==============================] - 0s 1ms/step - loss: 0.0035 - val_loss: 0.0034\n",
      "Epoch 66/100\n",
      "65/65 [==============================] - 0s 2ms/step - loss: 0.0035 - val_loss: 0.0034\n",
      "Epoch 67/100\n",
      "65/65 [==============================] - 0s 1ms/step - loss: 0.0034 - val_loss: 0.0034\n",
      "Epoch 68/100\n",
      "65/65 [==============================] - 0s 2ms/step - loss: 0.0034 - val_loss: 0.0033\n",
      "Epoch 69/100\n",
      "65/65 [==============================] - 0s 2ms/step - loss: 0.0034 - val_loss: 0.0033\n",
      "Epoch 70/100\n",
      "65/65 [==============================] - 0s 1ms/step - loss: 0.0034 - val_loss: 0.0033\n",
      "Epoch 71/100\n",
      "65/65 [==============================] - 0s 2ms/step - loss: 0.0033 - val_loss: 0.0035\n",
      "Epoch 72/100\n",
      "65/65 [==============================] - 0s 2ms/step - loss: 0.0034 - val_loss: 0.0033\n",
      "Epoch 73/100\n",
      "65/65 [==============================] - 0s 2ms/step - loss: 0.0033 - val_loss: 0.0032\n",
      "Epoch 74/100\n",
      "65/65 [==============================] - 0s 1ms/step - loss: 0.0032 - val_loss: 0.0033\n",
      "Epoch 75/100\n",
      "65/65 [==============================] - 0s 2ms/step - loss: 0.0032 - val_loss: 0.0031\n",
      "Epoch 76/100\n",
      "65/65 [==============================] - 0s 3ms/step - loss: 0.0032 - val_loss: 0.0031\n",
      "Epoch 77/100\n",
      "65/65 [==============================] - 0s 2ms/step - loss: 0.0032 - val_loss: 0.0031\n",
      "Epoch 78/100\n",
      "65/65 [==============================] - 0s 2ms/step - loss: 0.0031 - val_loss: 0.0031\n",
      "Epoch 79/100\n",
      "65/65 [==============================] - 0s 1ms/step - loss: 0.0031 - val_loss: 0.0031\n",
      "Epoch 80/100\n",
      "65/65 [==============================] - 0s 1ms/step - loss: 0.0031 - val_loss: 0.0030\n",
      "Epoch 81/100\n",
      "65/65 [==============================] - 0s 1ms/step - loss: 0.0031 - val_loss: 0.0030\n",
      "Epoch 82/100\n",
      "65/65 [==============================] - 0s 2ms/step - loss: 0.0031 - val_loss: 0.0030\n",
      "Epoch 83/100\n"
     ]
    },
    {
     "name": "stdout",
     "output_type": "stream",
     "text": [
      "65/65 [==============================] - 0s 1ms/step - loss: 0.0031 - val_loss: 0.0030\n",
      "Epoch 84/100\n",
      "65/65 [==============================] - 0s 1ms/step - loss: 0.0030 - val_loss: 0.0029\n",
      "Epoch 85/100\n",
      "65/65 [==============================] - 0s 1ms/step - loss: 0.0030 - val_loss: 0.0030\n",
      "Epoch 86/100\n",
      "65/65 [==============================] - 0s 1ms/step - loss: 0.0030 - val_loss: 0.0029\n",
      "Epoch 87/100\n",
      "65/65 [==============================] - 0s 1ms/step - loss: 0.0030 - val_loss: 0.0030\n",
      "Epoch 88/100\n",
      "65/65 [==============================] - 0s 1ms/step - loss: 0.0030 - val_loss: 0.0029\n",
      "Epoch 89/100\n",
      "65/65 [==============================] - 0s 1ms/step - loss: 0.0030 - val_loss: 0.0028\n",
      "Epoch 90/100\n",
      "65/65 [==============================] - 0s 1ms/step - loss: 0.0029 - val_loss: 0.0029\n",
      "Epoch 91/100\n",
      "65/65 [==============================] - 0s 1ms/step - loss: 0.0029 - val_loss: 0.0028\n",
      "Epoch 92/100\n",
      "65/65 [==============================] - 0s 1ms/step - loss: 0.0029 - val_loss: 0.0028\n",
      "Epoch 93/100\n",
      "65/65 [==============================] - 0s 1ms/step - loss: 0.0029 - val_loss: 0.0028\n",
      "Epoch 94/100\n",
      "65/65 [==============================] - 0s 2ms/step - loss: 0.0029 - val_loss: 0.0028\n",
      "Epoch 95/100\n",
      "65/65 [==============================] - 0s 2ms/step - loss: 0.0029 - val_loss: 0.0028\n",
      "Epoch 96/100\n",
      "65/65 [==============================] - 0s 2ms/step - loss: 0.0029 - val_loss: 0.0027\n",
      "Epoch 97/100\n",
      "65/65 [==============================] - 0s 1ms/step - loss: 0.0029 - val_loss: 0.0028\n",
      "Epoch 98/100\n",
      "65/65 [==============================] - 0s 1ms/step - loss: 0.0029 - val_loss: 0.0027\n",
      "Epoch 99/100\n",
      "65/65 [==============================] - 0s 2ms/step - loss: 0.0028 - val_loss: 0.0028\n",
      "Epoch 100/100\n",
      "65/65 [==============================] - 0s 2ms/step - loss: 0.0029 - val_loss: 0.0027\n"
     ]
    }
   ],
   "source": [
    "nb_epoch = 100\n",
    "batch_size = 50\n",
    "autoencoder.compile(optimizer='adam', loss='mse' )\n",
    "\n",
    "history = autoencoder.fit(X_train_scaled, X_train_scaled,\n",
    "                        epochs=nb_epoch,\n",
    "                        batch_size=batch_size,\n",
    "                        shuffle=True,\n",
    "                        validation_split=0.1,\n",
    "                        verbose=1\n",
    "                        ).history"
   ]
  },
  {
   "cell_type": "code",
   "execution_count": 208,
   "metadata": {},
   "outputs": [
    {
     "data": {
      "image/png": "[encoded data removed]",
      "text/plain": [
       "<Figure size 864x576 with 1 Axes>"
      ]
     },
     "metadata": {
      "needs_background": "light"
     },
     "output_type": "display_data"
    }
   ],
   "source": [
    "plt.figure(figsize=(12,8))\n",
    "plt.plot(history['loss'])\n",
    "plt.plot(history['val_loss'])\n",
    "plt.ylabel('Loss',fontsize= 18)\n",
    "plt.xlabel('Epoch',fontsize= 18)\n",
    "plt.legend(['train', 'test'], loc='upper right', fontsize= 18);"
   ]
  },
  {
   "cell_type": "code",
   "execution_count": 209,
   "metadata": {},
   "outputs": [],
   "source": [
    "predictions = autoencoder.predict(X_test_scaled)"
   ]
  },
  {
   "cell_type": "code",
   "execution_count": 210,
   "metadata": {},
   "outputs": [],
   "source": [
    "mse = np.mean(np.power(X_test_scaled - predictions, 2), axis = 1)"
   ]
  },
  {
   "cell_type": "code",
   "execution_count": 211,
   "metadata": {},
   "outputs": [
    {
     "data": {
      "text/plain": [
       "array([[0.62376084, 1.        , 0.53846154, ..., 0.8372093 , 0.93726937,\n",
       "        0.85714286],\n",
       "       [0.65466181, 1.        , 0.61538462, ..., 0.86976744, 0.85239852,\n",
       "        0.65306122],\n",
       "       [0.60439022, 1.        , 0.82051282, ..., 0.54883721, 0.77859779,\n",
       "        0.49659864],\n",
       "       ...,\n",
       "       [0.62884864, 1.        , 0.69230769, ..., 0.82325581, 0.95571956,\n",
       "        0.8707483 ],\n",
       "       [0.61920634, 1.        , 0.84615385, ..., 0.73953488, 0.9298893 ,\n",
       "        0.86394558],\n",
       "       [0.80988487, 1.        , 0.69230769, ..., 0.46976744, 0.70110701,\n",
       "        0.49659864]])"
      ]
     },
     "execution_count": 211,
     "metadata": {},
     "output_type": "execute_result"
    }
   ],
   "source": [
    "X_test_scaled"
   ]
  },
  {
   "cell_type": "code",
   "execution_count": 212,
   "metadata": {},
   "outputs": [
    {
     "data": {
      "text/plain": [
       "array([[0.63904065, 0.99737114, 0.503886  , ..., 0.8197824 , 0.92461383,\n",
       "        0.85531014],\n",
       "       [0.63619286, 0.9972876 , 0.62682587, ..., 0.74943185, 0.8937933 ,\n",
       "        0.77727896],\n",
       "       [0.6442009 , 0.9966931 , 0.8464608 , ..., 0.52397543, 0.82657784,\n",
       "        0.54419655],\n",
       "       ...,\n",
       "       [0.6482315 , 0.99671465, 0.70069814, ..., 0.82755345, 0.921287  ,\n",
       "        0.85921466],\n",
       "       [0.6386895 , 0.9931417 , 0.8431104 , ..., 0.7794496 , 0.86796117,\n",
       "        0.8109228 ],\n",
       "       [0.6239326 , 0.9965568 , 0.842027  , ..., 0.47325236, 0.8967929 ,\n",
       "        0.6072778 ]], dtype=float32)"
      ]
     },
     "execution_count": 212,
     "metadata": {},
     "output_type": "execute_result"
    }
   ],
   "source": [
    "predictions"
   ]
  },
  {
   "cell_type": "code",
   "execution_count": 213,
   "metadata": {},
   "outputs": [
    {
     "data": {
      "text/html": [
       "<div>\n",
       "<style scoped>\n",
       "    .dataframe tbody tr th:only-of-type {\n",
       "        vertical-align: middle;\n",
       "    }\n",
       "\n",
       "    .dataframe tbody tr th {\n",
       "        vertical-align: top;\n",
       "    }\n",
       "\n",
       "    .dataframe thead th {\n",
       "        text-align: right;\n",
       "    }\n",
       "</style>\n",
       "<table border=\"1\" class=\"dataframe\">\n",
       "  <thead>\n",
       "    <tr style=\"text-align: right;\">\n",
       "      <th></th>\n",
       "      <th>reconstruction_error</th>\n",
       "      <th>Label</th>\n",
       "    </tr>\n",
       "  </thead>\n",
       "  <tbody>\n",
       "    <tr>\n",
       "      <td>count</td>\n",
       "      <td>910.000000</td>\n",
       "      <td>910.000000</td>\n",
       "    </tr>\n",
       "    <tr>\n",
       "      <td>mean</td>\n",
       "      <td>0.002630</td>\n",
       "      <td>0.026374</td>\n",
       "    </tr>\n",
       "    <tr>\n",
       "      <td>std</td>\n",
       "      <td>0.003521</td>\n",
       "      <td>0.160332</td>\n",
       "    </tr>\n",
       "    <tr>\n",
       "      <td>min</td>\n",
       "      <td>0.000031</td>\n",
       "      <td>0.000000</td>\n",
       "    </tr>\n",
       "    <tr>\n",
       "      <td>25%</td>\n",
       "      <td>0.000825</td>\n",
       "      <td>0.000000</td>\n",
       "    </tr>\n",
       "    <tr>\n",
       "      <td>50%</td>\n",
       "      <td>0.001515</td>\n",
       "      <td>0.000000</td>\n",
       "    </tr>\n",
       "    <tr>\n",
       "      <td>75%</td>\n",
       "      <td>0.003042</td>\n",
       "      <td>0.000000</td>\n",
       "    </tr>\n",
       "    <tr>\n",
       "      <td>max</td>\n",
       "      <td>0.031527</td>\n",
       "      <td>1.000000</td>\n",
       "    </tr>\n",
       "  </tbody>\n",
       "</table>\n",
       "</div>"
      ],
      "text/plain": [
       "       reconstruction_error       Label\n",
       "count            910.000000  910.000000\n",
       "mean               0.002630    0.026374\n",
       "std                0.003521    0.160332\n",
       "min                0.000031    0.000000\n",
       "25%                0.000825    0.000000\n",
       "50%                0.001515    0.000000\n",
       "75%                0.003042    0.000000\n",
       "max                0.031527    1.000000"
      ]
     },
     "execution_count": 213,
     "metadata": {},
     "output_type": "execute_result"
    }
   ],
   "source": [
    "df_error = pd.DataFrame({'reconstruction_error': mse, 'Label': y_test}, index=y_test.index)\n",
    "df_error.describe()"
   ]
  },
  {
   "cell_type": "code",
   "execution_count": 214,
   "metadata": {
    "scrolled": true
   },
   "outputs": [
    {
     "data": {
      "text/html": [
       "<div>\n",
       "<style scoped>\n",
       "    .dataframe tbody tr th:only-of-type {\n",
       "        vertical-align: middle;\n",
       "    }\n",
       "\n",
       "    .dataframe tbody tr th {\n",
       "        vertical-align: top;\n",
       "    }\n",
       "\n",
       "    .dataframe thead th {\n",
       "        text-align: right;\n",
       "    }\n",
       "</style>\n",
       "<table border=\"1\" class=\"dataframe\">\n",
       "  <thead>\n",
       "    <tr style=\"text-align: right;\">\n",
       "      <th></th>\n",
       "      <th>reconstruction_error</th>\n",
       "      <th>Label</th>\n",
       "    </tr>\n",
       "  </thead>\n",
       "  <tbody>\n",
       "    <tr>\n",
       "      <td>2351</td>\n",
       "      <td>0.001013</td>\n",
       "      <td>1</td>\n",
       "    </tr>\n",
       "    <tr>\n",
       "      <td>4031</td>\n",
       "      <td>0.016726</td>\n",
       "      <td>1</td>\n",
       "    </tr>\n",
       "    <tr>\n",
       "      <td>2441</td>\n",
       "      <td>0.001342</td>\n",
       "      <td>1</td>\n",
       "    </tr>\n",
       "    <tr>\n",
       "      <td>3854</td>\n",
       "      <td>0.002135</td>\n",
       "      <td>1</td>\n",
       "    </tr>\n",
       "    <tr>\n",
       "      <td>3823</td>\n",
       "      <td>0.002513</td>\n",
       "      <td>1</td>\n",
       "    </tr>\n",
       "    <tr>\n",
       "      <td>71</td>\n",
       "      <td>0.000637</td>\n",
       "      <td>1</td>\n",
       "    </tr>\n",
       "    <tr>\n",
       "      <td>3837</td>\n",
       "      <td>0.000891</td>\n",
       "      <td>1</td>\n",
       "    </tr>\n",
       "    <tr>\n",
       "      <td>3808</td>\n",
       "      <td>0.001558</td>\n",
       "      <td>1</td>\n",
       "    </tr>\n",
       "    <tr>\n",
       "      <td>45</td>\n",
       "      <td>0.002578</td>\n",
       "      <td>1</td>\n",
       "    </tr>\n",
       "    <tr>\n",
       "      <td>4231</td>\n",
       "      <td>0.001426</td>\n",
       "      <td>1</td>\n",
       "    </tr>\n",
       "    <tr>\n",
       "      <td>1861</td>\n",
       "      <td>0.001629</td>\n",
       "      <td>1</td>\n",
       "    </tr>\n",
       "    <tr>\n",
       "      <td>1321</td>\n",
       "      <td>0.000576</td>\n",
       "      <td>1</td>\n",
       "    </tr>\n",
       "    <tr>\n",
       "      <td>3821</td>\n",
       "      <td>0.021592</td>\n",
       "      <td>1</td>\n",
       "    </tr>\n",
       "    <tr>\n",
       "      <td>1381</td>\n",
       "      <td>0.009980</td>\n",
       "      <td>1</td>\n",
       "    </tr>\n",
       "    <tr>\n",
       "      <td>1738</td>\n",
       "      <td>0.004254</td>\n",
       "      <td>1</td>\n",
       "    </tr>\n",
       "    <tr>\n",
       "      <td>36</td>\n",
       "      <td>0.002120</td>\n",
       "      <td>1</td>\n",
       "    </tr>\n",
       "    <tr>\n",
       "      <td>2768</td>\n",
       "      <td>0.012501</td>\n",
       "      <td>1</td>\n",
       "    </tr>\n",
       "    <tr>\n",
       "      <td>2437</td>\n",
       "      <td>0.004826</td>\n",
       "      <td>1</td>\n",
       "    </tr>\n",
       "    <tr>\n",
       "      <td>62</td>\n",
       "      <td>0.002905</td>\n",
       "      <td>1</td>\n",
       "    </tr>\n",
       "    <tr>\n",
       "      <td>1328</td>\n",
       "      <td>0.005217</td>\n",
       "      <td>1</td>\n",
       "    </tr>\n",
       "    <tr>\n",
       "      <td>2355</td>\n",
       "      <td>0.006345</td>\n",
       "      <td>1</td>\n",
       "    </tr>\n",
       "    <tr>\n",
       "      <td>1000</td>\n",
       "      <td>0.003220</td>\n",
       "      <td>1</td>\n",
       "    </tr>\n",
       "    <tr>\n",
       "      <td>1266</td>\n",
       "      <td>0.000325</td>\n",
       "      <td>1</td>\n",
       "    </tr>\n",
       "    <tr>\n",
       "      <td>1329</td>\n",
       "      <td>0.004580</td>\n",
       "      <td>1</td>\n",
       "    </tr>\n",
       "  </tbody>\n",
       "</table>\n",
       "</div>"
      ],
      "text/plain": [
       "      reconstruction_error  Label\n",
       "2351              0.001013      1\n",
       "4031              0.016726      1\n",
       "2441              0.001342      1\n",
       "3854              0.002135      1\n",
       "3823              0.002513      1\n",
       "71                0.000637      1\n",
       "3837              0.000891      1\n",
       "3808              0.001558      1\n",
       "45                0.002578      1\n",
       "4231              0.001426      1\n",
       "1861              0.001629      1\n",
       "1321              0.000576      1\n",
       "3821              0.021592      1\n",
       "1381              0.009980      1\n",
       "1738              0.004254      1\n",
       "36                0.002120      1\n",
       "2768              0.012501      1\n",
       "2437              0.004826      1\n",
       "62                0.002905      1\n",
       "1328              0.005217      1\n",
       "2355              0.006345      1\n",
       "1000              0.003220      1\n",
       "1266              0.000325      1\n",
       "1329              0.004580      1"
      ]
     },
     "execution_count": 214,
     "metadata": {},
     "output_type": "execute_result"
    }
   ],
   "source": [
    "df_error[df_error['Label'] == 1]"
   ]
  },
  {
   "cell_type": "code",
   "execution_count": 215,
   "metadata": {},
   "outputs": [
    {
     "data": {
      "text/plain": [
       "Text(0.5, 1.0, 'Outlier Score')"
      ]
     },
     "execution_count": 215,
     "metadata": {},
     "output_type": "execute_result"
    },
    {
     "data": {
      "image/png": "[encoded data removed]",
      "text/plain": [
       "<Figure size 1152x576 with 1 Axes>"
      ]
     },
     "metadata": {
      "needs_background": "light"
     },
     "output_type": "display_data"
    }
   ],
   "source": [
    "\n",
    "plt.figure(figsize=(16,8))\n",
    "plt.scatter(df_error.index, df_error['reconstruction_error'],\n",
    "            c=df_error['Label'], edgecolor='black', s=25)\n",
    "plt.xlabel('Data Index', fontsize = 18)\n",
    "plt.ylabel('Reconstruction Error', fontsize = 18)\n",
    "plt.xlim((-100,4600))\n",
    "plt.title(\"Outlier Score\")"
   ]
  },
  {
   "cell_type": "code",
   "execution_count": 216,
   "metadata": {},
   "outputs": [
    {
     "data": {
      "text/html": [
       "<div>\n",
       "<style scoped>\n",
       "    .dataframe tbody tr th:only-of-type {\n",
       "        vertical-align: middle;\n",
       "    }\n",
       "\n",
       "    .dataframe tbody tr th {\n",
       "        vertical-align: top;\n",
       "    }\n",
       "\n",
       "    .dataframe thead th {\n",
       "        text-align: right;\n",
       "    }\n",
       "</style>\n",
       "<table border=\"1\" class=\"dataframe\">\n",
       "  <thead>\n",
       "    <tr style=\"text-align: right;\">\n",
       "      <th></th>\n",
       "      <th>reconstruction_error</th>\n",
       "      <th>Label</th>\n",
       "    </tr>\n",
       "  </thead>\n",
       "  <tbody>\n",
       "    <tr>\n",
       "      <td>4220</td>\n",
       "      <td>0.031527</td>\n",
       "      <td>0</td>\n",
       "    </tr>\n",
       "    <tr>\n",
       "      <td>4209</td>\n",
       "      <td>0.027825</td>\n",
       "      <td>0</td>\n",
       "    </tr>\n",
       "    <tr>\n",
       "      <td>4193</td>\n",
       "      <td>0.026763</td>\n",
       "      <td>0</td>\n",
       "    </tr>\n",
       "    <tr>\n",
       "      <td>4201</td>\n",
       "      <td>0.026690</td>\n",
       "      <td>0</td>\n",
       "    </tr>\n",
       "    <tr>\n",
       "      <td>3846</td>\n",
       "      <td>0.026252</td>\n",
       "      <td>0</td>\n",
       "    </tr>\n",
       "    <tr>\n",
       "      <td>4196</td>\n",
       "      <td>0.024618</td>\n",
       "      <td>0</td>\n",
       "    </tr>\n",
       "    <tr>\n",
       "      <td>3821</td>\n",
       "      <td>0.021592</td>\n",
       "      <td>1</td>\n",
       "    </tr>\n",
       "    <tr>\n",
       "      <td>2823</td>\n",
       "      <td>0.020102</td>\n",
       "      <td>0</td>\n",
       "    </tr>\n",
       "    <tr>\n",
       "      <td>2143</td>\n",
       "      <td>0.019611</td>\n",
       "      <td>0</td>\n",
       "    </tr>\n",
       "    <tr>\n",
       "      <td>1398</td>\n",
       "      <td>0.018835</td>\n",
       "      <td>0</td>\n",
       "    </tr>\n",
       "    <tr>\n",
       "      <td>4225</td>\n",
       "      <td>0.018245</td>\n",
       "      <td>0</td>\n",
       "    </tr>\n",
       "    <tr>\n",
       "      <td>3814</td>\n",
       "      <td>0.017956</td>\n",
       "      <td>0</td>\n",
       "    </tr>\n",
       "    <tr>\n",
       "      <td>4031</td>\n",
       "      <td>0.016726</td>\n",
       "      <td>1</td>\n",
       "    </tr>\n",
       "    <tr>\n",
       "      <td>4033</td>\n",
       "      <td>0.016444</td>\n",
       "      <td>0</td>\n",
       "    </tr>\n",
       "    <tr>\n",
       "      <td>2848</td>\n",
       "      <td>0.015861</td>\n",
       "      <td>0</td>\n",
       "    </tr>\n",
       "    <tr>\n",
       "      <td>2398</td>\n",
       "      <td>0.015351</td>\n",
       "      <td>0</td>\n",
       "    </tr>\n",
       "    <tr>\n",
       "      <td>2871</td>\n",
       "      <td>0.015017</td>\n",
       "      <td>0</td>\n",
       "    </tr>\n",
       "    <tr>\n",
       "      <td>2810</td>\n",
       "      <td>0.014810</td>\n",
       "      <td>0</td>\n",
       "    </tr>\n",
       "    <tr>\n",
       "      <td>3920</td>\n",
       "      <td>0.014731</td>\n",
       "      <td>0</td>\n",
       "    </tr>\n",
       "    <tr>\n",
       "      <td>2400</td>\n",
       "      <td>0.014532</td>\n",
       "      <td>0</td>\n",
       "    </tr>\n",
       "  </tbody>\n",
       "</table>\n",
       "</div>"
      ],
      "text/plain": [
       "      reconstruction_error  Label\n",
       "4220              0.031527      0\n",
       "4209              0.027825      0\n",
       "4193              0.026763      0\n",
       "4201              0.026690      0\n",
       "3846              0.026252      0\n",
       "4196              0.024618      0\n",
       "3821              0.021592      1\n",
       "2823              0.020102      0\n",
       "2143              0.019611      0\n",
       "1398              0.018835      0\n",
       "4225              0.018245      0\n",
       "3814              0.017956      0\n",
       "4031              0.016726      1\n",
       "4033              0.016444      0\n",
       "2848              0.015861      0\n",
       "2398              0.015351      0\n",
       "2871              0.015017      0\n",
       "2810              0.014810      0\n",
       "3920              0.014731      0\n",
       "2400              0.014532      0"
      ]
     },
     "execution_count": 216,
     "metadata": {},
     "output_type": "execute_result"
    }
   ],
   "source": [
    "df_error.sort_values(ascending=False, by = 'reconstruction_error').head(20)"
   ]
  },
  {
   "cell_type": "code",
   "execution_count": 217,
   "metadata": {},
   "outputs": [
    {
     "data": {
      "text/html": [
       "<div>\n",
       "<style scoped>\n",
       "    .dataframe tbody tr th:only-of-type {\n",
       "        vertical-align: middle;\n",
       "    }\n",
       "\n",
       "    .dataframe tbody tr th {\n",
       "        vertical-align: top;\n",
       "    }\n",
       "\n",
       "    .dataframe thead th {\n",
       "        text-align: right;\n",
       "    }\n",
       "</style>\n",
       "<table border=\"1\" class=\"dataframe\">\n",
       "  <thead>\n",
       "    <tr style=\"text-align: right;\">\n",
       "      <th></th>\n",
       "      <th>reconstruction_error</th>\n",
       "      <th>Label</th>\n",
       "    </tr>\n",
       "  </thead>\n",
       "  <tbody>\n",
       "    <tr>\n",
       "      <td>count</td>\n",
       "      <td>910.000000</td>\n",
       "      <td>910.000000</td>\n",
       "    </tr>\n",
       "    <tr>\n",
       "      <td>mean</td>\n",
       "      <td>0.002630</td>\n",
       "      <td>0.026374</td>\n",
       "    </tr>\n",
       "    <tr>\n",
       "      <td>std</td>\n",
       "      <td>0.003521</td>\n",
       "      <td>0.160332</td>\n",
       "    </tr>\n",
       "    <tr>\n",
       "      <td>min</td>\n",
       "      <td>0.000031</td>\n",
       "      <td>0.000000</td>\n",
       "    </tr>\n",
       "    <tr>\n",
       "      <td>25%</td>\n",
       "      <td>0.000825</td>\n",
       "      <td>0.000000</td>\n",
       "    </tr>\n",
       "    <tr>\n",
       "      <td>50%</td>\n",
       "      <td>0.001515</td>\n",
       "      <td>0.000000</td>\n",
       "    </tr>\n",
       "    <tr>\n",
       "      <td>75%</td>\n",
       "      <td>0.003042</td>\n",
       "      <td>0.000000</td>\n",
       "    </tr>\n",
       "    <tr>\n",
       "      <td>max</td>\n",
       "      <td>0.031527</td>\n",
       "      <td>1.000000</td>\n",
       "    </tr>\n",
       "  </tbody>\n",
       "</table>\n",
       "</div>"
      ],
      "text/plain": [
       "       reconstruction_error       Label\n",
       "count            910.000000  910.000000\n",
       "mean               0.002630    0.026374\n",
       "std                0.003521    0.160332\n",
       "min                0.000031    0.000000\n",
       "25%                0.000825    0.000000\n",
       "50%                0.001515    0.000000\n",
       "75%                0.003042    0.000000\n",
       "max                0.031527    1.000000"
      ]
     },
     "execution_count": 217,
     "metadata": {},
     "output_type": "execute_result"
    }
   ],
   "source": [
    "df_error.describe()"
   ]
  },
  {
   "cell_type": "code",
   "execution_count": 230,
   "metadata": {},
   "outputs": [],
   "source": [
    "outliers = df_error.index[df_error.reconstruction_error > 0.02].tolist()"
   ]
  },
  {
   "cell_type": "code",
   "execution_count": 231,
   "metadata": {},
   "outputs": [
    {
     "data": {
      "text/plain": [
       "8"
      ]
     },
     "execution_count": 231,
     "metadata": {},
     "output_type": "execute_result"
    }
   ],
   "source": [
    "len(outliers)"
   ]
  },
  {
   "cell_type": "code",
   "execution_count": 232,
   "metadata": {},
   "outputs": [],
   "source": [
    "data_n = pd.DataFrame(X_test_scaled, index= y_test.index, columns=numerical_cols)"
   ]
  },
  {
   "cell_type": "code",
   "execution_count": 233,
   "metadata": {},
   "outputs": [
    {
     "data": {
      "text/html": [
       "<div>\n",
       "<style scoped>\n",
       "    .dataframe tbody tr th:only-of-type {\n",
       "        vertical-align: middle;\n",
       "    }\n",
       "\n",
       "    .dataframe tbody tr th {\n",
       "        vertical-align: top;\n",
       "    }\n",
       "\n",
       "    .dataframe thead th {\n",
       "        text-align: right;\n",
       "    }\n",
       "</style>\n",
       "<table border=\"1\" class=\"dataframe\">\n",
       "  <thead>\n",
       "    <tr style=\"text-align: right;\">\n",
       "      <th></th>\n",
       "      <th>V_1</th>\n",
       "      <th>V_2</th>\n",
       "      <th>V_3</th>\n",
       "      <th>V_4</th>\n",
       "      <th>V_5</th>\n",
       "      <th>V_6</th>\n",
       "      <th>V_7</th>\n",
       "      <th>V_8</th>\n",
       "      <th>V_9</th>\n",
       "    </tr>\n",
       "  </thead>\n",
       "  <tbody>\n",
       "    <tr>\n",
       "      <td>1192</td>\n",
       "      <td>0.623761</td>\n",
       "      <td>1.0</td>\n",
       "      <td>0.538462</td>\n",
       "      <td>0.643411</td>\n",
       "      <td>0.000678</td>\n",
       "      <td>0.991848</td>\n",
       "      <td>0.837209</td>\n",
       "      <td>0.937269</td>\n",
       "      <td>0.857143</td>\n",
       "    </tr>\n",
       "    <tr>\n",
       "      <td>2689</td>\n",
       "      <td>0.654662</td>\n",
       "      <td>1.0</td>\n",
       "      <td>0.615385</td>\n",
       "      <td>0.705426</td>\n",
       "      <td>0.000169</td>\n",
       "      <td>0.940217</td>\n",
       "      <td>0.869767</td>\n",
       "      <td>0.852399</td>\n",
       "      <td>0.653061</td>\n",
       "    </tr>\n",
       "    <tr>\n",
       "      <td>2351</td>\n",
       "      <td>0.604390</td>\n",
       "      <td>1.0</td>\n",
       "      <td>0.820513</td>\n",
       "      <td>0.643411</td>\n",
       "      <td>0.000508</td>\n",
       "      <td>0.839674</td>\n",
       "      <td>0.548837</td>\n",
       "      <td>0.778598</td>\n",
       "      <td>0.496599</td>\n",
       "    </tr>\n",
       "    <tr>\n",
       "      <td>3121</td>\n",
       "      <td>0.667710</td>\n",
       "      <td>1.0</td>\n",
       "      <td>0.743590</td>\n",
       "      <td>0.395349</td>\n",
       "      <td>0.000847</td>\n",
       "      <td>0.836957</td>\n",
       "      <td>0.897674</td>\n",
       "      <td>0.789668</td>\n",
       "      <td>0.789116</td>\n",
       "    </tr>\n",
       "    <tr>\n",
       "      <td>4513</td>\n",
       "      <td>0.662489</td>\n",
       "      <td>1.0</td>\n",
       "      <td>0.820513</td>\n",
       "      <td>0.310078</td>\n",
       "      <td>0.001863</td>\n",
       "      <td>0.880435</td>\n",
       "      <td>0.586047</td>\n",
       "      <td>0.826568</td>\n",
       "      <td>0.741497</td>\n",
       "    </tr>\n",
       "  </tbody>\n",
       "</table>\n",
       "</div>"
      ],
      "text/plain": [
       "           V_1  V_2       V_3       V_4       V_5       V_6       V_7  \\\n",
       "1192  0.623761  1.0  0.538462  0.643411  0.000678  0.991848  0.837209   \n",
       "2689  0.654662  1.0  0.615385  0.705426  0.000169  0.940217  0.869767   \n",
       "2351  0.604390  1.0  0.820513  0.643411  0.000508  0.839674  0.548837   \n",
       "3121  0.667710  1.0  0.743590  0.395349  0.000847  0.836957  0.897674   \n",
       "4513  0.662489  1.0  0.820513  0.310078  0.001863  0.880435  0.586047   \n",
       "\n",
       "           V_8       V_9  \n",
       "1192  0.937269  0.857143  \n",
       "2689  0.852399  0.653061  \n",
       "2351  0.778598  0.496599  \n",
       "3121  0.789668  0.789116  \n",
       "4513  0.826568  0.741497  "
      ]
     },
     "execution_count": 233,
     "metadata": {},
     "output_type": "execute_result"
    }
   ],
   "source": [
    "data_n.head()"
   ]
  },
  {
   "cell_type": "code",
   "execution_count": 234,
   "metadata": {},
   "outputs": [],
   "source": [
    "def compute_error_per_dim(point):\n",
    "    \n",
    "    initial_pt = np.array(data_n.loc[point,:]).reshape(1,9)\n",
    "    reconstrcuted_pt = autoencoder.predict(initial_pt)\n",
    "    \n",
    "    return abs(np.array(initial_pt  - reconstrcuted_pt)[0])"
   ]
  },
  {
   "cell_type": "code",
   "execution_count": 235,
   "metadata": {
    "scrolled": false
   },
   "outputs": [
    {
     "data": {
      "image/png": "[encoded data removed]",
      "text/plain": [
       "<Figure size 720x432 with 1 Axes>"
      ]
     },
     "metadata": {
      "needs_background": "light"
     },
     "output_type": "display_data"
    },
    {
     "data": {
      "image/png": "[encoded data removed]",
      "text/plain": [
       "<Figure size 720x432 with 1 Axes>"
      ]
     },
     "metadata": {
      "needs_background": "light"
     },
     "output_type": "display_data"
    },
    {
     "data": {
      "image/png": "[encoded data removed]",
      "text/plain": [
       "<Figure size 720x432 with 1 Axes>"
      ]
     },
     "metadata": {
      "needs_background": "light"
     },
     "output_type": "display_data"
    },
    {
     "data": {
      "image/png": "[encoded data removed]",
      "text/plain": [
       "<Figure size 720x432 with 1 Axes>"
      ]
     },
     "metadata": {
      "needs_background": "light"
     },
     "output_type": "display_data"
    },
    {
     "data": {
      "image/png": "[encoded data removed]",
      "text/plain": [
       "<Figure size 720x432 with 1 Axes>"
      ]
     },
     "metadata": {
      "needs_background": "light"
     },
     "output_type": "display_data"
    },
    {
     "data": {
      "image/png": "[encoded data removed]",
      "text/plain": [
       "<Figure size 720x432 with 1 Axes>"
      ]
     },
     "metadata": {
      "needs_background": "light"
     },
     "output_type": "display_data"
    },
    {
     "data": {
      "image/png": "[encoded data removed]",
      "text/plain": [
       "<Figure size 720x432 with 1 Axes>"
      ]
     },
     "metadata": {
      "needs_background": "light"
     },
     "output_type": "display_data"
    },
    {
     "data": {
      "image/png": "[encoded data removed]",
      "text/plain": [
       "<Figure size 720x432 with 1 Axes>"
      ]
     },
     "metadata": {
      "needs_background": "light"
     },
     "output_type": "display_data"
    }
   ],
   "source": [
    "for i in outliers[:10]:\n",
    "    \n",
    "    plt.figure(figsize=(10,6))\n",
    "    objects = tuple(numerical_cols) \n",
    "    y_pos   = np.arange(len(objects))\n",
    "    x       = np.arange(len(objects))\n",
    "    y       = compute_error_per_dim(i).tolist()\n",
    "    plt.ylim([0, 1.0])\n",
    "    plt.bar(x, y, align='center', alpha=0.5)\n",
    "    plt.xticks(y_pos, objects)\n",
    "    plt.xlabel('Variables',fontsize=18)\n",
    "    plt.ylabel('Reconstruction Error', fontsize=18)\n",
    "    plt.title('Reconstruction Error-vs-Variables of {}'.format(i))"
   ]
  },
  {
   "cell_type": "code",
   "execution_count": null,
   "metadata": {},
   "outputs": [],
   "source": []
  },
  {
   "cell_type": "code",
   "execution_count": null,
   "metadata": {},
   "outputs": [],
   "source": []
  },
  {
   "cell_type": "code",
   "execution_count": null,
   "metadata": {},
   "outputs": [],
   "source": []
  }
 ],
 "metadata": {
  "kernelspec": {
   "display_name": "Python 3",
   "language": "python",
   "name": "python3"
  },
  "language_info": {
   "codemirror_mode": {
    "name": "ipython",
    "version": 3
   },
   "file_extension": ".py",
   "mimetype": "text/x-python",
   "name": "python",
   "nbconvert_exporter": "python",
   "pygments_lexer": "ipython3",
   "version": "3.7.4"
  }
 },
 "nbformat": 4,
 "nbformat_minor": 2
}
