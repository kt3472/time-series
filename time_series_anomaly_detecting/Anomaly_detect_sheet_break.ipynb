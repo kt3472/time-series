{
 "cells": [
  {
   "cell_type": "code",
   "execution_count": 1,
   "metadata": {},
   "outputs": [
    {
     "name": "stderr",
     "output_type": "stream",
     "text": [
      "\n",
      "Bad key \"text.kerning_factor\" on line 4 in\n",
      "C:\\anaconda3\\lib\\site-packages\\matplotlib\\mpl-data\\stylelib\\_classic_test_patch.mplstyle.\n",
      "You probably need to get an updated matplotlibrc file from\n",
      "https://github.com/matplotlib/matplotlib/blob/v3.1.3/matplotlibrc.template\n",
      "or from the matplotlib source distribution\n"
     ]
    }
   ],
   "source": [
    "# reference : https://jaehyeongan.github.io/2020/02/29/LSTM-Autoencoder-for-Anomaly-Detection/\n",
    "\n",
    "\n",
    "import pandas as pd \n",
    "import numpy as np\n",
    "import matplotlib.pyplot as plt\n",
    "import seaborn as sns\n",
    "from pylab import rcParams\n",
    "from collections import Counter\n",
    "import tensorflow as tf\n",
    "from tensorflow.keras import Model ,models, layers, optimizers, regularizers\n",
    "from tensorflow.keras.callbacks import ModelCheckpoint\n",
    "\n",
    "from sklearn.preprocessing import StandardScaler\n",
    "from sklearn.model_selection import train_test_split\n",
    "from sklearn import metrics"
   ]
  },
  {
   "cell_type": "code",
   "execution_count": 2,
   "metadata": {},
   "outputs": [],
   "source": [
    "labels_1 = ['Normal', 'Break']"
   ]
  },
  {
   "cell_type": "code",
   "execution_count": 3,
   "metadata": {},
   "outputs": [
    {
     "data": {
      "text/html": [
       "<div>\n",
       "<style scoped>\n",
       "    .dataframe tbody tr th:only-of-type {\n",
       "        vertical-align: middle;\n",
       "    }\n",
       "\n",
       "    .dataframe tbody tr th {\n",
       "        vertical-align: top;\n",
       "    }\n",
       "\n",
       "    .dataframe thead th {\n",
       "        text-align: right;\n",
       "    }\n",
       "</style>\n",
       "<table border=\"1\" class=\"dataframe\">\n",
       "  <thead>\n",
       "    <tr style=\"text-align: right;\">\n",
       "      <th></th>\n",
       "      <th>time</th>\n",
       "      <th>y</th>\n",
       "      <th>x1</th>\n",
       "      <th>x2</th>\n",
       "      <th>x3</th>\n",
       "      <th>x4</th>\n",
       "      <th>x5</th>\n",
       "      <th>x6</th>\n",
       "      <th>x7</th>\n",
       "      <th>x8</th>\n",
       "      <th>...</th>\n",
       "      <th>x52</th>\n",
       "      <th>x53</th>\n",
       "      <th>x54</th>\n",
       "      <th>x55</th>\n",
       "      <th>x56</th>\n",
       "      <th>x57</th>\n",
       "      <th>x58</th>\n",
       "      <th>x59</th>\n",
       "      <th>x60</th>\n",
       "      <th>x61</th>\n",
       "    </tr>\n",
       "  </thead>\n",
       "  <tbody>\n",
       "    <tr>\n",
       "      <th>0</th>\n",
       "      <td>5/1/99 0:00</td>\n",
       "      <td>0</td>\n",
       "      <td>0.376665</td>\n",
       "      <td>-4.596435</td>\n",
       "      <td>-4.095756</td>\n",
       "      <td>13.497687</td>\n",
       "      <td>-0.118830</td>\n",
       "      <td>-20.669883</td>\n",
       "      <td>0.000732</td>\n",
       "      <td>-0.061114</td>\n",
       "      <td>...</td>\n",
       "      <td>10.091721</td>\n",
       "      <td>0.053279</td>\n",
       "      <td>-4.936434</td>\n",
       "      <td>-24.590146</td>\n",
       "      <td>18.515436</td>\n",
       "      <td>3.473400</td>\n",
       "      <td>0.033444</td>\n",
       "      <td>0.953219</td>\n",
       "      <td>0.006076</td>\n",
       "      <td>0</td>\n",
       "    </tr>\n",
       "    <tr>\n",
       "      <th>1</th>\n",
       "      <td>5/1/99 0:02</td>\n",
       "      <td>0</td>\n",
       "      <td>0.475720</td>\n",
       "      <td>-4.542502</td>\n",
       "      <td>-4.018359</td>\n",
       "      <td>16.230659</td>\n",
       "      <td>-0.128733</td>\n",
       "      <td>-18.758079</td>\n",
       "      <td>0.000732</td>\n",
       "      <td>-0.061114</td>\n",
       "      <td>...</td>\n",
       "      <td>10.095871</td>\n",
       "      <td>0.062801</td>\n",
       "      <td>-4.937179</td>\n",
       "      <td>-32.413266</td>\n",
       "      <td>22.760065</td>\n",
       "      <td>2.682933</td>\n",
       "      <td>0.033536</td>\n",
       "      <td>1.090502</td>\n",
       "      <td>0.006083</td>\n",
       "      <td>0</td>\n",
       "    </tr>\n",
       "    <tr>\n",
       "      <th>2</th>\n",
       "      <td>5/1/99 0:04</td>\n",
       "      <td>0</td>\n",
       "      <td>0.363848</td>\n",
       "      <td>-4.681394</td>\n",
       "      <td>-4.353147</td>\n",
       "      <td>14.127998</td>\n",
       "      <td>-0.138636</td>\n",
       "      <td>-17.836632</td>\n",
       "      <td>0.010803</td>\n",
       "      <td>-0.061114</td>\n",
       "      <td>...</td>\n",
       "      <td>10.100265</td>\n",
       "      <td>0.072322</td>\n",
       "      <td>-4.937924</td>\n",
       "      <td>-34.183774</td>\n",
       "      <td>27.004663</td>\n",
       "      <td>3.537487</td>\n",
       "      <td>0.033629</td>\n",
       "      <td>1.840540</td>\n",
       "      <td>0.006090</td>\n",
       "      <td>0</td>\n",
       "    </tr>\n",
       "    <tr>\n",
       "      <th>3</th>\n",
       "      <td>5/1/99 0:06</td>\n",
       "      <td>0</td>\n",
       "      <td>0.301590</td>\n",
       "      <td>-4.758934</td>\n",
       "      <td>-4.023612</td>\n",
       "      <td>13.161567</td>\n",
       "      <td>-0.148142</td>\n",
       "      <td>-18.517601</td>\n",
       "      <td>0.002075</td>\n",
       "      <td>-0.061114</td>\n",
       "      <td>...</td>\n",
       "      <td>10.104660</td>\n",
       "      <td>0.081600</td>\n",
       "      <td>-4.938669</td>\n",
       "      <td>-35.954281</td>\n",
       "      <td>21.672449</td>\n",
       "      <td>3.986095</td>\n",
       "      <td>0.033721</td>\n",
       "      <td>2.554880</td>\n",
       "      <td>0.006097</td>\n",
       "      <td>0</td>\n",
       "    </tr>\n",
       "    <tr>\n",
       "      <th>4</th>\n",
       "      <td>5/1/99 0:08</td>\n",
       "      <td>0</td>\n",
       "      <td>0.265578</td>\n",
       "      <td>-4.749928</td>\n",
       "      <td>-4.333150</td>\n",
       "      <td>15.267340</td>\n",
       "      <td>-0.155314</td>\n",
       "      <td>-17.505913</td>\n",
       "      <td>0.000732</td>\n",
       "      <td>-0.061114</td>\n",
       "      <td>...</td>\n",
       "      <td>10.109054</td>\n",
       "      <td>0.091121</td>\n",
       "      <td>-4.939414</td>\n",
       "      <td>-37.724789</td>\n",
       "      <td>21.907251</td>\n",
       "      <td>3.601573</td>\n",
       "      <td>0.033777</td>\n",
       "      <td>1.410494</td>\n",
       "      <td>0.006105</td>\n",
       "      <td>0</td>\n",
       "    </tr>\n",
       "  </tbody>\n",
       "</table>\n",
       "<p>5 rows × 63 columns</p>\n",
       "</div>"
      ],
      "text/plain": [
       "          time  y        x1        x2        x3         x4        x5  \\\n",
       "0  5/1/99 0:00  0  0.376665 -4.596435 -4.095756  13.497687 -0.118830   \n",
       "1  5/1/99 0:02  0  0.475720 -4.542502 -4.018359  16.230659 -0.128733   \n",
       "2  5/1/99 0:04  0  0.363848 -4.681394 -4.353147  14.127998 -0.138636   \n",
       "3  5/1/99 0:06  0  0.301590 -4.758934 -4.023612  13.161567 -0.148142   \n",
       "4  5/1/99 0:08  0  0.265578 -4.749928 -4.333150  15.267340 -0.155314   \n",
       "\n",
       "          x6        x7        x8  ...        x52       x53       x54  \\\n",
       "0 -20.669883  0.000732 -0.061114  ...  10.091721  0.053279 -4.936434   \n",
       "1 -18.758079  0.000732 -0.061114  ...  10.095871  0.062801 -4.937179   \n",
       "2 -17.836632  0.010803 -0.061114  ...  10.100265  0.072322 -4.937924   \n",
       "3 -18.517601  0.002075 -0.061114  ...  10.104660  0.081600 -4.938669   \n",
       "4 -17.505913  0.000732 -0.061114  ...  10.109054  0.091121 -4.939414   \n",
       "\n",
       "         x55        x56       x57       x58       x59       x60  x61  \n",
       "0 -24.590146  18.515436  3.473400  0.033444  0.953219  0.006076    0  \n",
       "1 -32.413266  22.760065  2.682933  0.033536  1.090502  0.006083    0  \n",
       "2 -34.183774  27.004663  3.537487  0.033629  1.840540  0.006090    0  \n",
       "3 -35.954281  21.672449  3.986095  0.033721  2.554880  0.006097    0  \n",
       "4 -37.724789  21.907251  3.601573  0.033777  1.410494  0.006105    0  \n",
       "\n",
       "[5 rows x 63 columns]"
      ]
     },
     "execution_count": 3,
     "metadata": {},
     "output_type": "execute_result"
    }
   ],
   "source": [
    "df = pd.read_csv('./data/processminer-rare-event-mts-csv.csv')\n",
    "df.head()"
   ]
  },
  {
   "cell_type": "code",
   "execution_count": 4,
   "metadata": {},
   "outputs": [
    {
     "data": {
      "text/plain": [
       "Counter({0: 18274, 1: 124})"
      ]
     },
     "execution_count": 4,
     "metadata": {},
     "output_type": "execute_result"
    }
   ],
   "source": [
    "Counter(df['y'])"
   ]
  },
  {
   "cell_type": "code",
   "execution_count": 5,
   "metadata": {},
   "outputs": [],
   "source": [
    "sign = lambda x: (1,-1)[x < 0]"
   ]
  },
  {
   "cell_type": "code",
   "execution_count": 6,
   "metadata": {},
   "outputs": [
    {
     "data": {
      "text/plain": [
       "<function __main__.<lambda>(x)>"
      ]
     },
     "execution_count": 6,
     "metadata": {},
     "output_type": "execute_result"
    }
   ],
   "source": [
    "sign"
   ]
  },
  {
   "cell_type": "code",
   "execution_count": 9,
   "metadata": {},
   "outputs": [],
   "source": [
    "def curve_shift(df, shift_by):\n",
    "    vector = df['y'].copy()\n",
    "    for s in range(abs(shift_by)):\n",
    "        tmp = vector.shift(sign(shift_by))\n",
    "        tmp = tmp.fillna(0)\n",
    "        vector += tmp\n",
    "    labelcol = 'y'\n",
    "    # Add vector to the df\n",
    "    df.insert(loc=0, column=labelcol+'tmp', value=vector)\n",
    "\n",
    "    # Remove the rows with labelcol == 1.\n",
    "    df = df.drop(df[df[labelcol] == 1].index)\n",
    "\n",
    "    # Drop labelcol and rename the tmp col as labelcol\n",
    "    df = df.drop(labelcol, axis=1)\n",
    "    df = df.rename(columns={labelcol+'tmp': labelcol})\n",
    "\n",
    "    # Make the labelcol binary\n",
    "    df.loc[df[labelcol] > 0, labelcol] = 1\n",
    "\n",
    "    return df"
   ]
  },
  {
   "cell_type": "code",
   "execution_count": 10,
   "metadata": {},
   "outputs": [
    {
     "data": {
      "text/html": [
       "<div>\n",
       "<style scoped>\n",
       "    .dataframe tbody tr th:only-of-type {\n",
       "        vertical-align: middle;\n",
       "    }\n",
       "\n",
       "    .dataframe tbody tr th {\n",
       "        vertical-align: top;\n",
       "    }\n",
       "\n",
       "    .dataframe thead th {\n",
       "        text-align: right;\n",
       "    }\n",
       "</style>\n",
       "<table border=\"1\" class=\"dataframe\">\n",
       "  <thead>\n",
       "    <tr style=\"text-align: right;\">\n",
       "      <th></th>\n",
       "      <th>y</th>\n",
       "      <th>time</th>\n",
       "      <th>x1</th>\n",
       "      <th>x2</th>\n",
       "      <th>x3</th>\n",
       "      <th>x4</th>\n",
       "      <th>x5</th>\n",
       "      <th>x6</th>\n",
       "      <th>x7</th>\n",
       "      <th>x8</th>\n",
       "      <th>...</th>\n",
       "      <th>x52</th>\n",
       "      <th>x53</th>\n",
       "      <th>x54</th>\n",
       "      <th>x55</th>\n",
       "      <th>x56</th>\n",
       "      <th>x57</th>\n",
       "      <th>x58</th>\n",
       "      <th>x59</th>\n",
       "      <th>x60</th>\n",
       "      <th>x61</th>\n",
       "    </tr>\n",
       "  </thead>\n",
       "  <tbody>\n",
       "    <tr>\n",
       "      <th>0</th>\n",
       "      <td>0.0</td>\n",
       "      <td>5/1/99 0:00</td>\n",
       "      <td>0.376665</td>\n",
       "      <td>-4.596435</td>\n",
       "      <td>-4.095756</td>\n",
       "      <td>13.497687</td>\n",
       "      <td>-0.118830</td>\n",
       "      <td>-20.669883</td>\n",
       "      <td>0.000732</td>\n",
       "      <td>-0.061114</td>\n",
       "      <td>...</td>\n",
       "      <td>10.091721</td>\n",
       "      <td>0.053279</td>\n",
       "      <td>-4.936434</td>\n",
       "      <td>-24.590146</td>\n",
       "      <td>18.515436</td>\n",
       "      <td>3.473400</td>\n",
       "      <td>0.033444</td>\n",
       "      <td>0.953219</td>\n",
       "      <td>0.006076</td>\n",
       "      <td>0</td>\n",
       "    </tr>\n",
       "    <tr>\n",
       "      <th>1</th>\n",
       "      <td>0.0</td>\n",
       "      <td>5/1/99 0:02</td>\n",
       "      <td>0.475720</td>\n",
       "      <td>-4.542502</td>\n",
       "      <td>-4.018359</td>\n",
       "      <td>16.230659</td>\n",
       "      <td>-0.128733</td>\n",
       "      <td>-18.758079</td>\n",
       "      <td>0.000732</td>\n",
       "      <td>-0.061114</td>\n",
       "      <td>...</td>\n",
       "      <td>10.095871</td>\n",
       "      <td>0.062801</td>\n",
       "      <td>-4.937179</td>\n",
       "      <td>-32.413266</td>\n",
       "      <td>22.760065</td>\n",
       "      <td>2.682933</td>\n",
       "      <td>0.033536</td>\n",
       "      <td>1.090502</td>\n",
       "      <td>0.006083</td>\n",
       "      <td>0</td>\n",
       "    </tr>\n",
       "    <tr>\n",
       "      <th>2</th>\n",
       "      <td>0.0</td>\n",
       "      <td>5/1/99 0:04</td>\n",
       "      <td>0.363848</td>\n",
       "      <td>-4.681394</td>\n",
       "      <td>-4.353147</td>\n",
       "      <td>14.127998</td>\n",
       "      <td>-0.138636</td>\n",
       "      <td>-17.836632</td>\n",
       "      <td>0.010803</td>\n",
       "      <td>-0.061114</td>\n",
       "      <td>...</td>\n",
       "      <td>10.100265</td>\n",
       "      <td>0.072322</td>\n",
       "      <td>-4.937924</td>\n",
       "      <td>-34.183774</td>\n",
       "      <td>27.004663</td>\n",
       "      <td>3.537487</td>\n",
       "      <td>0.033629</td>\n",
       "      <td>1.840540</td>\n",
       "      <td>0.006090</td>\n",
       "      <td>0</td>\n",
       "    </tr>\n",
       "    <tr>\n",
       "      <th>3</th>\n",
       "      <td>0.0</td>\n",
       "      <td>5/1/99 0:06</td>\n",
       "      <td>0.301590</td>\n",
       "      <td>-4.758934</td>\n",
       "      <td>-4.023612</td>\n",
       "      <td>13.161567</td>\n",
       "      <td>-0.148142</td>\n",
       "      <td>-18.517601</td>\n",
       "      <td>0.002075</td>\n",
       "      <td>-0.061114</td>\n",
       "      <td>...</td>\n",
       "      <td>10.104660</td>\n",
       "      <td>0.081600</td>\n",
       "      <td>-4.938669</td>\n",
       "      <td>-35.954281</td>\n",
       "      <td>21.672449</td>\n",
       "      <td>3.986095</td>\n",
       "      <td>0.033721</td>\n",
       "      <td>2.554880</td>\n",
       "      <td>0.006097</td>\n",
       "      <td>0</td>\n",
       "    </tr>\n",
       "    <tr>\n",
       "      <th>4</th>\n",
       "      <td>0.0</td>\n",
       "      <td>5/1/99 0:08</td>\n",
       "      <td>0.265578</td>\n",
       "      <td>-4.749928</td>\n",
       "      <td>-4.333150</td>\n",
       "      <td>15.267340</td>\n",
       "      <td>-0.155314</td>\n",
       "      <td>-17.505913</td>\n",
       "      <td>0.000732</td>\n",
       "      <td>-0.061114</td>\n",
       "      <td>...</td>\n",
       "      <td>10.109054</td>\n",
       "      <td>0.091121</td>\n",
       "      <td>-4.939414</td>\n",
       "      <td>-37.724789</td>\n",
       "      <td>21.907251</td>\n",
       "      <td>3.601573</td>\n",
       "      <td>0.033777</td>\n",
       "      <td>1.410494</td>\n",
       "      <td>0.006105</td>\n",
       "      <td>0</td>\n",
       "    </tr>\n",
       "  </tbody>\n",
       "</table>\n",
       "<p>5 rows × 63 columns</p>\n",
       "</div>"
      ],
      "text/plain": [
       "     y         time        x1        x2        x3         x4        x5  \\\n",
       "0  0.0  5/1/99 0:00  0.376665 -4.596435 -4.095756  13.497687 -0.118830   \n",
       "1  0.0  5/1/99 0:02  0.475720 -4.542502 -4.018359  16.230659 -0.128733   \n",
       "2  0.0  5/1/99 0:04  0.363848 -4.681394 -4.353147  14.127998 -0.138636   \n",
       "3  0.0  5/1/99 0:06  0.301590 -4.758934 -4.023612  13.161567 -0.148142   \n",
       "4  0.0  5/1/99 0:08  0.265578 -4.749928 -4.333150  15.267340 -0.155314   \n",
       "\n",
       "          x6        x7        x8  ...        x52       x53       x54  \\\n",
       "0 -20.669883  0.000732 -0.061114  ...  10.091721  0.053279 -4.936434   \n",
       "1 -18.758079  0.000732 -0.061114  ...  10.095871  0.062801 -4.937179   \n",
       "2 -17.836632  0.010803 -0.061114  ...  10.100265  0.072322 -4.937924   \n",
       "3 -18.517601  0.002075 -0.061114  ...  10.104660  0.081600 -4.938669   \n",
       "4 -17.505913  0.000732 -0.061114  ...  10.109054  0.091121 -4.939414   \n",
       "\n",
       "         x55        x56       x57       x58       x59       x60  x61  \n",
       "0 -24.590146  18.515436  3.473400  0.033444  0.953219  0.006076    0  \n",
       "1 -32.413266  22.760065  2.682933  0.033536  1.090502  0.006083    0  \n",
       "2 -34.183774  27.004663  3.537487  0.033629  1.840540  0.006090    0  \n",
       "3 -35.954281  21.672449  3.986095  0.033721  2.554880  0.006097    0  \n",
       "4 -37.724789  21.907251  3.601573  0.033777  1.410494  0.006105    0  \n",
       "\n",
       "[5 rows x 63 columns]"
      ]
     },
     "execution_count": 10,
     "metadata": {},
     "output_type": "execute_result"
    }
   ],
   "source": [
    "shifted_df = curve_shift(df, shift_by = -5)\n",
    "shifted_df.head()"
   ]
  },
  {
   "cell_type": "code",
   "execution_count": 11,
   "metadata": {},
   "outputs": [
    {
     "data": {
      "text/plain": [
       "y       0\n",
       "time    0\n",
       "x1      0\n",
       "x2      0\n",
       "x3      0\n",
       "       ..\n",
       "x57     0\n",
       "x58     0\n",
       "x59     0\n",
       "x60     0\n",
       "x61     0\n",
       "Length: 63, dtype: int64"
      ]
     },
     "execution_count": 11,
     "metadata": {},
     "output_type": "execute_result"
    }
   ],
   "source": [
    "shifted_df.isna().sum()"
   ]
  },
  {
   "cell_type": "code",
   "execution_count": 16,
   "metadata": {},
   "outputs": [
    {
     "name": "stdout",
     "output_type": "stream",
     "text": [
      "y 2\n",
      "time 18274\n",
      "x1 13995\n",
      "x2 15665\n",
      "x3 16507\n",
      "x4 17486\n",
      "x5 15797\n",
      "x6 18129\n",
      "x7 2006\n",
      "x8 1423\n",
      "x9 2899\n",
      "x10 2350\n",
      "x11 15360\n",
      "x12 14468\n",
      "x13 16982\n",
      "x14 1616\n",
      "x15 16177\n",
      "x16 13607\n",
      "x17 12810\n",
      "x18 12550\n",
      "x19 5760\n",
      "x20 3435\n",
      "x21 3679\n",
      "x22 9159\n",
      "x23 9272\n",
      "x24 9347\n",
      "x25 10815\n",
      "x26 17491\n",
      "x27 16991\n",
      "x28 8\n",
      "x29 15854\n",
      "x30 14853\n",
      "x31 12491\n",
      "x32 11517\n",
      "x33 1880\n",
      "x34 17957\n",
      "x35 10639\n",
      "x36 2495\n",
      "x37 2483\n",
      "x38 3314\n",
      "x39 3508\n",
      "x40 145\n",
      "x41 15644\n",
      "x42 16390\n",
      "x43 1200\n",
      "x44 17809\n",
      "x45 14999\n",
      "x46 6958\n",
      "x47 17879\n",
      "x48 12729\n",
      "x49 17778\n",
      "x50 10728\n",
      "x51 2722\n",
      "x52 11172\n",
      "x53 10863\n",
      "x54 15979\n",
      "x55 17449\n",
      "x56 17777\n",
      "x57 1105\n",
      "x58 12954\n",
      "x59 12161\n",
      "x60 10758\n",
      "x61 1\n"
     ]
    }
   ],
   "source": [
    "for i in shifted_df.columns:\n",
    "    \n",
    "    \n",
    "    print(i, len(shifted_df[i].value_counts()))"
   ]
  },
  {
   "cell_type": "code",
   "execution_count": 17,
   "metadata": {},
   "outputs": [],
   "source": [
    "# drop remove columns\n",
    "shifted_df = shifted_df.drop(['time','x28','x61'], axis=1)\n",
    "\n",
    "# x, y\n",
    "input_x = shifted_df.drop('y', axis=1).values\n",
    "input_y = shifted_df['y'].values\n",
    "\n",
    "n_features = input_x.shape[1]"
   ]
  },
  {
   "cell_type": "code",
   "execution_count": 18,
   "metadata": {},
   "outputs": [
    {
     "data": {
      "text/plain": [
       "59"
      ]
     },
     "execution_count": 18,
     "metadata": {},
     "output_type": "execute_result"
    }
   ],
   "source": [
    "n_features"
   ]
  },
  {
   "cell_type": "code",
   "execution_count": 19,
   "metadata": {},
   "outputs": [
    {
     "data": {
      "text/plain": [
       "(18274, 60)"
      ]
     },
     "execution_count": 19,
     "metadata": {},
     "output_type": "execute_result"
    }
   ],
   "source": [
    "shifted_df.shape"
   ]
  },
  {
   "cell_type": "code",
   "execution_count": 21,
   "metadata": {},
   "outputs": [
    {
     "data": {
      "text/plain": [
       "(18274, 59)"
      ]
     },
     "execution_count": 21,
     "metadata": {},
     "output_type": "execute_result"
    }
   ],
   "source": [
    "input_x.shape"
   ]
  },
  {
   "cell_type": "code",
   "execution_count": 22,
   "metadata": {},
   "outputs": [
    {
     "data": {
      "text/plain": [
       "(18274,)"
      ]
     },
     "execution_count": 22,
     "metadata": {},
     "output_type": "execute_result"
    }
   ],
   "source": [
    "input_y.shape"
   ]
  },
  {
   "cell_type": "code",
   "execution_count": 23,
   "metadata": {},
   "outputs": [],
   "source": [
    "def temporalize(X, y, timesteps):\n",
    "    \n",
    "    output_X = []\n",
    "    output_y = []\n",
    "    \n",
    "    for i in range(len(X)-timesteps -1):\n",
    "        \n",
    "        t = []\n",
    "        \n",
    "        for j in range(1, timesteps +1):\n",
    "            \n",
    "            t.append(X[[(i+j+1)], :])\n",
    "            \n",
    "        output_X.append(t)\n",
    "        output_y.append(y[i+timesteps+1])\n",
    "        \n",
    "        \n",
    "    return np.squeeze(np.array(output_X)), np.array(output_y)\n",
    "    \n",
    "    "
   ]
  },
  {
   "cell_type": "code",
   "execution_count": 24,
   "metadata": {},
   "outputs": [
    {
     "name": "stdout",
     "output_type": "stream",
     "text": [
      "(18268, 5, 59)\n"
     ]
    }
   ],
   "source": [
    "timesteps = 5\n",
    "\n",
    "# Temporalize\n",
    "x, y = temporalize(input_x, input_y, timesteps)\n",
    "print(x.shape) # (18268, 5, 59)"
   ]
  },
  {
   "cell_type": "code",
   "execution_count": 25,
   "metadata": {},
   "outputs": [],
   "source": [
    "# Split into train, valid, and test \n",
    "x_train, x_test, y_train, y_test = train_test_split(x, y, test_size=0.2)\n",
    "x_train, x_valid, y_train, y_valid = train_test_split(x_train,\n",
    "                                                      y_train,\n",
    "                                                      test_size=0.2)\n",
    "\n"
   ]
  },
  {
   "cell_type": "code",
   "execution_count": 26,
   "metadata": {},
   "outputs": [
    {
     "name": "stdout",
     "output_type": "stream",
     "text": [
      "11691\n",
      "2923\n",
      "3654\n"
     ]
    }
   ],
   "source": [
    "print(len(x_train))  # 11691\n",
    "print(len(x_valid))  # 2923\n",
    "print(len(x_test))   # 3654"
   ]
  },
  {
   "cell_type": "code",
   "execution_count": 27,
   "metadata": {},
   "outputs": [],
   "source": [
    "x_train_y0 = x_train[y_train == 0]\n",
    "x_train_y1 = x_train[y_train == 1]\n",
    "\n",
    "x_valid_y0 = x_valid[y_valid == 0]\n",
    "x_valid_y1 = x_valid[y_valid == 1]"
   ]
  },
  {
   "cell_type": "code",
   "execution_count": 33,
   "metadata": {},
   "outputs": [],
   "source": [
    "def flatten(X):\n",
    "    flattened_X = np.empty((X.shape[0], X.shape[2]))\n",
    "    for i in range(X.shape[0]):\n",
    "        \n",
    "        flattened_X[i] = X[i, (X.shape[1]-1), :]\n",
    "    return(flattened_X)"
   ]
  },
  {
   "cell_type": "code",
   "execution_count": 34,
   "metadata": {},
   "outputs": [],
   "source": [
    "def scale(X, scaler):\n",
    "    for i in range(X.shape[0]):\n",
    "        X[i, :, :] = scaler.transform(X[i, :, :])\n",
    "        \n",
    "    return X"
   ]
  },
  {
   "cell_type": "code",
   "execution_count": 35,
   "metadata": {},
   "outputs": [],
   "source": [
    "scaler = StandardScaler().fit(flatten(x_train_y0))"
   ]
  },
  {
   "cell_type": "code",
   "execution_count": 39,
   "metadata": {},
   "outputs": [],
   "source": [
    "x_train_y0_scaled = scale(x_train_y0, scaler)\n",
    "x_valid_scaled = scale(x_valid, scaler)\n",
    "x_valid_y0_scaled = scale(x_valid_y0, scaler)\n",
    "x_test_scaled = scale(x_test, scaler)"
   ]
  },
  {
   "cell_type": "code",
   "execution_count": 36,
   "metadata": {},
   "outputs": [],
   "source": [
    "epochs = 200\n",
    "batch = 128\n",
    "lr = 0.001"
   ]
  },
  {
   "cell_type": "code",
   "execution_count": 48,
   "metadata": {},
   "outputs": [
    {
     "name": "stdout",
     "output_type": "stream",
     "text": [
      "Model: \"sequential_1\"\n",
      "_________________________________________________________________\n",
      "Layer (type)                 Output Shape              Param #   \n",
      "=================================================================\n",
      "lstm_4 (LSTM)                (None, 5, 32)             11776     \n",
      "_________________________________________________________________\n",
      "lstm_5 (LSTM)                (None, 16)                3136      \n",
      "_________________________________________________________________\n",
      "repeat_vector_1 (RepeatVecto (None, 5, 16)             0         \n",
      "_________________________________________________________________\n",
      "lstm_6 (LSTM)                (None, 5, 16)             2112      \n",
      "_________________________________________________________________\n",
      "lstm_7 (LSTM)                (None, 5, 32)             6272      \n",
      "_________________________________________________________________\n",
      "time_distributed_1 (TimeDist (None, 5, 59)             1947      \n",
      "=================================================================\n",
      "Total params: 25,243\n",
      "Trainable params: 25,243\n",
      "Non-trainable params: 0\n",
      "_________________________________________________________________\n"
     ]
    }
   ],
   "source": [
    "lstm_ae = models.Sequential()\n",
    "\n",
    "# Encoder\n",
    "lstm_ae.add(layers.LSTM(32, activation='relu', \n",
    "                        input_shape=(timesteps, n_features), \n",
    "                        return_sequences=True))\n",
    "lstm_ae.add(layers.LSTM(16, activation='relu', return_sequences=False))\n",
    "lstm_ae.add(layers.RepeatVector(timesteps))\n",
    "\n",
    "# Decoder\n",
    "lstm_ae.add(layers.LSTM(16, activation='relu', return_sequences=True))\n",
    "lstm_ae.add(layers.LSTM(32, activation='relu', return_sequences=True))\n",
    "lstm_ae.add(layers.TimeDistributed(layers.Dense(n_features)))\n",
    "\n",
    "lstm_ae.summary()"
   ]
  },
  {
   "cell_type": "code",
   "execution_count": 49,
   "metadata": {},
   "outputs": [
    {
     "name": "stdout",
     "output_type": "stream",
     "text": [
      "Epoch 1/200\n",
      "89/89 [==============================] - 1s 14ms/step - loss: 0.8783 - val_loss: 0.6820\n",
      "Epoch 2/200\n",
      "89/89 [==============================] - 1s 7ms/step - loss: 0.5628 - val_loss: 0.4673\n",
      "Epoch 3/200\n",
      "89/89 [==============================] - 1s 7ms/step - loss: 0.4226 - val_loss: 0.3685\n",
      "Epoch 4/200\n",
      "89/89 [==============================] - 1s 8ms/step - loss: 0.3419 - val_loss: 0.3110\n",
      "Epoch 5/200\n",
      "89/89 [==============================] - 1s 10ms/step - loss: 0.2970 - val_loss: 0.2767\n",
      "Epoch 6/200\n",
      "89/89 [==============================] - 1s 8ms/step - loss: 0.2715 - val_loss: 0.2616\n",
      "Epoch 7/200\n",
      "89/89 [==============================] - 1s 7ms/step - loss: 0.2556 - val_loss: 0.2455\n",
      "Epoch 8/200\n",
      "89/89 [==============================] - 1s 8ms/step - loss: 0.2429 - val_loss: 0.2358\n",
      "Epoch 9/200\n",
      "89/89 [==============================] - 1s 8ms/step - loss: 0.2340 - val_loss: 0.2267\n",
      "Epoch 10/200\n",
      "89/89 [==============================] - 1s 8ms/step - loss: 0.2256 - val_loss: 0.2220\n",
      "Epoch 11/200\n",
      "89/89 [==============================] - 1s 8ms/step - loss: 0.2204 - val_loss: 0.2160\n",
      "Epoch 12/200\n",
      "89/89 [==============================] - 1s 8ms/step - loss: 0.2136 - val_loss: 0.2105\n",
      "Epoch 13/200\n",
      "89/89 [==============================] - 1s 8ms/step - loss: 0.2093 - val_loss: 0.2062\n",
      "Epoch 14/200\n",
      "89/89 [==============================] - 1s 9ms/step - loss: 0.2046 - val_loss: 0.2022\n",
      "Epoch 15/200\n",
      "89/89 [==============================] - 1s 8ms/step - loss: 0.2024 - val_loss: 0.2005\n",
      "Epoch 16/200\n",
      "89/89 [==============================] - 1s 7ms/step - loss: 0.1981 - val_loss: 0.1971\n",
      "Epoch 17/200\n",
      "89/89 [==============================] - 1s 8ms/step - loss: 0.1957 - val_loss: 0.1938\n",
      "Epoch 18/200\n",
      "89/89 [==============================] - 1s 7ms/step - loss: 0.1923 - val_loss: 0.1922\n",
      "Epoch 19/200\n",
      "89/89 [==============================] - 1s 8ms/step - loss: 0.1888 - val_loss: 0.1894\n",
      "Epoch 20/200\n",
      "89/89 [==============================] - 1s 7ms/step - loss: 0.1870 - val_loss: 0.1876\n",
      "Epoch 21/200\n",
      "89/89 [==============================] - 1s 7ms/step - loss: 0.1855 - val_loss: 0.1860\n",
      "Epoch 22/200\n",
      "89/89 [==============================] - 1s 9ms/step - loss: 0.1824 - val_loss: 0.1850\n",
      "Epoch 23/200\n",
      "89/89 [==============================] - 1s 8ms/step - loss: 0.1812 - val_loss: 0.1803\n",
      "Epoch 24/200\n",
      "89/89 [==============================] - 1s 8ms/step - loss: 0.1774 - val_loss: 0.1803\n",
      "Epoch 25/200\n",
      "89/89 [==============================] - 1s 8ms/step - loss: 0.1750 - val_loss: 0.1763\n",
      "Epoch 26/200\n",
      "89/89 [==============================] - 1s 10ms/step - loss: 0.1738 - val_loss: 0.1755\n",
      "Epoch 27/200\n",
      "89/89 [==============================] - 1s 7ms/step - loss: 0.1747 - val_loss: 0.1763\n",
      "Epoch 28/200\n",
      "89/89 [==============================] - 1s 8ms/step - loss: 0.1704 - val_loss: 0.1724\n",
      "Epoch 29/200\n",
      "89/89 [==============================] - 1s 7ms/step - loss: 0.1692 - val_loss: 0.1714\n",
      "Epoch 30/200\n",
      "89/89 [==============================] - 1s 8ms/step - loss: 0.1695 - val_loss: 0.1716\n",
      "Epoch 31/200\n",
      "89/89 [==============================] - 1s 9ms/step - loss: 0.1684 - val_loss: 0.1729\n",
      "Epoch 32/200\n",
      "89/89 [==============================] - 1s 7ms/step - loss: 0.1657 - val_loss: 0.1691\n",
      "Epoch 33/200\n",
      "89/89 [==============================] - 1s 9ms/step - loss: 0.1636 - val_loss: 0.1712\n",
      "Epoch 34/200\n",
      "89/89 [==============================] - 1s 8ms/step - loss: 0.1640 - val_loss: 0.1695\n",
      "Epoch 35/200\n",
      "89/89 [==============================] - 1s 7ms/step - loss: 0.1619 - val_loss: 0.1656\n",
      "Epoch 36/200\n",
      "89/89 [==============================] - 1s 7ms/step - loss: 0.1606 - val_loss: 0.1659\n",
      "Epoch 37/200\n",
      "89/89 [==============================] - 1s 8ms/step - loss: 0.1596 - val_loss: 0.1630\n",
      "Epoch 38/200\n",
      "89/89 [==============================] - 1s 8ms/step - loss: 0.1589 - val_loss: 0.1636\n",
      "Epoch 39/200\n",
      "89/89 [==============================] - 1s 9ms/step - loss: 0.1582 - val_loss: 0.1615\n",
      "Epoch 40/200\n",
      "89/89 [==============================] - 1s 8ms/step - loss: 0.1570 - val_loss: 0.1607\n",
      "Epoch 41/200\n",
      "89/89 [==============================] - 1s 8ms/step - loss: 0.1584 - val_loss: 0.1659\n",
      "Epoch 42/200\n",
      "89/89 [==============================] - 1s 9ms/step - loss: 0.1572 - val_loss: 0.1598\n",
      "Epoch 43/200\n",
      "89/89 [==============================] - 1s 7ms/step - loss: 0.1539 - val_loss: 0.1604\n",
      "Epoch 44/200\n",
      "89/89 [==============================] - 1s 7ms/step - loss: 0.1531 - val_loss: 0.1593\n",
      "Epoch 45/200\n",
      "89/89 [==============================] - 1s 7ms/step - loss: 0.1531 - val_loss: 0.1599\n",
      "Epoch 46/200\n",
      "89/89 [==============================] - 1s 8ms/step - loss: 0.1575 - val_loss: 0.1616\n",
      "Epoch 47/200\n",
      "89/89 [==============================] - 1s 9ms/step - loss: 0.1540 - val_loss: 0.1572\n",
      "Epoch 48/200\n",
      "89/89 [==============================] - 1s 8ms/step - loss: 0.1554 - val_loss: 0.1599\n",
      "Epoch 49/200\n",
      "89/89 [==============================] - 1s 8ms/step - loss: 0.1530 - val_loss: 0.1546\n",
      "Epoch 50/200\n",
      "89/89 [==============================] - 1s 8ms/step - loss: 0.1507 - val_loss: 0.1556\n",
      "Epoch 51/200\n",
      "89/89 [==============================] - 1s 8ms/step - loss: 0.1538 - val_loss: 0.1567\n",
      "Epoch 52/200\n",
      "89/89 [==============================] - 1s 7ms/step - loss: 0.1501 - val_loss: 0.1574\n",
      "Epoch 53/200\n",
      "89/89 [==============================] - 1s 8ms/step - loss: 0.1509 - val_loss: 0.1564\n",
      "Epoch 54/200\n",
      "89/89 [==============================] - 1s 7ms/step - loss: 0.1488 - val_loss: 0.1530\n",
      "Epoch 55/200\n",
      "89/89 [==============================] - 1s 8ms/step - loss: 0.1477 - val_loss: 0.1541\n",
      "Epoch 56/200\n",
      "89/89 [==============================] - 1s 11ms/step - loss: 0.1468 - val_loss: 0.1530\n",
      "Epoch 57/200\n",
      "89/89 [==============================] - 1s 9ms/step - loss: 0.1460 - val_loss: 0.1531\n",
      "Epoch 58/200\n",
      "89/89 [==============================] - 1s 9ms/step - loss: 0.1471 - val_loss: 0.1530\n",
      "Epoch 59/200\n",
      "89/89 [==============================] - 1s 9ms/step - loss: 0.1459 - val_loss: 0.1517\n",
      "Epoch 60/200\n",
      "89/89 [==============================] - 1s 12ms/step - loss: 0.1454 - val_loss: 0.1508\n",
      "Epoch 61/200\n",
      "89/89 [==============================] - 1s 10ms/step - loss: 0.1449 - val_loss: 0.1502\n",
      "Epoch 62/200\n",
      "89/89 [==============================] - 1s 8ms/step - loss: 0.1460 - val_loss: 0.1516\n",
      "Epoch 63/200\n",
      "89/89 [==============================] - 1s 13ms/step - loss: 0.1452 - val_loss: 0.1499\n",
      "Epoch 64/200\n",
      "89/89 [==============================] - 1s 11ms/step - loss: 0.1450 - val_loss: 0.1495\n",
      "Epoch 65/200\n",
      "89/89 [==============================] - 1s 11ms/step - loss: 0.1442 - val_loss: 0.1539\n",
      "Epoch 66/200\n",
      "89/89 [==============================] - 1s 8ms/step - loss: 0.1438 - val_loss: 0.1518\n",
      "Epoch 67/200\n",
      "89/89 [==============================] - 1s 7ms/step - loss: 0.1435 - val_loss: 0.1510\n",
      "Epoch 68/200\n",
      "89/89 [==============================] - 1s 7ms/step - loss: 0.1423 - val_loss: 0.1490\n",
      "Epoch 69/200\n",
      "89/89 [==============================] - 1s 7ms/step - loss: 0.1424 - val_loss: 0.1513\n",
      "Epoch 70/200\n",
      "89/89 [==============================] - 1s 7ms/step - loss: 0.1420 - val_loss: 0.1486\n",
      "Epoch 71/200\n",
      "89/89 [==============================] - 1s 9ms/step - loss: 0.1411 - val_loss: 0.1477\n",
      "Epoch 72/200\n",
      "89/89 [==============================] - 1s 9ms/step - loss: 0.1404 - val_loss: 0.1477\n",
      "Epoch 73/200\n",
      "89/89 [==============================] - 1s 8ms/step - loss: 0.1416 - val_loss: 0.1486\n",
      "Epoch 74/200\n",
      "89/89 [==============================] - 1s 8ms/step - loss: 0.1400 - val_loss: 0.1466\n",
      "Epoch 75/200\n",
      "89/89 [==============================] - 1s 8ms/step - loss: 0.1399 - val_loss: 0.1474\n",
      "Epoch 76/200\n",
      "89/89 [==============================] - 1s 7ms/step - loss: 0.1401 - val_loss: 0.1473\n",
      "Epoch 77/200\n",
      "89/89 [==============================] - 1s 7ms/step - loss: 0.1401 - val_loss: 0.1475\n",
      "Epoch 78/200\n",
      "89/89 [==============================] - 1s 8ms/step - loss: 0.1397 - val_loss: 0.1456\n",
      "Epoch 79/200\n",
      "89/89 [==============================] - 1s 8ms/step - loss: 0.1382 - val_loss: 0.1460\n",
      "Epoch 80/200\n",
      "89/89 [==============================] - 1s 10ms/step - loss: 0.1377 - val_loss: 0.1463\n",
      "Epoch 81/200\n",
      "89/89 [==============================] - 1s 8ms/step - loss: 0.1391 - val_loss: 0.1453\n",
      "Epoch 82/200\n",
      "89/89 [==============================] - 1s 8ms/step - loss: 0.1378 - val_loss: 0.1448\n"
     ]
    },
    {
     "name": "stdout",
     "output_type": "stream",
     "text": [
      "Epoch 83/200\n",
      "89/89 [==============================] - 1s 7ms/step - loss: 0.1370 - val_loss: 0.1450\n",
      "Epoch 84/200\n",
      "89/89 [==============================] - 1s 7ms/step - loss: 0.1388 - val_loss: 0.1515\n",
      "Epoch 85/200\n",
      "89/89 [==============================] - 1s 8ms/step - loss: 0.1390 - val_loss: 0.1493\n",
      "Epoch 86/200\n",
      "89/89 [==============================] - 1s 7ms/step - loss: 0.1374 - val_loss: 0.1443\n",
      "Epoch 87/200\n",
      "89/89 [==============================] - 1s 7ms/step - loss: 0.1374 - val_loss: 0.1521\n",
      "Epoch 88/200\n",
      "89/89 [==============================] - 1s 8ms/step - loss: 0.1391 - val_loss: 0.1453\n",
      "Epoch 89/200\n",
      "89/89 [==============================] - 1s 9ms/step - loss: 0.1379 - val_loss: 0.1453\n",
      "Epoch 90/200\n",
      "89/89 [==============================] - 1s 8ms/step - loss: 0.1372 - val_loss: 0.1438\n",
      "Epoch 91/200\n",
      "89/89 [==============================] - 1s 7ms/step - loss: 0.1387 - val_loss: 0.1463\n",
      "Epoch 92/200\n",
      "89/89 [==============================] - 1s 9ms/step - loss: 0.1385 - val_loss: 0.1500\n",
      "Epoch 93/200\n",
      "89/89 [==============================] - 1s 8ms/step - loss: 0.1413 - val_loss: 0.1430\n",
      "Epoch 94/200\n",
      "89/89 [==============================] - 1s 7ms/step - loss: 0.1363 - val_loss: 0.1424\n",
      "Epoch 95/200\n",
      "89/89 [==============================] - 1s 7ms/step - loss: 0.1344 - val_loss: 0.1418\n",
      "Epoch 96/200\n",
      "89/89 [==============================] - 1s 8ms/step - loss: 0.1336 - val_loss: 0.1412\n",
      "Epoch 97/200\n",
      "89/89 [==============================] - 1s 8ms/step - loss: 0.1335 - val_loss: 0.1419\n",
      "Epoch 98/200\n",
      "89/89 [==============================] - 1s 9ms/step - loss: 0.1338 - val_loss: 0.1413\n",
      "Epoch 99/200\n",
      "89/89 [==============================] - 1s 8ms/step - loss: 0.1330 - val_loss: 0.1402\n",
      "Epoch 100/200\n",
      "89/89 [==============================] - 1s 8ms/step - loss: 0.1327 - val_loss: 0.1423\n",
      "Epoch 101/200\n",
      "89/89 [==============================] - 1s 7ms/step - loss: 0.1327 - val_loss: 0.1402\n",
      "Epoch 102/200\n",
      "89/89 [==============================] - 1s 7ms/step - loss: 0.1319 - val_loss: 0.1414\n",
      "Epoch 103/200\n",
      "89/89 [==============================] - 1s 8ms/step - loss: 0.1324 - val_loss: 0.1403\n",
      "Epoch 104/200\n",
      "89/89 [==============================] - 1s 8ms/step - loss: 0.1320 - val_loss: 0.1408\n",
      "Epoch 105/200\n",
      "89/89 [==============================] - 1s 8ms/step - loss: 0.1326 - val_loss: 0.1424\n",
      "Epoch 106/200\n",
      "89/89 [==============================] - 1s 8ms/step - loss: 0.1348 - val_loss: 0.1435\n",
      "Epoch 107/200\n",
      "89/89 [==============================] - 1s 9ms/step - loss: 0.1340 - val_loss: 0.1413\n",
      "Epoch 108/200\n",
      "89/89 [==============================] - 1s 7ms/step - loss: 0.1336 - val_loss: 0.1406\n",
      "Epoch 109/200\n",
      "89/89 [==============================] - 1s 8ms/step - loss: 0.1340 - val_loss: 0.1426\n",
      "Epoch 110/200\n",
      "89/89 [==============================] - 1s 7ms/step - loss: 0.1359 - val_loss: 0.1432\n",
      "Epoch 111/200\n",
      "89/89 [==============================] - 1s 7ms/step - loss: 0.1345 - val_loss: 0.1409\n",
      "Epoch 112/200\n",
      "89/89 [==============================] - 1s 8ms/step - loss: 0.1326 - val_loss: 0.1393\n",
      "Epoch 113/200\n",
      "89/89 [==============================] - 1s 8ms/step - loss: 0.1324 - val_loss: 0.1392\n",
      "Epoch 114/200\n",
      "89/89 [==============================] - 1s 8ms/step - loss: 0.1315 - val_loss: 0.1376\n",
      "Epoch 115/200\n",
      "89/89 [==============================] - 1s 8ms/step - loss: 0.1315 - val_loss: 0.1423\n",
      "Epoch 116/200\n",
      "89/89 [==============================] - 1s 9ms/step - loss: 0.1319 - val_loss: 0.1389\n",
      "Epoch 117/200\n",
      "89/89 [==============================] - 1s 9ms/step - loss: 0.1307 - val_loss: 0.1370\n",
      "Epoch 118/200\n",
      "89/89 [==============================] - 1s 7ms/step - loss: 0.1305 - val_loss: 0.1395\n",
      "Epoch 119/200\n",
      "89/89 [==============================] - 1s 7ms/step - loss: 0.1303 - val_loss: 0.1381\n",
      "Epoch 120/200\n",
      "89/89 [==============================] - 1s 8ms/step - loss: 0.1340 - val_loss: 0.1444\n",
      "Epoch 121/200\n",
      "89/89 [==============================] - 1s 9ms/step - loss: 0.1328 - val_loss: 0.1375\n",
      "Epoch 122/200\n",
      "89/89 [==============================] - 1s 8ms/step - loss: 0.1296 - val_loss: 0.1360\n",
      "Epoch 123/200\n",
      "89/89 [==============================] - 1s 9ms/step - loss: 0.1299 - val_loss: 0.1379\n",
      "Epoch 124/200\n",
      "89/89 [==============================] - 1s 8ms/step - loss: 0.1299 - val_loss: 0.1359\n",
      "Epoch 125/200\n",
      "89/89 [==============================] - 1s 8ms/step - loss: 0.1301 - val_loss: 0.1365\n",
      "Epoch 126/200\n",
      "89/89 [==============================] - 1s 7ms/step - loss: 0.1292 - val_loss: 0.1362\n",
      "Epoch 127/200\n",
      "89/89 [==============================] - 1s 7ms/step - loss: 0.1289 - val_loss: 0.1376\n",
      "Epoch 128/200\n",
      "89/89 [==============================] - 1s 7ms/step - loss: 0.1288 - val_loss: 0.1377\n",
      "Epoch 129/200\n",
      "89/89 [==============================] - 1s 8ms/step - loss: 0.1292 - val_loss: 0.1375\n",
      "Epoch 130/200\n",
      "89/89 [==============================] - 1s 9ms/step - loss: 0.1300 - val_loss: 0.1367\n",
      "Epoch 131/200\n",
      "89/89 [==============================] - 1s 9ms/step - loss: 0.1307 - val_loss: 0.1356\n",
      "Epoch 132/200\n",
      "89/89 [==============================] - 1s 8ms/step - loss: 0.1292 - val_loss: 0.1355\n",
      "Epoch 133/200\n",
      "89/89 [==============================] - 1s 7ms/step - loss: 0.1293 - val_loss: 0.1370\n",
      "Epoch 134/200\n",
      "89/89 [==============================] - 1s 8ms/step - loss: 0.1291 - val_loss: 0.1362\n",
      "Epoch 135/200\n",
      "89/89 [==============================] - 1s 7ms/step - loss: 0.1291 - val_loss: 0.1374\n",
      "Epoch 136/200\n",
      "89/89 [==============================] - 1s 7ms/step - loss: 0.1295 - val_loss: 0.1373\n",
      "Epoch 137/200\n",
      "89/89 [==============================] - 1s 8ms/step - loss: 0.1290 - val_loss: 0.1371\n",
      "Epoch 138/200\n",
      "89/89 [==============================] - 1s 8ms/step - loss: 0.1288 - val_loss: 0.1364\n",
      "Epoch 139/200\n",
      "89/89 [==============================] - 1s 9ms/step - loss: 0.1282 - val_loss: 0.1364\n",
      "Epoch 140/200\n",
      "89/89 [==============================] - 1s 9ms/step - loss: 0.1279 - val_loss: 0.1368\n",
      "Epoch 141/200\n",
      "89/89 [==============================] - 1s 7ms/step - loss: 0.1280 - val_loss: 0.1367\n",
      "Epoch 142/200\n",
      "89/89 [==============================] - 1s 7ms/step - loss: 0.1280 - val_loss: 0.1368\n",
      "Epoch 143/200\n",
      "89/89 [==============================] - 1s 8ms/step - loss: 0.1287 - val_loss: 0.1346\n",
      "Epoch 144/200\n",
      "89/89 [==============================] - 1s 8ms/step - loss: 0.1281 - val_loss: 0.1384\n",
      "Epoch 145/200\n",
      "89/89 [==============================] - 1s 8ms/step - loss: 0.1301 - val_loss: 0.1378\n",
      "Epoch 146/200\n",
      "89/89 [==============================] - 1s 8ms/step - loss: 0.1346 - val_loss: 0.1370\n",
      "Epoch 147/200\n",
      "89/89 [==============================] - 1s 8ms/step - loss: 0.1302 - val_loss: 0.1375\n",
      "Epoch 148/200\n",
      "89/89 [==============================] - 1s 9ms/step - loss: 0.1312 - val_loss: 0.1370\n",
      "Epoch 149/200\n",
      "89/89 [==============================] - 1s 8ms/step - loss: 0.1290 - val_loss: 0.1355\n",
      "Epoch 150/200\n",
      "89/89 [==============================] - 1s 7ms/step - loss: 0.1266 - val_loss: 0.1345\n",
      "Epoch 151/200\n",
      "89/89 [==============================] - 1s 7ms/step - loss: 0.1264 - val_loss: 0.1345\n",
      "Epoch 152/200\n",
      "89/89 [==============================] - 1s 7ms/step - loss: 0.1260 - val_loss: 0.1350\n",
      "Epoch 153/200\n",
      "89/89 [==============================] - 1s 8ms/step - loss: 0.1262 - val_loss: 0.1374\n",
      "Epoch 154/200\n",
      "89/89 [==============================] - 1s 9ms/step - loss: 0.1304 - val_loss: 0.1354\n",
      "Epoch 155/200\n",
      "89/89 [==============================] - 1s 9ms/step - loss: 0.1301 - val_loss: 0.1357\n",
      "Epoch 156/200\n",
      "89/89 [==============================] - 1s 9ms/step - loss: 0.1286 - val_loss: 0.1381\n",
      "Epoch 157/200\n",
      "89/89 [==============================] - 1s 9ms/step - loss: 0.1281 - val_loss: 0.1351\n",
      "Epoch 158/200\n",
      "89/89 [==============================] - 1s 7ms/step - loss: 0.1258 - val_loss: 0.1350\n",
      "Epoch 159/200\n",
      "89/89 [==============================] - 1s 7ms/step - loss: 0.1259 - val_loss: 0.1353\n",
      "Epoch 160/200\n",
      "89/89 [==============================] - 1s 7ms/step - loss: 0.1263 - val_loss: 0.1353\n",
      "Epoch 161/200\n",
      "89/89 [==============================] - 1s 7ms/step - loss: 0.1265 - val_loss: 0.1353\n",
      "Epoch 162/200\n",
      "89/89 [==============================] - 1s 9ms/step - loss: 0.1263 - val_loss: 0.1340\n",
      "Epoch 163/200\n",
      "89/89 [==============================] - 1s 8ms/step - loss: 0.1259 - val_loss: 0.1342\n",
      "Epoch 164/200\n"
     ]
    },
    {
     "name": "stdout",
     "output_type": "stream",
     "text": [
      "89/89 [==============================] - 1s 8ms/step - loss: 0.1258 - val_loss: 0.1335\n",
      "Epoch 165/200\n",
      "89/89 [==============================] - 1s 8ms/step - loss: 0.1256 - val_loss: 0.1342\n",
      "Epoch 166/200\n",
      "89/89 [==============================] - 1s 8ms/step - loss: 0.1260 - val_loss: 0.1346\n",
      "Epoch 167/200\n",
      "89/89 [==============================] - 1s 7ms/step - loss: 0.1263 - val_loss: 0.1347\n",
      "Epoch 168/200\n",
      "89/89 [==============================] - 1s 7ms/step - loss: 0.1258 - val_loss: 0.1332\n",
      "Epoch 169/200\n",
      "89/89 [==============================] - 1s 7ms/step - loss: 0.1257 - val_loss: 0.1352\n",
      "Epoch 170/200\n",
      "89/89 [==============================] - 1s 8ms/step - loss: 0.1254 - val_loss: 0.1356\n",
      "Epoch 171/200\n",
      "89/89 [==============================] - 1s 9ms/step - loss: 0.1251 - val_loss: 0.1351\n",
      "Epoch 172/200\n",
      "89/89 [==============================] - 1s 8ms/step - loss: 0.1259 - val_loss: 0.1356\n",
      "Epoch 173/200\n",
      "89/89 [==============================] - 1s 8ms/step - loss: 0.1269 - val_loss: 0.1349\n",
      "Epoch 174/200\n",
      "89/89 [==============================] - 1s 8ms/step - loss: 0.1266 - val_loss: 0.1344\n",
      "Epoch 175/200\n",
      "89/89 [==============================] - 1s 8ms/step - loss: 0.1264 - val_loss: 0.1342\n",
      "Epoch 176/200\n",
      "89/89 [==============================] - 1s 7ms/step - loss: 0.1256 - val_loss: 0.1336\n",
      "Epoch 177/200\n",
      "89/89 [==============================] - 1s 7ms/step - loss: 0.1268 - val_loss: 0.1342\n",
      "Epoch 178/200\n",
      "89/89 [==============================] - 1s 7ms/step - loss: 0.1279 - val_loss: 0.1347\n",
      "Epoch 179/200\n",
      "89/89 [==============================] - 1s 8ms/step - loss: 0.1280 - val_loss: 0.1359\n",
      "Epoch 180/200\n",
      "89/89 [==============================] - 1s 8ms/step - loss: 0.1264 - val_loss: 0.1351\n",
      "Epoch 181/200\n",
      "89/89 [==============================] - 1s 8ms/step - loss: 0.1254 - val_loss: 0.1324\n",
      "Epoch 182/200\n",
      "89/89 [==============================] - 1s 9ms/step - loss: 0.1241 - val_loss: 0.1345\n",
      "Epoch 183/200\n",
      "89/89 [==============================] - 1s 7ms/step - loss: 0.1262 - val_loss: 0.1331\n",
      "Epoch 184/200\n",
      "89/89 [==============================] - 1s 7ms/step - loss: 0.1256 - val_loss: 0.1334\n",
      "Epoch 185/200\n",
      "89/89 [==============================] - 1s 8ms/step - loss: 0.1255 - val_loss: 0.1330\n",
      "Epoch 186/200\n",
      "89/89 [==============================] - 1s 7ms/step - loss: 0.1249 - val_loss: 0.1327\n",
      "Epoch 187/200\n",
      "89/89 [==============================] - 1s 8ms/step - loss: 0.1238 - val_loss: 0.1349\n",
      "Epoch 188/200\n",
      "89/89 [==============================] - 1s 7ms/step - loss: 0.1243 - val_loss: 0.1337\n",
      "Epoch 189/200\n",
      "89/89 [==============================] - 1s 8ms/step - loss: 0.1236 - val_loss: 0.1335\n",
      "Epoch 190/200\n",
      "89/89 [==============================] - 1s 10ms/step - loss: 0.1235 - val_loss: 0.1339\n",
      "Epoch 191/200\n",
      "89/89 [==============================] - 1s 9ms/step - loss: 0.1240 - val_loss: 0.1320\n",
      "Epoch 192/200\n",
      "89/89 [==============================] - 1s 8ms/step - loss: 0.1235 - val_loss: 0.1334\n",
      "Epoch 193/200\n",
      "89/89 [==============================] - 1s 9ms/step - loss: 0.1238 - val_loss: 0.1311\n",
      "Epoch 194/200\n",
      "89/89 [==============================] - 1s 10ms/step - loss: 0.1245 - val_loss: 0.1349\n",
      "Epoch 195/200\n",
      "89/89 [==============================] - 1s 9ms/step - loss: 0.1253 - val_loss: 0.1329\n",
      "Epoch 196/200\n",
      "89/89 [==============================] - 1s 8ms/step - loss: 0.1242 - val_loss: 0.1315\n",
      "Epoch 197/200\n",
      "89/89 [==============================] - 1s 10ms/step - loss: 0.1232 - val_loss: 0.1321\n",
      "Epoch 198/200\n",
      "89/89 [==============================] - 1s 9ms/step - loss: 0.1231 - val_loss: 0.1332\n",
      "Epoch 199/200\n",
      "89/89 [==============================] - 1s 8ms/step - loss: 0.1227 - val_loss: 0.1317\n",
      "Epoch 200/200\n",
      "89/89 [==============================] - 1s 8ms/step - loss: 0.1229 - val_loss: 0.1315\n"
     ]
    }
   ],
   "source": [
    "# compile\n",
    "lstm_ae.compile(loss='mse', optimizer=optimizers.Adam(lr))\n",
    "\n",
    "# fit\n",
    "history = lstm_ae.fit(x_train_y0_scaled, x_train_y0_scaled,\n",
    "                     epochs=epochs, batch_size=batch,\n",
    "                     validation_data=(x_valid_y0_scaled, x_valid_y0_scaled))\n"
   ]
  },
  {
   "cell_type": "code",
   "execution_count": 50,
   "metadata": {},
   "outputs": [
    {
     "data": {
      "image/png": "[encoded data removed]",
      "text/plain": [
       "<Figure size 432x288 with 1 Axes>"
      ]
     },
     "metadata": {
      "needs_background": "light"
     },
     "output_type": "display_data"
    }
   ],
   "source": [
    "plt.plot(history.history['loss'], label='train loss')\n",
    "plt.plot(history.history['val_loss'], label='valid loss')\n",
    "plt.legend()\n",
    "plt.xlabel('Epoch'); plt.ylabel('loss')\n",
    "plt.show()"
   ]
  },
  {
   "cell_type": "code",
   "execution_count": 51,
   "metadata": {},
   "outputs": [],
   "source": [
    "valid_x_predictions = lstm_ae.predict(x_valid_scaled)\n",
    "mse = np.mean(np.power(flatten(x_valid_scaled) - flatten(valid_x_predictions), 2), axis=1)\n",
    "\n",
    "error_df = pd.DataFrame({'Reconstruction_error':mse, \n",
    "                         'True_class':list(y_valid)})\n",
    "precision_rt, recall_rt, threshold_rt = metrics.precision_recall_curve(error_df['True_class'], \n",
    "                                                                       error_df['Reconstruction_error'])"
   ]
  },
  {
   "cell_type": "code",
   "execution_count": 52,
   "metadata": {},
   "outputs": [
    {
     "data": {
      "image/png": "[encoded data removed]",
      "text/plain": [
       "<Figure size 576x360 with 1 Axes>"
      ]
     },
     "metadata": {
      "needs_background": "light"
     },
     "output_type": "display_data"
    }
   ],
   "source": [
    "plt.figure(figsize=(8,5))\n",
    "plt.plot(threshold_rt, precision_rt[1:], label='Precision')\n",
    "plt.plot(threshold_rt, recall_rt[1:], label='Recall')\n",
    "plt.xlabel('Threshold'); plt.ylabel('Precision/Recall')\n",
    "plt.legend()\n",
    "plt.show()"
   ]
  },
  {
   "cell_type": "code",
   "execution_count": 53,
   "metadata": {},
   "outputs": [
    {
     "name": "stdout",
     "output_type": "stream",
     "text": [
      "precision:  0.10810810810810811 , recall:  0.10810810810810811\n",
      "threshold:  0.46123647810556034\n"
     ]
    }
   ],
   "source": [
    "# best position of threshold\n",
    "index_cnt = [cnt for cnt, (p, r) in enumerate(zip(precision_rt, recall_rt)) if p==r][0]\n",
    "print('precision: ',precision_rt[index_cnt],', recall: ',recall_rt[index_cnt])\n",
    "\n",
    "# fixed Threshold\n",
    "threshold_fixed = threshold_rt[index_cnt]\n",
    "print('threshold: ',threshold_fixed)"
   ]
  },
  {
   "cell_type": "code",
   "execution_count": 54,
   "metadata": {},
   "outputs": [
    {
     "data": {
      "image/png": "[encoded data removed]",
      "text/plain": [
       "<Figure size 432x288 with 1 Axes>"
      ]
     },
     "metadata": {
      "needs_background": "light"
     },
     "output_type": "display_data"
    }
   ],
   "source": [
    "test_x_predictions = lstm_ae.predict(x_test_scaled)\n",
    "mse = np.mean(np.power(flatten(x_test_scaled) - flatten(test_x_predictions), 2), axis=1)\n",
    "\n",
    "error_df = pd.DataFrame({'Reconstruction_error': mse,\n",
    "                         'True_class': y_test.tolist()})\n",
    "\n",
    "groups = error_df.groupby('True_class')\n",
    "fig, ax = plt.subplots()\n",
    "\n",
    "for name, group in groups:\n",
    "    ax.plot(group.index, group.Reconstruction_error, marker='o', ms=3.5, linestyle='',\n",
    "            label= \"Break\" if name == 1 else \"Normal\")\n",
    "ax.hlines(threshold_fixed, ax.get_xlim()[0], ax.get_xlim()[1], colors=\"r\", zorder=100, label='Threshold')\n",
    "ax.legend()\n",
    "plt.title(\"Reconstruction error for different classes\")\n",
    "plt.ylabel(\"Reconstruction error\")\n",
    "plt.xlabel(\"Data point index\")\n",
    "plt.show();"
   ]
  },
  {
   "cell_type": "code",
   "execution_count": 58,
   "metadata": {
    "scrolled": true
   },
   "outputs": [
    {
     "data": {
      "image/png": "[encoded data removed]",
      "text/plain": [
       "<Figure size 504x504 with 2 Axes>"
      ]
     },
     "metadata": {
      "needs_background": "light"
     },
     "output_type": "display_data"
    }
   ],
   "source": [
    "pred_y = [1 if e > threshold_fixed else 0 for e in error_df['Reconstruction_error'].values]\n",
    "\n",
    "conf_matrix = metrics.confusion_matrix(error_df['True_class'], pred_y)\n",
    "plt.figure(figsize=(7, 7))\n",
    "sns.heatmap(conf_matrix, xticklabels=labels_1, yticklabels=labels_1, annot=True, fmt='d')\n",
    "plt.title('Confusion Matrix')\n",
    "plt.xlabel('Predicted Class'); plt.ylabel('True Class')\n",
    "plt.show()"
   ]
  },
  {
   "cell_type": "code",
   "execution_count": 59,
   "metadata": {},
   "outputs": [
    {
     "data": {
      "image/png": "[encoded data removed]",
      "text/plain": [
       "<Figure size 432x288 with 1 Axes>"
      ]
     },
     "metadata": {
      "needs_background": "light"
     },
     "output_type": "display_data"
    }
   ],
   "source": [
    "false_pos_rate, true_pos_rate, thresholds = metrics.roc_curve(error_df['True_class'], error_df['Reconstruction_error'])\n",
    "roc_auc = metrics.auc(false_pos_rate, true_pos_rate,)\n",
    "\n",
    "plt.plot(false_pos_rate, true_pos_rate, linewidth=5, label='AUC = %0.3f'% roc_auc)\n",
    "plt.plot([0,1],[0,1], linewidth=5)\n",
    "\n",
    "plt.xlim([-0.01, 1])\n",
    "plt.ylim([0, 1.01])\n",
    "plt.legend(loc='lower right')\n",
    "plt.title('Receiver operating characteristic curve (ROC)')\n",
    "plt.ylabel('True Positive Rate'); plt.xlabel('False Positive Rate')\n",
    "plt.show()"
   ]
  },
  {
   "cell_type": "code",
   "execution_count": null,
   "metadata": {},
   "outputs": [],
   "source": []
  }
 ],
 "metadata": {
  "kernelspec": {
   "display_name": "Python 3",
   "language": "python",
   "name": "python3"
  },
  "language_info": {
   "codemirror_mode": {
    "name": "ipython",
    "version": 3
   },
   "file_extension": ".py",
   "mimetype": "text/x-python",
   "name": "python",
   "nbconvert_exporter": "python",
   "pygments_lexer": "ipython3",
   "version": "3.7.6"
  }
 },
 "nbformat": 4,
 "nbformat_minor": 4
}
