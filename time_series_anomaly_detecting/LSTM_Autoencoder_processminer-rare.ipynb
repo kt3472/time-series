{
 "cells": [
  {
   "cell_type": "code",
   "execution_count": 1,
   "metadata": {},
   "outputs": [
    {
     "name": "stderr",
     "output_type": "stream",
     "text": [
      "\n",
      "Bad key \"text.kerning_factor\" on line 4 in\n",
      "C:\\anaconda3\\lib\\site-packages\\matplotlib\\mpl-data\\stylelib\\_classic_test_patch.mplstyle.\n",
      "You probably need to get an updated matplotlibrc file from\n",
      "https://github.com/matplotlib/matplotlib/blob/v3.1.3/matplotlibrc.template\n",
      "or from the matplotlib source distribution\n"
     ]
    }
   ],
   "source": [
    "import pandas as pd \n",
    "import numpy as np\n",
    "import matplotlib.pyplot as plt\n",
    "import seaborn as sns\n",
    "from pylab import rcParams\n",
    "from collections import Counter\n",
    "import tensorflow as tf\n",
    "from tensorflow.keras import Model ,models, layers, optimizers, regularizers\n",
    "from tensorflow.keras.callbacks import ModelCheckpoint\n",
    "\n",
    "from sklearn.preprocessing import StandardScaler\n",
    "from sklearn.model_selection import train_test_split\n",
    "from sklearn import metrics"
   ]
  },
  {
   "cell_type": "code",
   "execution_count": 4,
   "metadata": {},
   "outputs": [
    {
     "data": {
      "text/html": [
       "<div>\n",
       "<style scoped>\n",
       "    .dataframe tbody tr th:only-of-type {\n",
       "        vertical-align: middle;\n",
       "    }\n",
       "\n",
       "    .dataframe tbody tr th {\n",
       "        vertical-align: top;\n",
       "    }\n",
       "\n",
       "    .dataframe thead th {\n",
       "        text-align: right;\n",
       "    }\n",
       "</style>\n",
       "<table border=\"1\" class=\"dataframe\">\n",
       "  <thead>\n",
       "    <tr style=\"text-align: right;\">\n",
       "      <th></th>\n",
       "      <th>time</th>\n",
       "      <th>y</th>\n",
       "      <th>x1</th>\n",
       "      <th>x2</th>\n",
       "      <th>x3</th>\n",
       "      <th>x4</th>\n",
       "      <th>x5</th>\n",
       "      <th>x6</th>\n",
       "      <th>x7</th>\n",
       "      <th>x8</th>\n",
       "      <th>...</th>\n",
       "      <th>x52</th>\n",
       "      <th>x53</th>\n",
       "      <th>x54</th>\n",
       "      <th>x55</th>\n",
       "      <th>x56</th>\n",
       "      <th>x57</th>\n",
       "      <th>x58</th>\n",
       "      <th>x59</th>\n",
       "      <th>x60</th>\n",
       "      <th>x61</th>\n",
       "    </tr>\n",
       "  </thead>\n",
       "  <tbody>\n",
       "    <tr>\n",
       "      <th>0</th>\n",
       "      <td>5/1/99 0:00</td>\n",
       "      <td>0</td>\n",
       "      <td>0.376665</td>\n",
       "      <td>-4.596435</td>\n",
       "      <td>-4.095756</td>\n",
       "      <td>13.497687</td>\n",
       "      <td>-0.118830</td>\n",
       "      <td>-20.669883</td>\n",
       "      <td>0.000732</td>\n",
       "      <td>-0.061114</td>\n",
       "      <td>...</td>\n",
       "      <td>10.091721</td>\n",
       "      <td>0.053279</td>\n",
       "      <td>-4.936434</td>\n",
       "      <td>-24.590146</td>\n",
       "      <td>18.515436</td>\n",
       "      <td>3.473400</td>\n",
       "      <td>0.033444</td>\n",
       "      <td>0.953219</td>\n",
       "      <td>0.006076</td>\n",
       "      <td>0</td>\n",
       "    </tr>\n",
       "    <tr>\n",
       "      <th>1</th>\n",
       "      <td>5/1/99 0:02</td>\n",
       "      <td>0</td>\n",
       "      <td>0.475720</td>\n",
       "      <td>-4.542502</td>\n",
       "      <td>-4.018359</td>\n",
       "      <td>16.230659</td>\n",
       "      <td>-0.128733</td>\n",
       "      <td>-18.758079</td>\n",
       "      <td>0.000732</td>\n",
       "      <td>-0.061114</td>\n",
       "      <td>...</td>\n",
       "      <td>10.095871</td>\n",
       "      <td>0.062801</td>\n",
       "      <td>-4.937179</td>\n",
       "      <td>-32.413266</td>\n",
       "      <td>22.760065</td>\n",
       "      <td>2.682933</td>\n",
       "      <td>0.033536</td>\n",
       "      <td>1.090502</td>\n",
       "      <td>0.006083</td>\n",
       "      <td>0</td>\n",
       "    </tr>\n",
       "    <tr>\n",
       "      <th>2</th>\n",
       "      <td>5/1/99 0:04</td>\n",
       "      <td>0</td>\n",
       "      <td>0.363848</td>\n",
       "      <td>-4.681394</td>\n",
       "      <td>-4.353147</td>\n",
       "      <td>14.127998</td>\n",
       "      <td>-0.138636</td>\n",
       "      <td>-17.836632</td>\n",
       "      <td>0.010803</td>\n",
       "      <td>-0.061114</td>\n",
       "      <td>...</td>\n",
       "      <td>10.100265</td>\n",
       "      <td>0.072322</td>\n",
       "      <td>-4.937924</td>\n",
       "      <td>-34.183774</td>\n",
       "      <td>27.004663</td>\n",
       "      <td>3.537487</td>\n",
       "      <td>0.033629</td>\n",
       "      <td>1.840540</td>\n",
       "      <td>0.006090</td>\n",
       "      <td>0</td>\n",
       "    </tr>\n",
       "    <tr>\n",
       "      <th>3</th>\n",
       "      <td>5/1/99 0:06</td>\n",
       "      <td>0</td>\n",
       "      <td>0.301590</td>\n",
       "      <td>-4.758934</td>\n",
       "      <td>-4.023612</td>\n",
       "      <td>13.161567</td>\n",
       "      <td>-0.148142</td>\n",
       "      <td>-18.517601</td>\n",
       "      <td>0.002075</td>\n",
       "      <td>-0.061114</td>\n",
       "      <td>...</td>\n",
       "      <td>10.104660</td>\n",
       "      <td>0.081600</td>\n",
       "      <td>-4.938669</td>\n",
       "      <td>-35.954281</td>\n",
       "      <td>21.672449</td>\n",
       "      <td>3.986095</td>\n",
       "      <td>0.033721</td>\n",
       "      <td>2.554880</td>\n",
       "      <td>0.006097</td>\n",
       "      <td>0</td>\n",
       "    </tr>\n",
       "    <tr>\n",
       "      <th>4</th>\n",
       "      <td>5/1/99 0:08</td>\n",
       "      <td>0</td>\n",
       "      <td>0.265578</td>\n",
       "      <td>-4.749928</td>\n",
       "      <td>-4.333150</td>\n",
       "      <td>15.267340</td>\n",
       "      <td>-0.155314</td>\n",
       "      <td>-17.505913</td>\n",
       "      <td>0.000732</td>\n",
       "      <td>-0.061114</td>\n",
       "      <td>...</td>\n",
       "      <td>10.109054</td>\n",
       "      <td>0.091121</td>\n",
       "      <td>-4.939414</td>\n",
       "      <td>-37.724789</td>\n",
       "      <td>21.907251</td>\n",
       "      <td>3.601573</td>\n",
       "      <td>0.033777</td>\n",
       "      <td>1.410494</td>\n",
       "      <td>0.006105</td>\n",
       "      <td>0</td>\n",
       "    </tr>\n",
       "  </tbody>\n",
       "</table>\n",
       "<p>5 rows × 63 columns</p>\n",
       "</div>"
      ],
      "text/plain": [
       "          time  y        x1        x2        x3         x4        x5  \\\n",
       "0  5/1/99 0:00  0  0.376665 -4.596435 -4.095756  13.497687 -0.118830   \n",
       "1  5/1/99 0:02  0  0.475720 -4.542502 -4.018359  16.230659 -0.128733   \n",
       "2  5/1/99 0:04  0  0.363848 -4.681394 -4.353147  14.127998 -0.138636   \n",
       "3  5/1/99 0:06  0  0.301590 -4.758934 -4.023612  13.161567 -0.148142   \n",
       "4  5/1/99 0:08  0  0.265578 -4.749928 -4.333150  15.267340 -0.155314   \n",
       "\n",
       "          x6        x7        x8  ...        x52       x53       x54  \\\n",
       "0 -20.669883  0.000732 -0.061114  ...  10.091721  0.053279 -4.936434   \n",
       "1 -18.758079  0.000732 -0.061114  ...  10.095871  0.062801 -4.937179   \n",
       "2 -17.836632  0.010803 -0.061114  ...  10.100265  0.072322 -4.937924   \n",
       "3 -18.517601  0.002075 -0.061114  ...  10.104660  0.081600 -4.938669   \n",
       "4 -17.505913  0.000732 -0.061114  ...  10.109054  0.091121 -4.939414   \n",
       "\n",
       "         x55        x56       x57       x58       x59       x60  x61  \n",
       "0 -24.590146  18.515436  3.473400  0.033444  0.953219  0.006076    0  \n",
       "1 -32.413266  22.760065  2.682933  0.033536  1.090502  0.006083    0  \n",
       "2 -34.183774  27.004663  3.537487  0.033629  1.840540  0.006090    0  \n",
       "3 -35.954281  21.672449  3.986095  0.033721  2.554880  0.006097    0  \n",
       "4 -37.724789  21.907251  3.601573  0.033777  1.410494  0.006105    0  \n",
       "\n",
       "[5 rows x 63 columns]"
      ]
     },
     "execution_count": 4,
     "metadata": {},
     "output_type": "execute_result"
    }
   ],
   "source": [
    "LABELS = ['Normal', 'Break']\n",
    "\n",
    "df = pd.read_csv('./processminer-rare-event-mts - data.csv')\n",
    "df.head()"
   ]
  },
  {
   "cell_type": "code",
   "execution_count": 5,
   "metadata": {},
   "outputs": [
    {
     "data": {
      "text/plain": [
       "(18398, 63)"
      ]
     },
     "execution_count": 5,
     "metadata": {},
     "output_type": "execute_result"
    }
   ],
   "source": [
    "df.shape"
   ]
  },
  {
   "cell_type": "code",
   "execution_count": 6,
   "metadata": {},
   "outputs": [
    {
     "data": {
      "text/plain": [
       "Counter({0: 18274, 1: 124})"
      ]
     },
     "execution_count": 6,
     "metadata": {},
     "output_type": "execute_result"
    }
   ],
   "source": [
    "Counter(df['y'])"
   ]
  },
  {
   "cell_type": "code",
   "execution_count": 7,
   "metadata": {},
   "outputs": [],
   "source": [
    "sign = lambda x: (1,-1)[x<0]"
   ]
  },
  {
   "cell_type": "code",
   "execution_count": 8,
   "metadata": {},
   "outputs": [
    {
     "data": {
      "text/plain": [
       "<function __main__.<lambda>(x)>"
      ]
     },
     "execution_count": 8,
     "metadata": {},
     "output_type": "execute_result"
    }
   ],
   "source": [
    "sign"
   ]
  },
  {
   "cell_type": "code",
   "execution_count": 9,
   "metadata": {},
   "outputs": [],
   "source": [
    "def curve_shift(df, shift_by):\n",
    "    \n",
    "    vector = df['y'].copy()\n",
    "    \n",
    "    for s in range(abs(shift_by)):\n",
    "        \n",
    "        tmp = vector.shift(sign(shift_by))\n",
    "        tmp = tmp.fillna(0)\n",
    "        vector += tmp\n",
    "        \n",
    "    labelcol = 'y'\n",
    "    \n",
    "    df.insert(loc=0, column = labelcol+ 'tmp', value=vector)\n",
    "    \n",
    "    df = df.drop(df[df[labelcol] ==1].index)\n",
    "    \n",
    "    df = df.drop(labelcol, axis = 1)\n",
    "    df = df.rename(columns = {labelcol + 'tmp':labelcol})\n",
    "    \n",
    "    df.loc[df[labelcol] > 0, labelcol] = 1\n",
    "    \n",
    "    return df \n",
    "    "
   ]
  },
  {
   "cell_type": "code",
   "execution_count": 10,
   "metadata": {},
   "outputs": [
    {
     "data": {
      "text/html": [
       "<div>\n",
       "<style scoped>\n",
       "    .dataframe tbody tr th:only-of-type {\n",
       "        vertical-align: middle;\n",
       "    }\n",
       "\n",
       "    .dataframe tbody tr th {\n",
       "        vertical-align: top;\n",
       "    }\n",
       "\n",
       "    .dataframe thead th {\n",
       "        text-align: right;\n",
       "    }\n",
       "</style>\n",
       "<table border=\"1\" class=\"dataframe\">\n",
       "  <thead>\n",
       "    <tr style=\"text-align: right;\">\n",
       "      <th></th>\n",
       "      <th>y</th>\n",
       "      <th>time</th>\n",
       "      <th>x1</th>\n",
       "      <th>x2</th>\n",
       "      <th>x3</th>\n",
       "      <th>x4</th>\n",
       "      <th>x5</th>\n",
       "      <th>x6</th>\n",
       "      <th>x7</th>\n",
       "      <th>x8</th>\n",
       "      <th>...</th>\n",
       "      <th>x52</th>\n",
       "      <th>x53</th>\n",
       "      <th>x54</th>\n",
       "      <th>x55</th>\n",
       "      <th>x56</th>\n",
       "      <th>x57</th>\n",
       "      <th>x58</th>\n",
       "      <th>x59</th>\n",
       "      <th>x60</th>\n",
       "      <th>x61</th>\n",
       "    </tr>\n",
       "  </thead>\n",
       "  <tbody>\n",
       "    <tr>\n",
       "      <th>0</th>\n",
       "      <td>0.0</td>\n",
       "      <td>5/1/99 0:00</td>\n",
       "      <td>0.376665</td>\n",
       "      <td>-4.596435</td>\n",
       "      <td>-4.095756</td>\n",
       "      <td>13.497687</td>\n",
       "      <td>-0.118830</td>\n",
       "      <td>-20.669883</td>\n",
       "      <td>0.000732</td>\n",
       "      <td>-0.061114</td>\n",
       "      <td>...</td>\n",
       "      <td>10.091721</td>\n",
       "      <td>0.053279</td>\n",
       "      <td>-4.936434</td>\n",
       "      <td>-24.590146</td>\n",
       "      <td>18.515436</td>\n",
       "      <td>3.473400</td>\n",
       "      <td>0.033444</td>\n",
       "      <td>0.953219</td>\n",
       "      <td>0.006076</td>\n",
       "      <td>0</td>\n",
       "    </tr>\n",
       "    <tr>\n",
       "      <th>1</th>\n",
       "      <td>0.0</td>\n",
       "      <td>5/1/99 0:02</td>\n",
       "      <td>0.475720</td>\n",
       "      <td>-4.542502</td>\n",
       "      <td>-4.018359</td>\n",
       "      <td>16.230659</td>\n",
       "      <td>-0.128733</td>\n",
       "      <td>-18.758079</td>\n",
       "      <td>0.000732</td>\n",
       "      <td>-0.061114</td>\n",
       "      <td>...</td>\n",
       "      <td>10.095871</td>\n",
       "      <td>0.062801</td>\n",
       "      <td>-4.937179</td>\n",
       "      <td>-32.413266</td>\n",
       "      <td>22.760065</td>\n",
       "      <td>2.682933</td>\n",
       "      <td>0.033536</td>\n",
       "      <td>1.090502</td>\n",
       "      <td>0.006083</td>\n",
       "      <td>0</td>\n",
       "    </tr>\n",
       "    <tr>\n",
       "      <th>2</th>\n",
       "      <td>0.0</td>\n",
       "      <td>5/1/99 0:04</td>\n",
       "      <td>0.363848</td>\n",
       "      <td>-4.681394</td>\n",
       "      <td>-4.353147</td>\n",
       "      <td>14.127998</td>\n",
       "      <td>-0.138636</td>\n",
       "      <td>-17.836632</td>\n",
       "      <td>0.010803</td>\n",
       "      <td>-0.061114</td>\n",
       "      <td>...</td>\n",
       "      <td>10.100265</td>\n",
       "      <td>0.072322</td>\n",
       "      <td>-4.937924</td>\n",
       "      <td>-34.183774</td>\n",
       "      <td>27.004663</td>\n",
       "      <td>3.537487</td>\n",
       "      <td>0.033629</td>\n",
       "      <td>1.840540</td>\n",
       "      <td>0.006090</td>\n",
       "      <td>0</td>\n",
       "    </tr>\n",
       "    <tr>\n",
       "      <th>3</th>\n",
       "      <td>0.0</td>\n",
       "      <td>5/1/99 0:06</td>\n",
       "      <td>0.301590</td>\n",
       "      <td>-4.758934</td>\n",
       "      <td>-4.023612</td>\n",
       "      <td>13.161567</td>\n",
       "      <td>-0.148142</td>\n",
       "      <td>-18.517601</td>\n",
       "      <td>0.002075</td>\n",
       "      <td>-0.061114</td>\n",
       "      <td>...</td>\n",
       "      <td>10.104660</td>\n",
       "      <td>0.081600</td>\n",
       "      <td>-4.938669</td>\n",
       "      <td>-35.954281</td>\n",
       "      <td>21.672449</td>\n",
       "      <td>3.986095</td>\n",
       "      <td>0.033721</td>\n",
       "      <td>2.554880</td>\n",
       "      <td>0.006097</td>\n",
       "      <td>0</td>\n",
       "    </tr>\n",
       "    <tr>\n",
       "      <th>4</th>\n",
       "      <td>0.0</td>\n",
       "      <td>5/1/99 0:08</td>\n",
       "      <td>0.265578</td>\n",
       "      <td>-4.749928</td>\n",
       "      <td>-4.333150</td>\n",
       "      <td>15.267340</td>\n",
       "      <td>-0.155314</td>\n",
       "      <td>-17.505913</td>\n",
       "      <td>0.000732</td>\n",
       "      <td>-0.061114</td>\n",
       "      <td>...</td>\n",
       "      <td>10.109054</td>\n",
       "      <td>0.091121</td>\n",
       "      <td>-4.939414</td>\n",
       "      <td>-37.724789</td>\n",
       "      <td>21.907251</td>\n",
       "      <td>3.601573</td>\n",
       "      <td>0.033777</td>\n",
       "      <td>1.410494</td>\n",
       "      <td>0.006105</td>\n",
       "      <td>0</td>\n",
       "    </tr>\n",
       "  </tbody>\n",
       "</table>\n",
       "<p>5 rows × 63 columns</p>\n",
       "</div>"
      ],
      "text/plain": [
       "     y         time        x1        x2        x3         x4        x5  \\\n",
       "0  0.0  5/1/99 0:00  0.376665 -4.596435 -4.095756  13.497687 -0.118830   \n",
       "1  0.0  5/1/99 0:02  0.475720 -4.542502 -4.018359  16.230659 -0.128733   \n",
       "2  0.0  5/1/99 0:04  0.363848 -4.681394 -4.353147  14.127998 -0.138636   \n",
       "3  0.0  5/1/99 0:06  0.301590 -4.758934 -4.023612  13.161567 -0.148142   \n",
       "4  0.0  5/1/99 0:08  0.265578 -4.749928 -4.333150  15.267340 -0.155314   \n",
       "\n",
       "          x6        x7        x8  ...        x52       x53       x54  \\\n",
       "0 -20.669883  0.000732 -0.061114  ...  10.091721  0.053279 -4.936434   \n",
       "1 -18.758079  0.000732 -0.061114  ...  10.095871  0.062801 -4.937179   \n",
       "2 -17.836632  0.010803 -0.061114  ...  10.100265  0.072322 -4.937924   \n",
       "3 -18.517601  0.002075 -0.061114  ...  10.104660  0.081600 -4.938669   \n",
       "4 -17.505913  0.000732 -0.061114  ...  10.109054  0.091121 -4.939414   \n",
       "\n",
       "         x55        x56       x57       x58       x59       x60  x61  \n",
       "0 -24.590146  18.515436  3.473400  0.033444  0.953219  0.006076    0  \n",
       "1 -32.413266  22.760065  2.682933  0.033536  1.090502  0.006083    0  \n",
       "2 -34.183774  27.004663  3.537487  0.033629  1.840540  0.006090    0  \n",
       "3 -35.954281  21.672449  3.986095  0.033721  2.554880  0.006097    0  \n",
       "4 -37.724789  21.907251  3.601573  0.033777  1.410494  0.006105    0  \n",
       "\n",
       "[5 rows x 63 columns]"
      ]
     },
     "execution_count": 10,
     "metadata": {},
     "output_type": "execute_result"
    }
   ],
   "source": [
    "shifted_df = curve_shift(df, shift_by=-5)\n",
    "shifted_df.head()"
   ]
  },
  {
   "cell_type": "code",
   "execution_count": 11,
   "metadata": {},
   "outputs": [],
   "source": [
    "shifted_df = shifted_df.drop(['time','x28','x61'], axis=1)"
   ]
  },
  {
   "cell_type": "code",
   "execution_count": 12,
   "metadata": {},
   "outputs": [],
   "source": [
    "input_x = shifted_df.drop('y', axis=1).values\n",
    "input_y = shifted_df['y'].values"
   ]
  },
  {
   "cell_type": "code",
   "execution_count": 13,
   "metadata": {},
   "outputs": [],
   "source": [
    "n_features = input_x.shape[1]"
   ]
  },
  {
   "cell_type": "code",
   "execution_count": 14,
   "metadata": {},
   "outputs": [
    {
     "data": {
      "text/plain": [
       "59"
      ]
     },
     "execution_count": 14,
     "metadata": {},
     "output_type": "execute_result"
    }
   ],
   "source": [
    "n_features"
   ]
  },
  {
   "cell_type": "code",
   "execution_count": 15,
   "metadata": {},
   "outputs": [],
   "source": [
    "def temporalize(X, y , timesteps):\n",
    "    \n",
    "    output_X = []\n",
    "    output_y = []\n",
    "    \n",
    "    for i in range(len(X) - timesteps  -1):\n",
    "        \n",
    "        t = []\n",
    "        \n",
    "        for j in range(1, timesteps + 1):\n",
    "            \n",
    "            t.append(X[[(i+j+1)], :])\n",
    "            \n",
    "        output_X.append(t)\n",
    "        output_y.append(y[i + timesteps + 1])\n",
    "        \n",
    "    return np.squeeze(np.array(output_X)), np.array(output_y)          \n",
    "            "
   ]
  },
  {
   "cell_type": "code",
   "execution_count": 16,
   "metadata": {},
   "outputs": [],
   "source": [
    "timesteps = 5"
   ]
  },
  {
   "cell_type": "code",
   "execution_count": 17,
   "metadata": {},
   "outputs": [],
   "source": [
    "x, y = temporalize(input_x, input_y, timesteps)"
   ]
  },
  {
   "cell_type": "code",
   "execution_count": 18,
   "metadata": {},
   "outputs": [
    {
     "name": "stdout",
     "output_type": "stream",
     "text": [
      "(18268, 5, 59)\n"
     ]
    }
   ],
   "source": [
    "print(x.shape) # (18268, 5, 59)"
   ]
  },
  {
   "cell_type": "code",
   "execution_count": 21,
   "metadata": {},
   "outputs": [
    {
     "data": {
      "text/plain": [
       "array([[ 3.63848490e-01, -4.68139380e+00, -4.35314680e+00,\n",
       "         1.41279975e+01, -1.38635700e-01, -1.78366320e+01,\n",
       "         1.08034800e-02, -6.11137000e-02, -3.00566000e-02,\n",
       "        -1.83524000e-02,  1.00490997e+00,  6.51501500e-02,\n",
       "        -9.61959620e+00,  1.01148310e-01,  4.10948800e-02,\n",
       "         2.52838570e-01, -2.35392480e+00, -9.35823600e-01,\n",
       "         3.07519949e+00,  1.23153750e-01, -1.04334200e-01,\n",
       "        -5.79012800e-01, -9.78445570e+00,  3.64355970e-01,\n",
       "         1.59728854e+01, -4.48926500e-01, -9.71440000e-02,\n",
       "        -1.33946590e+02,  5.87905600e-02, -8.46579000e-02,\n",
       "         9.03740897e+00,  2.14765000e-03, -6.78381870e+01,\n",
       "         4.80991391e+00, -2.25266900e-01, -1.86801200e-01,\n",
       "        -4.86964000e-02, -7.38229000e-02, -7.20746200e-01,\n",
       "        -1.08516630e+00,  7.96841541e+01, -6.32727500e-01,\n",
       "         1.36812309e+03, -3.77755000e-02, -5.19541000e-01,\n",
       "        -1.09086580e+02,  8.54360900e-02,  1.85828926e+01,\n",
       "         1.12863659e+01,  2.99846242e+01,  1.01002654e+01,\n",
       "         7.23221500e-02, -4.93792440e+00, -3.41837740e+01,\n",
       "         2.70046633e+01,  3.53748747e+00,  3.36292600e-02,\n",
       "         1.84053998e+00,  6.08978000e-03],\n",
       "       [ 3.01590490e-01, -4.75893380e+00, -4.02361180e+00,\n",
       "         1.31615665e+01, -1.48141700e-01, -1.85176010e+01,\n",
       "         2.07548000e-03, -6.11137000e-02, -1.99856000e-02,\n",
       "        -8.28040000e-03,  9.30036970e-01, -6.71988000e-02,\n",
       "        -1.51965310e+01,  1.01188310e-01,  4.07418800e-02,\n",
       "         7.28725700e-02, -2.36722280e+00, -9.31650600e-01,\n",
       "         3.07519949e+00,  1.23153750e-01, -1.04334200e-01,\n",
       "        -5.83164800e-01, -9.78445570e+00,  3.68555970e-01,\n",
       "         1.56086884e+01, -4.47403500e-01, -1.60073000e-01,\n",
       "        -1.34002590e+02,  5.88235600e-02, -5.51179000e-02,\n",
       "         9.02062497e+00,  2.14565000e-03, -6.70911480e+01,\n",
       "         5.30834291e+00, -2.25266900e-01, -1.86801200e-01,\n",
       "        -4.70174000e-02, -6.37519000e-02, -7.20746200e-01,\n",
       "         6.17289067e+00,  8.11867021e+01, -6.32727500e-01,\n",
       "         1.36569145e+03, -9.87410500e-01,  6.74524000e-01,\n",
       "        -1.09562770e+02,  8.57260900e-02,  1.77190316e+01,\n",
       "         1.12819719e+01,  2.99846242e+01,  1.01046604e+01,\n",
       "         8.16001500e-02, -4.93866940e+00, -3.59542810e+01,\n",
       "         2.16724493e+01,  3.98609547e+00,  3.37212600e-02,\n",
       "         2.55487998e+00,  6.09678000e-03],\n",
       "       [ 2.65578490e-01, -4.74992780e+00, -4.33314980e+00,\n",
       "         1.52673405e+01, -1.55313700e-01, -1.75059130e+01,\n",
       "         7.32480000e-04, -6.11137000e-02, -3.00566000e-02,\n",
       "        -8.28040000e-03,  8.28409970e-01, -1.84718000e-02,\n",
       "        -1.46092660e+01,  1.01229310e-01,  4.03898800e-02,\n",
       "         1.71032570e-01, -2.38052080e+00, -9.27477600e-01,\n",
       "         3.07519949e+00,  1.23153750e-01, -1.04334200e-01,\n",
       "        -5.87315800e-01, -9.78445570e+00,  3.72755970e-01,\n",
       "         1.56061254e+01, -4.45879500e-01, -1.31630000e-01,\n",
       "        -1.33145710e+02,  5.88555600e-02, -1.53850900e-01,\n",
       "         9.34423297e+00,  2.14465000e-03, -6.59918130e+01,\n",
       "         5.80677091e+00, -2.25266900e-01, -1.86801200e-01,\n",
       "        -5.70884000e-02, -6.37519000e-02, -7.20746200e-01,\n",
       "        -3.37959930e+00,  8.26892581e+01, -6.32727500e-01,\n",
       "         1.36325786e+03, -2.38444500e-01, -6.30440000e-02,\n",
       "        -1.10038910e+02,  8.60160900e-02,  1.68552016e+01,\n",
       "         1.12775769e+01,  2.99846242e+01,  1.01090544e+01,\n",
       "         9.11211500e-02, -4.93941440e+00, -3.77247890e+01,\n",
       "         2.19072513e+01,  3.60157347e+00,  3.37772600e-02,\n",
       "         1.41049398e+00,  6.10478000e-03],\n",
       "       [ 3.81253490e-01, -4.61174580e+00, -4.08507180e+00,\n",
       "         1.41431955e+01, -1.62500700e-01, -1.64942550e+01,\n",
       "         7.32480000e-04, -6.11137000e-02, -3.00566000e-02,\n",
       "        -8.28040000e-03,  7.76527970e-01, -9.31828000e-02,\n",
       "        -1.29995400e+01,  1.01269310e-01,  4.00368800e-02,\n",
       "         1.42500570e-01, -2.39381480e+00, -9.23307600e-01,\n",
       "         3.07519949e+00,  1.23153750e-01, -1.04334200e-01,\n",
       "        -5.91467800e-01, -9.78445570e+00,  3.76955970e-01,\n",
       "         1.56717384e+01, -4.44356500e-01, -1.33819000e-01,\n",
       "        -1.35438090e+02,  5.88875600e-02, -9.85329000e-02,\n",
       "         9.71282397e+00,  2.14265000e-03, -6.28958960e+01,\n",
       "         2.27233591e+00, -2.25266900e-01, -1.86801200e-01,\n",
       "        -5.70884000e-02, -6.37519000e-02, -7.20746200e-01,\n",
       "         1.54093267e+00,  8.41918061e+01, -6.32727500e-01,\n",
       "         1.36082622e+03,  2.31605400e-02, -5.33091000e-01,\n",
       "        -1.10515040e+02,  8.63060900e-02,  2.27696606e+01,\n",
       "         1.12734269e+01,  2.99846242e+01,  1.01134494e+01,\n",
       "         1.00643150e-01, -4.94015940e+00, -3.62263760e+01,\n",
       "         2.33128903e+01,  3.66566047e+00,  3.36242600e-02,\n",
       "         8.86636980e-01,  6.11178000e-03],\n",
       "       [ 3.13325490e-01, -4.53020980e+00, -4.12093080e+00,\n",
       "         1.86814645e+01, -1.69671700e-01, -1.53295210e+01,\n",
       "         7.32480000e-04, -6.11137000e-02, -3.00566000e-02,\n",
       "        -8.28040000e-03,  7.47535970e-01, -1.38764800e-01,\n",
       "        -1.07838870e+01,  1.01309310e-01,  3.96838800e-02,\n",
       "         1.42195570e-01, -2.40711280e+00, -9.19134600e-01,\n",
       "         3.07519949e+00,  1.23153750e-01, -1.04334200e-01,\n",
       "        -5.95619800e-01, -9.78445570e+00,  3.81155970e-01,\n",
       "         1.56371314e+01, -4.42832500e-01, -1.50353000e-01,\n",
       "        -1.36051360e+02,  5.89205600e-02, -1.66649000e-02,\n",
       "         9.45598797e+00,  2.14165000e-03, -5.98000100e+01,\n",
       "         2.77929391e+00, -2.25266900e-01, -1.86801200e-01,\n",
       "        -5.70884000e-02, -6.44019000e-02, -7.20746200e-01,\n",
       "        -1.25508830e+00,  8.27400391e+01, -6.32727500e-01,\n",
       "         1.36424809e+03, -7.61980500e-01,  3.75322000e-01,\n",
       "        -1.10991180e+02,  8.65960900e-02,  2.11728586e+01,\n",
       "         1.12690319e+01,  2.99846242e+01,  1.01178444e+01,\n",
       "         1.09920150e-01, -4.94090340e+00, -3.22280850e+01,\n",
       "         2.47185003e+01,  4.11426947e+00,  3.34722600e-02,\n",
       "         1.32274098e+00,  6.11878000e-03]])"
      ]
     },
     "execution_count": 21,
     "metadata": {},
     "output_type": "execute_result"
    }
   ],
   "source": [
    "x[0]"
   ]
  },
  {
   "cell_type": "code",
   "execution_count": 22,
   "metadata": {},
   "outputs": [],
   "source": [
    "x_train, x_test, y_train, y_test = train_test_split(x, y, test_size=0.2)\n",
    "x_train, x_valid, y_train, y_valid = train_test_split(x_train, \n",
    "                                                      y_train,\n",
    "                                                      test_size=0.2)"
   ]
  },
  {
   "cell_type": "code",
   "execution_count": 23,
   "metadata": {},
   "outputs": [
    {
     "name": "stdout",
     "output_type": "stream",
     "text": [
      "11691\n",
      "2923\n",
      "3654\n"
     ]
    }
   ],
   "source": [
    "print(len(x_train))  # 11691\n",
    "print(len(x_valid))  # 2923\n",
    "print(len(x_test))   # 3654"
   ]
  },
  {
   "cell_type": "code",
   "execution_count": 24,
   "metadata": {},
   "outputs": [],
   "source": [
    "# For training the autoencoder, split 0 / 1\n",
    "x_train_y0 = x_train[y_train == 0]\n",
    "x_train_y1 = x_train[y_train == 1]\n",
    "\n",
    "x_valid_y0 = x_valid[y_valid == 0]\n",
    "x_valid_y1 = x_valid[y_valid == 1]"
   ]
  },
  {
   "cell_type": "code",
   "execution_count": 25,
   "metadata": {},
   "outputs": [],
   "source": [
    "def flatten(X):\n",
    "    flattened_X = np.empty((X.shape[0], X.shape[2]))  # sample x features array.\n",
    "    for i in range(X.shape[0]):\n",
    "        flattened_X[i] = X[i, (X.shape[1]-1), :]\n",
    "    return(flattened_X)"
   ]
  },
  {
   "cell_type": "code",
   "execution_count": 26,
   "metadata": {},
   "outputs": [],
   "source": [
    "def scale(X, scaler):\n",
    "    for i in range(X.shape[0]):\n",
    "        X[i, :, :] = scaler.transform(X[i, :, :])\n",
    "        \n",
    "    return X"
   ]
  },
  {
   "cell_type": "code",
   "execution_count": 27,
   "metadata": {},
   "outputs": [],
   "source": [
    "scaler = StandardScaler().fit(flatten(x_train_y0))"
   ]
  },
  {
   "cell_type": "code",
   "execution_count": 28,
   "metadata": {},
   "outputs": [],
   "source": [
    "x_train_y0_scaled = scale(x_train_y0, scaler)\n",
    "x_valid_scaled = scale(x_valid, scaler)\n",
    "x_valid_y0_scaled = scale(x_valid_y0, scaler)\n",
    "x_test_scaled = scale(x_test, scaler)"
   ]
  },
  {
   "cell_type": "code",
   "execution_count": 29,
   "metadata": {},
   "outputs": [],
   "source": [
    "epochs = 200\n",
    "batch = 128\n",
    "lr = 0.001"
   ]
  },
  {
   "cell_type": "code",
   "execution_count": 32,
   "metadata": {},
   "outputs": [],
   "source": [
    "lstm_ae = models.Sequential()"
   ]
  },
  {
   "cell_type": "code",
   "execution_count": 33,
   "metadata": {},
   "outputs": [],
   "source": [
    "# Encoder\n",
    "lstm_ae.add(layers.LSTM(32, activation='relu', input_shape=(timesteps, n_features), return_sequences=True))\n",
    "lstm_ae.add(layers.LSTM(16, activation='relu', return_sequences=False))\n",
    "lstm_ae.add(layers.RepeatVector(timesteps))\n",
    "# Decoder\n",
    "lstm_ae.add(layers.LSTM(16, activation='relu', return_sequences=True))\n",
    "lstm_ae.add(layers.LSTM(32, activation='relu', return_sequences=True))\n",
    "lstm_ae.add(layers.TimeDistributed(layers.Dense(n_features)))"
   ]
  },
  {
   "cell_type": "code",
   "execution_count": 34,
   "metadata": {},
   "outputs": [
    {
     "name": "stdout",
     "output_type": "stream",
     "text": [
      "Model: \"sequential_1\"\n",
      "_________________________________________________________________\n",
      "Layer (type)                 Output Shape              Param #   \n",
      "=================================================================\n",
      "lstm_4 (LSTM)                (None, 5, 32)             11776     \n",
      "_________________________________________________________________\n",
      "lstm_5 (LSTM)                (None, 16)                3136      \n",
      "_________________________________________________________________\n",
      "repeat_vector_1 (RepeatVecto (None, 5, 16)             0         \n",
      "_________________________________________________________________\n",
      "lstm_6 (LSTM)                (None, 5, 16)             2112      \n",
      "_________________________________________________________________\n",
      "lstm_7 (LSTM)                (None, 5, 32)             6272      \n",
      "_________________________________________________________________\n",
      "time_distributed_1 (TimeDist (None, 5, 59)             1947      \n",
      "=================================================================\n",
      "Total params: 25,243\n",
      "Trainable params: 25,243\n",
      "Non-trainable params: 0\n",
      "_________________________________________________________________\n"
     ]
    }
   ],
   "source": [
    "lstm_ae.summary()"
   ]
  },
  {
   "cell_type": "code",
   "execution_count": 35,
   "metadata": {},
   "outputs": [],
   "source": [
    "# compile\n",
    "lstm_ae.compile(loss='mse', optimizer=optimizers.Adam(lr))"
   ]
  },
  {
   "cell_type": "code",
   "execution_count": 36,
   "metadata": {},
   "outputs": [
    {
     "name": "stdout",
     "output_type": "stream",
     "text": [
      "Epoch 1/200\n",
      "89/89 [==============================] - 1s 13ms/step - loss: 0.8859 - val_loss: 0.7047\n",
      "Epoch 2/200\n",
      "89/89 [==============================] - 1s 7ms/step - loss: 0.5613 - val_loss: 0.4650\n",
      "Epoch 3/200\n",
      "89/89 [==============================] - 1s 7ms/step - loss: 0.4007 - val_loss: 0.3678\n",
      "Epoch 4/200\n",
      "89/89 [==============================] - 1s 10ms/step - loss: 0.3351 - val_loss: 0.3237\n",
      "Epoch 5/200\n",
      "89/89 [==============================] - 1s 8ms/step - loss: 0.2999 - val_loss: 0.2947\n",
      "Epoch 6/200\n",
      "89/89 [==============================] - 1s 7ms/step - loss: 0.2753 - val_loss: 0.2776\n",
      "Epoch 7/200\n",
      "89/89 [==============================] - 1s 9ms/step - loss: 0.2595 - val_loss: 0.2605\n",
      "Epoch 8/200\n",
      "89/89 [==============================] - 1s 9ms/step - loss: 0.2470 - val_loss: 0.2501\n",
      "Epoch 9/200\n",
      "89/89 [==============================] - 1s 7ms/step - loss: 0.2372 - val_loss: 0.2444\n",
      "Epoch 10/200\n",
      "89/89 [==============================] - 1s 7ms/step - loss: 0.2307 - val_loss: 0.2355\n",
      "Epoch 11/200\n",
      "89/89 [==============================] - ETA: 0s - loss: 0.2271- ETA: 0s - lo - 1s 7ms/step - loss: 0.2259 - val_loss: 0.2276\n",
      "Epoch 12/200\n",
      "89/89 [==============================] - 1s 8ms/step - loss: 0.2174 - val_loss: 0.2201\n",
      "Epoch 13/200\n",
      "89/89 [==============================] - 1s 9ms/step - loss: 0.2112 - val_loss: 0.2155\n",
      "Epoch 14/200\n",
      "89/89 [==============================] - 1s 7ms/step - loss: 0.2064 - val_loss: 0.2110\n",
      "Epoch 15/200\n",
      "89/89 [==============================] - 1s 8ms/step - loss: 0.2046 - val_loss: 0.2073\n",
      "Epoch 16/200\n",
      "89/89 [==============================] - 1s 10ms/step - loss: 0.2000 - val_loss: 0.2049\n",
      "Epoch 17/200\n",
      "89/89 [==============================] - 1s 7ms/step - loss: 0.1971 - val_loss: 0.2004\n",
      "Epoch 18/200\n",
      "89/89 [==============================] - 1s 8ms/step - loss: 0.1933 - val_loss: 0.1983\n",
      "Epoch 19/200\n",
      "89/89 [==============================] - 1s 7ms/step - loss: 0.1901 - val_loss: 0.1942\n",
      "Epoch 20/200\n",
      "89/89 [==============================] - 1s 8ms/step - loss: 0.1880 - val_loss: 0.1939\n",
      "Epoch 21/200\n",
      "89/89 [==============================] - 1s 8ms/step - loss: 0.1848 - val_loss: 0.1906\n",
      "Epoch 22/200\n",
      "89/89 [==============================] - 1s 8ms/step - loss: 0.1828 - val_loss: 0.1906\n",
      "Epoch 23/200\n",
      "89/89 [==============================] - 1s 8ms/step - loss: 0.1819 - val_loss: 0.1853\n",
      "Epoch 24/200\n",
      "89/89 [==============================] - 1s 9ms/step - loss: 0.1793 - val_loss: 0.1844\n",
      "Epoch 25/200\n",
      "89/89 [==============================] - 1s 9ms/step - loss: 0.1784 - val_loss: 0.1831\n",
      "Epoch 26/200\n",
      "89/89 [==============================] - 1s 7ms/step - loss: 0.1753 - val_loss: 0.1807\n",
      "Epoch 27/200\n",
      "89/89 [==============================] - 1s 8ms/step - loss: 0.1745 - val_loss: 0.1771\n",
      "Epoch 28/200\n",
      "89/89 [==============================] - 1s 8ms/step - loss: 0.1713 - val_loss: 0.1755\n",
      "Epoch 29/200\n",
      "89/89 [==============================] - 1s 8ms/step - loss: 0.1693 - val_loss: 0.1756\n",
      "Epoch 30/200\n",
      "89/89 [==============================] - 1s 7ms/step - loss: 0.1688 - val_loss: 0.1756\n",
      "Epoch 31/200\n",
      "89/89 [==============================] - 1s 7ms/step - loss: 0.1667 - val_loss: 0.1713\n",
      "Epoch 32/200\n",
      "89/89 [==============================] - 1s 9ms/step - loss: 0.1648 - val_loss: 0.1700\n",
      "Epoch 33/200\n",
      "89/89 [==============================] - 1s 9ms/step - loss: 0.1646 - val_loss: 0.1682\n",
      "Epoch 34/200\n",
      "89/89 [==============================] - 1s 8ms/step - loss: 0.1618 - val_loss: 0.1681\n",
      "Epoch 35/200\n",
      "89/89 [==============================] - 1s 7ms/step - loss: 0.1607 - val_loss: 0.1663\n",
      "Epoch 36/200\n",
      "89/89 [==============================] - 1s 8ms/step - loss: 0.1606 - val_loss: 0.1685\n",
      "Epoch 37/200\n",
      "89/89 [==============================] - 1s 8ms/step - loss: 0.1603 - val_loss: 0.1647\n",
      "Epoch 38/200\n",
      "89/89 [==============================] - 1s 8ms/step - loss: 0.1571 - val_loss: 0.1647\n",
      "Epoch 39/200\n",
      "89/89 [==============================] - 1s 7ms/step - loss: 0.1566 - val_loss: 0.1637\n",
      "Epoch 40/200\n",
      "89/89 [==============================] - 1s 7ms/step - loss: 0.1576 - val_loss: 0.1646\n",
      "Epoch 41/200\n",
      "89/89 [==============================] - 1s 10ms/step - loss: 0.1560 - val_loss: 0.1592\n",
      "Epoch 42/200\n",
      "89/89 [==============================] - 1s 9ms/step - loss: 0.1528 - val_loss: 0.1598\n",
      "Epoch 43/200\n",
      "89/89 [==============================] - 1s 8ms/step - loss: 0.1540 - val_loss: 0.1591\n",
      "Epoch 44/200\n",
      "89/89 [==============================] - 1s 7ms/step - loss: 0.1546 - val_loss: 0.1617\n",
      "Epoch 45/200\n",
      "89/89 [==============================] - 1s 9ms/step - loss: 0.1513 - val_loss: 0.1590\n",
      "Epoch 46/200\n",
      "89/89 [==============================] - 1s 8ms/step - loss: 0.1501 - val_loss: 0.1564\n",
      "Epoch 47/200\n",
      "89/89 [==============================] - 1s 7ms/step - loss: 0.1489 - val_loss: 0.1554\n",
      "Epoch 48/200\n",
      "89/89 [==============================] - 1s 7ms/step - loss: 0.1497 - val_loss: 0.1581\n",
      "Epoch 49/200\n",
      "89/89 [==============================] - 1s 8ms/step - loss: 0.1496 - val_loss: 0.1537\n",
      "Epoch 50/200\n",
      "89/89 [==============================] - 1s 10ms/step - loss: 0.1467 - val_loss: 0.1529\n",
      "Epoch 51/200\n",
      "89/89 [==============================] - 1s 8ms/step - loss: 0.1456 - val_loss: 0.1521\n",
      "Epoch 52/200\n",
      "89/89 [==============================] - 1s 7ms/step - loss: 0.1451 - val_loss: 0.1528\n",
      "Epoch 53/200\n",
      "89/89 [==============================] - 1s 8ms/step - loss: 0.1453 - val_loss: 0.1533\n",
      "Epoch 54/200\n",
      "89/89 [==============================] - 1s 8ms/step - loss: 0.1442 - val_loss: 0.1519\n",
      "Epoch 55/200\n",
      "89/89 [==============================] - 1s 8ms/step - loss: 0.1456 - val_loss: 0.1505\n",
      "Epoch 56/200\n",
      "89/89 [==============================] - 1s 7ms/step - loss: 0.1433 - val_loss: 0.1501\n",
      "Epoch 57/200\n",
      "89/89 [==============================] - 1s 7ms/step - loss: 0.1434 - val_loss: 0.1489\n",
      "Epoch 58/200\n",
      "89/89 [==============================] - 1s 8ms/step - loss: 0.1429 - val_loss: 0.1489\n",
      "Epoch 59/200\n",
      "89/89 [==============================] - 1s 10ms/step - loss: 0.1421 - val_loss: 0.1493\n",
      "Epoch 60/200\n",
      "89/89 [==============================] - 1s 8ms/step - loss: 0.1416 - val_loss: 0.1496\n",
      "Epoch 61/200\n",
      "89/89 [==============================] - 1s 8ms/step - loss: 0.1470 - val_loss: 0.1520\n",
      "Epoch 62/200\n",
      "89/89 [==============================] - 1s 8ms/step - loss: 0.1428 - val_loss: 0.1484\n",
      "Epoch 63/200\n",
      "89/89 [==============================] - 1s 7ms/step - loss: 0.1415 - val_loss: 0.1469\n",
      "Epoch 64/200\n",
      "89/89 [==============================] - 1s 9ms/step - loss: 0.1412 - val_loss: 0.1486\n",
      "Epoch 65/200\n",
      "89/89 [==============================] - 1s 7ms/step - loss: 0.1418 - val_loss: 0.1474\n",
      "Epoch 66/200\n",
      "89/89 [==============================] - 1s 8ms/step - loss: 0.1418 - val_loss: 0.1473\n",
      "Epoch 67/200\n",
      "89/89 [==============================] - 1s 9ms/step - loss: 0.1393 - val_loss: 0.1466\n",
      "Epoch 68/200\n",
      "89/89 [==============================] - 1s 8ms/step - loss: 0.1386 - val_loss: 0.1456\n",
      "Epoch 69/200\n",
      "89/89 [==============================] - 1s 9ms/step - loss: 0.1385 - val_loss: 0.1463\n",
      "Epoch 70/200\n",
      "89/89 [==============================] - 1s 8ms/step - loss: 0.1386 - val_loss: 0.1440\n",
      "Epoch 71/200\n",
      "89/89 [==============================] - 1s 8ms/step - loss: 0.1366 - val_loss: 0.1438\n",
      "Epoch 72/200\n",
      "89/89 [==============================] - 1s 7ms/step - loss: 0.1365 - val_loss: 0.1444\n",
      "Epoch 73/200\n",
      "89/89 [==============================] - 1s 8ms/step - loss: 0.1369 - val_loss: 0.1446\n",
      "Epoch 74/200\n",
      "89/89 [==============================] - 1s 7ms/step - loss: 0.1367 - val_loss: 0.1438\n",
      "Epoch 75/200\n",
      "89/89 [==============================] - 1s 9ms/step - loss: 0.1357 - val_loss: 0.1419\n",
      "Epoch 76/200\n",
      "89/89 [==============================] - 1s 10ms/step - loss: 0.1348 - val_loss: 0.1415\n",
      "Epoch 77/200\n",
      "89/89 [==============================] - 1s 11ms/step - loss: 0.1358 - val_loss: 0.1444\n",
      "Epoch 78/200\n",
      "89/89 [==============================] - 1s 10ms/step - loss: 0.1362 - val_loss: 0.1427\n",
      "Epoch 79/200\n",
      "89/89 [==============================] - 1s 8ms/step - loss: 0.1348 - val_loss: 0.1407\n",
      "Epoch 80/200\n",
      "89/89 [==============================] - 1s 9ms/step - loss: 0.1345 - val_loss: 0.1429\n",
      "Epoch 81/200\n",
      "89/89 [==============================] - 1s 9ms/step - loss: 0.1357 - val_loss: 0.1461\n",
      "Epoch 82/200\n"
     ]
    },
    {
     "name": "stdout",
     "output_type": "stream",
     "text": [
      "89/89 [==============================] - 1s 10ms/step - loss: 0.1349 - val_loss: 0.1416\n",
      "Epoch 83/200\n",
      "89/89 [==============================] - 1s 14ms/step - loss: 0.1336 - val_loss: 0.1409\n",
      "Epoch 84/200\n",
      "89/89 [==============================] - 1s 11ms/step - loss: 0.1332 - val_loss: 0.1419\n",
      "Epoch 85/200\n",
      "89/89 [==============================] - 1s 12ms/step - loss: 0.1334 - val_loss: 0.1415\n",
      "Epoch 86/200\n",
      "89/89 [==============================] - 1s 8ms/step - loss: 0.1322 - val_loss: 0.1407\n",
      "Epoch 87/200\n",
      "89/89 [==============================] - 1s 7ms/step - loss: 0.1338 - val_loss: 0.1421\n",
      "Epoch 88/200\n",
      "89/89 [==============================] - 1s 8ms/step - loss: 0.1415 - val_loss: 0.1452\n",
      "Epoch 89/200\n",
      "89/89 [==============================] - 1s 8ms/step - loss: 0.1396 - val_loss: 0.1413\n",
      "Epoch 90/200\n",
      "89/89 [==============================] - 1s 11ms/step - loss: 0.1340 - val_loss: 0.1404\n",
      "Epoch 91/200\n",
      "89/89 [==============================] - 1s 9ms/step - loss: 0.1321 - val_loss: 0.1392\n",
      "Epoch 92/200\n",
      "89/89 [==============================] - 1s 8ms/step - loss: 0.1313 - val_loss: 0.1397\n",
      "Epoch 93/200\n",
      "89/89 [==============================] - 1s 9ms/step - loss: 0.1311 - val_loss: 0.1381\n",
      "Epoch 94/200\n",
      "89/89 [==============================] - 1s 8ms/step - loss: 0.1318 - val_loss: 0.1411\n",
      "Epoch 95/200\n",
      "89/89 [==============================] - 1s 7ms/step - loss: 0.1357 - val_loss: 0.1399\n",
      "Epoch 96/200\n",
      "89/89 [==============================] - 1s 7ms/step - loss: 0.1319 - val_loss: 0.1385\n",
      "Epoch 97/200\n",
      "89/89 [==============================] - 1s 7ms/step - loss: 0.1331 - val_loss: 0.1401\n",
      "Epoch 98/200\n",
      "89/89 [==============================] - 1s 7ms/step - loss: 0.1311 - val_loss: 0.1371\n",
      "Epoch 99/200\n",
      "89/89 [==============================] - 1s 8ms/step - loss: 0.1299 - val_loss: 0.1375\n",
      "Epoch 100/200\n",
      "89/89 [==============================] - 1s 9ms/step - loss: 0.1295 - val_loss: 0.1372\n",
      "Epoch 101/200\n",
      "89/89 [==============================] - 1s 8ms/step - loss: 0.1297 - val_loss: 0.1384\n",
      "Epoch 102/200\n",
      "89/89 [==============================] - 1s 8ms/step - loss: 0.1297 - val_loss: 0.1373\n",
      "Epoch 103/200\n",
      "89/89 [==============================] - 1s 7ms/step - loss: 0.1298 - val_loss: 0.1382\n",
      "Epoch 104/200\n",
      "89/89 [==============================] - 1s 8ms/step - loss: 0.1301 - val_loss: 0.1394\n",
      "Epoch 105/200\n",
      "89/89 [==============================] - 1s 7ms/step - loss: 0.1303 - val_loss: 0.1375\n",
      "Epoch 106/200\n",
      "89/89 [==============================] - 1s 7ms/step - loss: 0.1296 - val_loss: 0.1374\n",
      "Epoch 107/200\n",
      "89/89 [==============================] - 1s 7ms/step - loss: 0.1295 - val_loss: 0.1362\n",
      "Epoch 108/200\n",
      "89/89 [==============================] - 1s 7ms/step - loss: 0.1303 - val_loss: 0.1369\n",
      "Epoch 109/200\n",
      "89/89 [==============================] - 1s 10ms/step - loss: 0.1287 - val_loss: 0.1370\n",
      "Epoch 110/200\n",
      "89/89 [==============================] - 1s 8ms/step - loss: 0.1287 - val_loss: 0.1387\n",
      "Epoch 111/200\n",
      "89/89 [==============================] - 1s 7ms/step - loss: 0.1294 - val_loss: 0.1368\n",
      "Epoch 112/200\n",
      "89/89 [==============================] - 1s 7ms/step - loss: 0.1307 - val_loss: 0.1387\n",
      "Epoch 113/200\n",
      "89/89 [==============================] - 1s 7ms/step - loss: 0.1318 - val_loss: 0.1400\n",
      "Epoch 114/200\n",
      "89/89 [==============================] - 1s 8ms/step - loss: 0.1312 - val_loss: 0.1362\n",
      "Epoch 115/200\n",
      "89/89 [==============================] - 1s 7ms/step - loss: 0.1290 - val_loss: 0.1356\n",
      "Epoch 116/200\n",
      "89/89 [==============================] - 1s 7ms/step - loss: 0.1280 - val_loss: 0.1346\n",
      "Epoch 117/200\n",
      "89/89 [==============================] - 1s 7ms/step - loss: 0.1276 - val_loss: 0.1350\n",
      "Epoch 118/200\n",
      "89/89 [==============================] - 1s 9ms/step - loss: 0.1283 - val_loss: 0.1361\n",
      "Epoch 119/200\n",
      "89/89 [==============================] - 1s 9ms/step - loss: 0.1271 - val_loss: 0.1345\n",
      "Epoch 120/200\n",
      "89/89 [==============================] - 1s 7ms/step - loss: 0.1272 - val_loss: 0.1352\n",
      "Epoch 121/200\n",
      "89/89 [==============================] - 1s 8ms/step - loss: 0.1278 - val_loss: 0.1360\n",
      "Epoch 122/200\n",
      "89/89 [==============================] - 1s 7ms/step - loss: 0.1274 - val_loss: 0.1351\n",
      "Epoch 123/200\n",
      "89/89 [==============================] - 1s 7ms/step - loss: 0.1281 - val_loss: 0.1348\n",
      "Epoch 124/200\n",
      "89/89 [==============================] - 1s 8ms/step - loss: 0.1270 - val_loss: 0.1339\n",
      "Epoch 125/200\n",
      "89/89 [==============================] - 1s 7ms/step - loss: 0.1269 - val_loss: 0.1332\n",
      "Epoch 126/200\n",
      "89/89 [==============================] - 1s 7ms/step - loss: 0.1267 - val_loss: 0.1328\n",
      "Epoch 127/200\n",
      "89/89 [==============================] - 1s 9ms/step - loss: 0.1264 - val_loss: 0.1342\n",
      "Epoch 128/200\n",
      "89/89 [==============================] - 1s 8ms/step - loss: 0.1273 - val_loss: 0.1350\n",
      "Epoch 129/200\n",
      "89/89 [==============================] - 1s 8ms/step - loss: 0.1270 - val_loss: 0.1349\n",
      "Epoch 130/200\n",
      "89/89 [==============================] - 1s 7ms/step - loss: 0.1263 - val_loss: 0.1335\n",
      "Epoch 131/200\n",
      "89/89 [==============================] - 1s 7ms/step - loss: 0.1265 - val_loss: 0.1336\n",
      "Epoch 132/200\n",
      "89/89 [==============================] - 1s 7ms/step - loss: 0.1260 - val_loss: 0.1358\n",
      "Epoch 133/200\n",
      "89/89 [==============================] - 1s 7ms/step - loss: 0.1266 - val_loss: 0.1335\n",
      "Epoch 134/200\n",
      "89/89 [==============================] - 1s 8ms/step - loss: 0.1252 - val_loss: 0.1358\n",
      "Epoch 135/200\n",
      "89/89 [==============================] - 1s 8ms/step - loss: 0.1262 - val_loss: 0.1357\n",
      "Epoch 136/200\n",
      "89/89 [==============================] - 1s 9ms/step - loss: 0.1286 - val_loss: 0.1364\n",
      "Epoch 137/200\n",
      "89/89 [==============================] - 1s 8ms/step - loss: 0.1274 - val_loss: 0.1351\n",
      "Epoch 138/200\n",
      "89/89 [==============================] - 1s 8ms/step - loss: 0.1267 - val_loss: 0.1326\n",
      "Epoch 139/200\n",
      "89/89 [==============================] - 1s 8ms/step - loss: 0.1252 - val_loss: 0.1337\n",
      "Epoch 140/200\n",
      "89/89 [==============================] - 1s 7ms/step - loss: 0.1256 - val_loss: 0.1346\n",
      "Epoch 141/200\n",
      "89/89 [==============================] - 1s 8ms/step - loss: 0.1257 - val_loss: 0.1330\n",
      "Epoch 142/200\n",
      "89/89 [==============================] - 1s 7ms/step - loss: 0.1249 - val_loss: 0.1324\n",
      "Epoch 143/200\n",
      "89/89 [==============================] - 1s 9ms/step - loss: 0.1241 - val_loss: 0.1336\n",
      "Epoch 144/200\n",
      "89/89 [==============================] - 1s 9ms/step - loss: 0.1239 - val_loss: 0.1325\n",
      "Epoch 145/200\n",
      "89/89 [==============================] - 1s 9ms/step - loss: 0.1242 - val_loss: 0.1330\n",
      "Epoch 146/200\n",
      "89/89 [==============================] - 1s 8ms/step - loss: 0.1241 - val_loss: 0.1337\n",
      "Epoch 147/200\n",
      "89/89 [==============================] - 1s 8ms/step - loss: 0.1240 - val_loss: 0.1330\n",
      "Epoch 148/200\n",
      "89/89 [==============================] - 1s 8ms/step - loss: 0.1265 - val_loss: 0.1336\n",
      "Epoch 149/200\n",
      "89/89 [==============================] - 1s 7ms/step - loss: 0.1249 - val_loss: 0.1316\n",
      "Epoch 150/200\n",
      "89/89 [==============================] - 1s 7ms/step - loss: 0.1237 - val_loss: 0.1324\n",
      "Epoch 151/200\n",
      "89/89 [==============================] - 1s 7ms/step - loss: 0.1235 - val_loss: 0.1323\n",
      "Epoch 152/200\n",
      "89/89 [==============================] - 1s 8ms/step - loss: 0.1239 - val_loss: 0.1331\n",
      "Epoch 153/200\n",
      "89/89 [==============================] - 1s 9ms/step - loss: 0.1235 - val_loss: 0.1318\n",
      "Epoch 154/200\n",
      "89/89 [==============================] - 1s 8ms/step - loss: 0.1238 - val_loss: 0.1320\n",
      "Epoch 155/200\n",
      "89/89 [==============================] - 1s 7ms/step - loss: 0.1235 - val_loss: 0.1313\n",
      "Epoch 156/200\n",
      "89/89 [==============================] - 1s 7ms/step - loss: 0.1237 - val_loss: 0.1326\n",
      "Epoch 157/200\n",
      "89/89 [==============================] - 1s 8ms/step - loss: 0.1328 - val_loss: 0.1348\n",
      "Epoch 158/200\n",
      "89/89 [==============================] - 1s 7ms/step - loss: 0.1398 - val_loss: 0.1366\n",
      "Epoch 159/200\n",
      "89/89 [==============================] - 1s 7ms/step - loss: 0.1310 - val_loss: 0.1355\n",
      "Epoch 160/200\n",
      "89/89 [==============================] - 1s 7ms/step - loss: 0.1257 - val_loss: 0.1314\n",
      "Epoch 161/200\n",
      "89/89 [==============================] - 1s 8ms/step - loss: 0.1244 - val_loss: 0.1350\n",
      "Epoch 162/200\n",
      "89/89 [==============================] - 1s 10ms/step - loss: 0.1245 - val_loss: 0.1316\n",
      "Epoch 163/200\n"
     ]
    },
    {
     "name": "stdout",
     "output_type": "stream",
     "text": [
      "89/89 [==============================] - 1s 8ms/step - loss: 0.1236 - val_loss: 0.1331\n",
      "Epoch 164/200\n",
      "89/89 [==============================] - 1s 7ms/step - loss: 0.1237 - val_loss: 0.1313\n",
      "Epoch 165/200\n",
      "89/89 [==============================] - 1s 7ms/step - loss: 0.1232 - val_loss: 0.1313\n",
      "Epoch 166/200\n",
      "89/89 [==============================] - 1s 7ms/step - loss: 0.1224 - val_loss: 0.1313\n",
      "Epoch 167/200\n",
      "89/89 [==============================] - 1s 8ms/step - loss: 0.1223 - val_loss: 0.1335\n",
      "Epoch 168/200\n",
      "89/89 [==============================] - 1s 7ms/step - loss: 0.1237 - val_loss: 0.1327\n",
      "Epoch 169/200\n",
      "89/89 [==============================] - 1s 7ms/step - loss: 0.1225 - val_loss: 0.1301\n",
      "Epoch 170/200\n",
      "89/89 [==============================] - 1s 8ms/step - loss: 0.1219 - val_loss: 0.1304\n",
      "Epoch 171/200\n",
      "89/89 [==============================] - 1s 8ms/step - loss: 0.1233 - val_loss: 0.1334\n",
      "Epoch 172/200\n",
      "89/89 [==============================] - 1s 9ms/step - loss: 0.1234 - val_loss: 0.1313\n",
      "Epoch 173/200\n",
      "89/89 [==============================] - 1s 7ms/step - loss: 0.1216 - val_loss: 0.1309\n",
      "Epoch 174/200\n",
      "89/89 [==============================] - 1s 8ms/step - loss: 0.1216 - val_loss: 0.1359\n",
      "Epoch 175/200\n",
      "89/89 [==============================] - 1s 7ms/step - loss: 0.1236 - val_loss: 0.1324\n",
      "Epoch 176/200\n",
      "89/89 [==============================] - 1s 7ms/step - loss: 0.1223 - val_loss: 0.1346\n",
      "Epoch 177/200\n",
      "89/89 [==============================] - 1s 8ms/step - loss: 0.1263 - val_loss: 0.1317\n",
      "Epoch 178/200\n",
      "89/89 [==============================] - 1s 7ms/step - loss: 0.1256 - val_loss: 0.1301\n",
      "Epoch 179/200\n",
      "89/89 [==============================] - 1s 8ms/step - loss: 0.1219 - val_loss: 0.1308\n",
      "Epoch 180/200\n",
      "89/89 [==============================] - 1s 9ms/step - loss: 0.1213 - val_loss: 0.1288\n",
      "Epoch 181/200\n",
      "89/89 [==============================] - 1s 9ms/step - loss: 0.1213 - val_loss: 0.1290\n",
      "Epoch 182/200\n",
      "89/89 [==============================] - 1s 7ms/step - loss: 0.1209 - val_loss: 0.1299\n",
      "Epoch 183/200\n",
      "89/89 [==============================] - 1s 7ms/step - loss: 0.1217 - val_loss: 0.1344\n",
      "Epoch 184/200\n",
      "89/89 [==============================] - 1s 7ms/step - loss: 0.1271 - val_loss: 0.1319\n",
      "Epoch 185/200\n",
      "89/89 [==============================] - 1s 7ms/step - loss: 0.1223 - val_loss: 0.1287\n",
      "Epoch 186/200\n",
      "89/89 [==============================] - 1s 7ms/step - loss: 0.1213 - val_loss: 0.1302\n",
      "Epoch 187/200\n",
      "89/89 [==============================] - 1s 8ms/step - loss: 0.1221 - val_loss: 0.1304\n",
      "Epoch 188/200\n",
      "89/89 [==============================] - 1s 8ms/step - loss: 0.1245 - val_loss: 0.1333\n",
      "Epoch 189/200\n",
      "89/89 [==============================] - 1s 9ms/step - loss: 0.1257 - val_loss: 0.1327\n",
      "Epoch 190/200\n",
      "89/89 [==============================] - 1s 8ms/step - loss: 0.1223 - val_loss: 0.1299\n",
      "Epoch 191/200\n",
      "89/89 [==============================] - 1s 8ms/step - loss: 0.1210 - val_loss: 0.1286\n",
      "Epoch 192/200\n",
      "89/89 [==============================] - 1s 7ms/step - loss: 0.1202 - val_loss: 0.1292\n",
      "Epoch 193/200\n",
      "89/89 [==============================] - 1s 7ms/step - loss: 0.1206 - val_loss: 0.1294\n",
      "Epoch 194/200\n",
      "89/89 [==============================] - 1s 7ms/step - loss: 0.1209 - val_loss: 0.1320\n",
      "Epoch 195/200\n",
      "89/89 [==============================] - 1s 7ms/step - loss: 0.1219 - val_loss: 0.1323\n",
      "Epoch 196/200\n",
      "89/89 [==============================] - 1s 9ms/step - loss: 0.1208 - val_loss: 0.1287\n",
      "Epoch 197/200\n",
      "89/89 [==============================] - 1s 8ms/step - loss: 0.1196 - val_loss: 0.1286\n",
      "Epoch 198/200\n",
      "89/89 [==============================] - 1s 8ms/step - loss: 0.1198 - val_loss: 0.1288\n",
      "Epoch 199/200\n",
      "89/89 [==============================] - 1s 7ms/step - loss: 0.1230 - val_loss: 0.1320\n",
      "Epoch 200/200\n",
      "89/89 [==============================] - 1s 7ms/step - loss: 0.1329 - val_loss: 0.1409\n"
     ]
    }
   ],
   "source": [
    "# fit\n",
    "history = lstm_ae.fit(x_train_y0_scaled, x_train_y0_scaled,\n",
    "                     epochs=epochs, batch_size=batch,\n",
    "                     validation_data=(x_valid_y0_scaled, x_valid_y0_scaled))"
   ]
  },
  {
   "cell_type": "code",
   "execution_count": 37,
   "metadata": {},
   "outputs": [
    {
     "data": {
      "image/png": "[encoded data removed]",
      "text/plain": [
       "<Figure size 432x288 with 1 Axes>"
      ]
     },
     "metadata": {
      "needs_background": "light"
     },
     "output_type": "display_data"
    }
   ],
   "source": [
    "plt.plot(history.history['loss'], label='train loss')\n",
    "plt.plot(history.history['val_loss'], label='valid loss')\n",
    "plt.legend()\n",
    "plt.xlabel('Epoch'); plt.ylabel('loss')\n",
    "plt.show()"
   ]
  },
  {
   "cell_type": "code",
   "execution_count": 38,
   "metadata": {},
   "outputs": [],
   "source": [
    "valid_x_predictions = lstm_ae.predict(x_valid_scaled)"
   ]
  },
  {
   "cell_type": "code",
   "execution_count": 40,
   "metadata": {},
   "outputs": [],
   "source": [
    "mse = np.mean(np.power(flatten(x_valid_scaled) - flatten(valid_x_predictions),\n",
    "                       2), axis=1)"
   ]
  },
  {
   "cell_type": "code",
   "execution_count": 41,
   "metadata": {},
   "outputs": [],
   "source": [
    "error_df = pd.DataFrame({'Reconstruction_error':mse, \n",
    "                         'True_class':list(y_valid)})"
   ]
  },
  {
   "cell_type": "code",
   "execution_count": 42,
   "metadata": {},
   "outputs": [],
   "source": [
    "precision_rt, recall_rt, threshold_rt = metrics.precision_recall_curve(error_df['True_class'], \n",
    "                                                                       error_df['Reconstruction_error'])"
   ]
  },
  {
   "cell_type": "code",
   "execution_count": 43,
   "metadata": {},
   "outputs": [
    {
     "data": {
      "image/png": "[encoded data removed]",
      "text/plain": [
       "<Figure size 576x360 with 1 Axes>"
      ]
     },
     "metadata": {
      "needs_background": "light"
     },
     "output_type": "display_data"
    }
   ],
   "source": [
    "plt.figure(figsize=(8,5))\n",
    "plt.plot(threshold_rt, precision_rt[1:], label='Precision')\n",
    "plt.plot(threshold_rt, recall_rt[1:], label='Recall')\n",
    "plt.xlabel('Threshold'); plt.ylabel('Precision/Recall')\n",
    "plt.legend()\n",
    "plt.show()"
   ]
  },
  {
   "cell_type": "code",
   "execution_count": 44,
   "metadata": {},
   "outputs": [
    {
     "name": "stdout",
     "output_type": "stream",
     "text": [
      "precision:  0.14606741573033707 , recall:  0.14606741573033707\n"
     ]
    }
   ],
   "source": [
    "index_cnt = [cnt for cnt, (p, r) in enumerate(zip(precision_rt, recall_rt)) if p==r][0]\n",
    "print('precision: ',precision_rt[index_cnt],', recall: ',recall_rt[index_cnt])"
   ]
  },
  {
   "cell_type": "code",
   "execution_count": 45,
   "metadata": {},
   "outputs": [
    {
     "name": "stdout",
     "output_type": "stream",
     "text": [
      "threshold:  0.44008860304168507\n"
     ]
    }
   ],
   "source": [
    "threshold_fixed = threshold_rt[index_cnt]\n",
    "print('threshold: ',threshold_fixed)"
   ]
  },
  {
   "cell_type": "code",
   "execution_count": 46,
   "metadata": {},
   "outputs": [],
   "source": [
    "test_x_predictions = lstm_ae.predict(x_test_scaled)\n",
    "mse = np.mean(np.power(flatten(x_test_scaled) - flatten(test_x_predictions), \n",
    "                       2), axis=1)"
   ]
  },
  {
   "cell_type": "code",
   "execution_count": 47,
   "metadata": {},
   "outputs": [],
   "source": [
    "error_df = pd.DataFrame({'Reconstruction_error': mse,\n",
    "                         'True_class': y_test.tolist()})"
   ]
  },
  {
   "cell_type": "code",
   "execution_count": 48,
   "metadata": {},
   "outputs": [],
   "source": [
    "groups = error_df.groupby('True_class')"
   ]
  },
  {
   "cell_type": "code",
   "execution_count": 49,
   "metadata": {},
   "outputs": [
    {
     "data": {
      "image/png": "[encoded data removed]",
      "text/plain": [
       "<Figure size 432x288 with 1 Axes>"
      ]
     },
     "metadata": {
      "needs_background": "light"
     },
     "output_type": "display_data"
    }
   ],
   "source": [
    "fig, ax = plt.subplots()\n",
    "\n",
    "for name, group in groups:\n",
    "    ax.plot(group.index, group.Reconstruction_error, marker='o', ms=3.5, linestyle='',\n",
    "            label= \"Break\" if name == 1 else \"Normal\")\n",
    "ax.hlines(threshold_fixed, ax.get_xlim()[0], ax.get_xlim()[1], colors=\"r\", zorder=100, label='Threshold')\n",
    "ax.legend()\n",
    "plt.title(\"Reconstruction error for different classes\")\n",
    "plt.ylabel(\"Reconstruction error\")\n",
    "plt.xlabel(\"Data point index\")\n",
    "plt.show();"
   ]
  },
  {
   "cell_type": "code",
   "execution_count": 50,
   "metadata": {},
   "outputs": [
    {
     "data": {
      "image/png": "[encoded data removed]",
      "text/plain": [
       "<Figure size 504x504 with 2 Axes>"
      ]
     },
     "metadata": {
      "needs_background": "light"
     },
     "output_type": "display_data"
    }
   ],
   "source": [
    "# classification by threshold\n",
    "pred_y = [1 if e > threshold_fixed else 0 for e in error_df['Reconstruction_error'].values]\n",
    "\n",
    "conf_matrix = metrics.confusion_matrix(error_df['True_class'], pred_y)\n",
    "plt.figure(figsize=(7, 7))\n",
    "sns.heatmap(conf_matrix, xticklabels=LABELS, yticklabels=LABELS, annot=True, fmt='d')\n",
    "plt.title('Confusion Matrix')\n",
    "plt.xlabel('Predicted Class'); plt.ylabel('True Class')\n",
    "plt.show()"
   ]
  },
  {
   "cell_type": "code",
   "execution_count": 52,
   "metadata": {},
   "outputs": [
    {
     "data": {
      "image/png": "[encoded data removed]",
      "text/plain": [
       "<Figure size 432x288 with 1 Axes>"
      ]
     },
     "metadata": {
      "needs_background": "light"
     },
     "output_type": "display_data"
    }
   ],
   "source": [
    "false_pos_rate, true_pos_rate, thresholds = metrics.roc_curve(error_df['True_class'], error_df['Reconstruction_error'])\n",
    "roc_auc = metrics.auc(false_pos_rate, true_pos_rate,)\n",
    "\n",
    "plt.plot(false_pos_rate, true_pos_rate, linewidth=5, label='AUC = %0.3f'% roc_auc)\n",
    "plt.plot([0,1],[0,1], linewidth=5)\n",
    "\n",
    "plt.xlim([-0.01, 1])\n",
    "plt.ylim([0, 1.01])\n",
    "plt.legend(loc='lower right')\n",
    "plt.title('Receiver operating characteristic curve (ROC)')\n",
    "plt.ylabel('True Positive Rate'); plt.xlabel('False Positive Rate')\n",
    "plt.show()"
   ]
  },
  {
   "cell_type": "code",
   "execution_count": 53,
   "metadata": {},
   "outputs": [
    {
     "data": {
      "text/plain": [
       "[1, 1, 0, 0, 0]"
      ]
     },
     "execution_count": 53,
     "metadata": {},
     "output_type": "execute_result"
    }
   ],
   "source": [
    "pred_y[-5:] "
   ]
  },
  {
   "cell_type": "code",
   "execution_count": null,
   "metadata": {},
   "outputs": [],
   "source": []
  }
 ],
 "metadata": {
  "kernelspec": {
   "display_name": "Python 3",
   "language": "python",
   "name": "python3"
  },
  "language_info": {
   "codemirror_mode": {
    "name": "ipython",
    "version": 3
   },
   "file_extension": ".py",
   "mimetype": "text/x-python",
   "name": "python",
   "nbconvert_exporter": "python",
   "pygments_lexer": "ipython3",
   "version": "3.7.6"
  }
 },
 "nbformat": 4,
 "nbformat_minor": 4
}
