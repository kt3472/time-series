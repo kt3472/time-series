{
 "cells": [
  {
   "cell_type": "code",
   "execution_count": 1,
   "metadata": {},
   "outputs": [],
   "source": [
    "import pandas as pd\n",
    "import numpy as np"
   ]
  },
  {
   "cell_type": "code",
   "execution_count": 2,
   "metadata": {},
   "outputs": [],
   "source": [
    "exdata = pd.read_excel('./input_data/ex8data1.xlsx', sheet_name = 'X', header = None)"
   ]
  },
  {
   "cell_type": "code",
   "execution_count": 3,
   "metadata": {},
   "outputs": [
    {
     "data": {
      "text/html": [
       "<div>\n",
       "<style scoped>\n",
       "    .dataframe tbody tr th:only-of-type {\n",
       "        vertical-align: middle;\n",
       "    }\n",
       "\n",
       "    .dataframe tbody tr th {\n",
       "        vertical-align: top;\n",
       "    }\n",
       "\n",
       "    .dataframe thead th {\n",
       "        text-align: right;\n",
       "    }\n",
       "</style>\n",
       "<table border=\"1\" class=\"dataframe\">\n",
       "  <thead>\n",
       "    <tr style=\"text-align: right;\">\n",
       "      <th></th>\n",
       "      <th>0</th>\n",
       "      <th>1</th>\n",
       "    </tr>\n",
       "  </thead>\n",
       "  <tbody>\n",
       "    <tr>\n",
       "      <th>0</th>\n",
       "      <td>13.046815</td>\n",
       "      <td>14.741152</td>\n",
       "    </tr>\n",
       "    <tr>\n",
       "      <th>1</th>\n",
       "      <td>13.408520</td>\n",
       "      <td>13.763270</td>\n",
       "    </tr>\n",
       "    <tr>\n",
       "      <th>2</th>\n",
       "      <td>14.195915</td>\n",
       "      <td>15.853181</td>\n",
       "    </tr>\n",
       "    <tr>\n",
       "      <th>3</th>\n",
       "      <td>14.914701</td>\n",
       "      <td>16.174260</td>\n",
       "    </tr>\n",
       "    <tr>\n",
       "      <th>4</th>\n",
       "      <td>13.576700</td>\n",
       "      <td>14.042849</td>\n",
       "    </tr>\n",
       "    <tr>\n",
       "      <th>...</th>\n",
       "      <td>...</td>\n",
       "      <td>...</td>\n",
       "    </tr>\n",
       "    <tr>\n",
       "      <th>302</th>\n",
       "      <td>12.476629</td>\n",
       "      <td>14.459370</td>\n",
       "    </tr>\n",
       "    <tr>\n",
       "      <th>303</th>\n",
       "      <td>19.582573</td>\n",
       "      <td>10.411619</td>\n",
       "    </tr>\n",
       "    <tr>\n",
       "      <th>304</th>\n",
       "      <td>23.339868</td>\n",
       "      <td>16.298874</td>\n",
       "    </tr>\n",
       "    <tr>\n",
       "      <th>305</th>\n",
       "      <td>18.261188</td>\n",
       "      <td>17.978309</td>\n",
       "    </tr>\n",
       "    <tr>\n",
       "      <th>306</th>\n",
       "      <td>4.752613</td>\n",
       "      <td>24.350407</td>\n",
       "    </tr>\n",
       "  </tbody>\n",
       "</table>\n",
       "<p>307 rows × 2 columns</p>\n",
       "</div>"
      ],
      "text/plain": [
       "             0          1\n",
       "0    13.046815  14.741152\n",
       "1    13.408520  13.763270\n",
       "2    14.195915  15.853181\n",
       "3    14.914701  16.174260\n",
       "4    13.576700  14.042849\n",
       "..         ...        ...\n",
       "302  12.476629  14.459370\n",
       "303  19.582573  10.411619\n",
       "304  23.339868  16.298874\n",
       "305  18.261188  17.978309\n",
       "306   4.752613  24.350407\n",
       "\n",
       "[307 rows x 2 columns]"
      ]
     },
     "execution_count": 3,
     "metadata": {},
     "output_type": "execute_result"
    }
   ],
   "source": [
    "exdata"
   ]
  },
  {
   "cell_type": "code",
   "execution_count": 5,
   "metadata": {},
   "outputs": [],
   "source": [
    "import matplotlib.pyplot as plt\n",
    "%matplotlib inline"
   ]
  },
  {
   "cell_type": "code",
   "execution_count": 6,
   "metadata": {},
   "outputs": [
    {
     "data": {
      "image/png": "[encoded data removed]",
      "text/plain": [
       "<Figure size 432x288 with 1 Axes>"
      ]
     },
     "metadata": {
      "needs_background": "light"
     },
     "output_type": "display_data"
    }
   ],
   "source": [
    "plt.figure()\n",
    "plt.scatter(exdata[0], exdata[1])\n",
    "plt.show()"
   ]
  },
  {
   "cell_type": "code",
   "execution_count": 7,
   "metadata": {},
   "outputs": [],
   "source": [
    "m = len(exdata)"
   ]
  },
  {
   "cell_type": "code",
   "execution_count": 8,
   "metadata": {},
   "outputs": [
    {
     "data": {
      "text/plain": [
       "307"
      ]
     },
     "execution_count": 8,
     "metadata": {},
     "output_type": "execute_result"
    }
   ],
   "source": [
    "m\n"
   ]
  },
  {
   "cell_type": "code",
   "execution_count": 9,
   "metadata": {},
   "outputs": [],
   "source": [
    "sum = np.sum(exdata, axis = 0)\n",
    "mu = sum / m"
   ]
  },
  {
   "cell_type": "code",
   "execution_count": 10,
   "metadata": {},
   "outputs": [
    {
     "data": {
      "text/plain": [
       "0    4332.453316\n",
       "1    4604.297126\n",
       "dtype: float64"
      ]
     },
     "execution_count": 10,
     "metadata": {},
     "output_type": "execute_result"
    }
   ],
   "source": [
    "sum"
   ]
  },
  {
   "cell_type": "code",
   "execution_count": 11,
   "metadata": {},
   "outputs": [
    {
     "data": {
      "text/plain": [
       "0    14.112226\n",
       "1    14.997711\n",
       "dtype: float64"
      ]
     },
     "execution_count": 11,
     "metadata": {},
     "output_type": "execute_result"
    }
   ],
   "source": [
    "mu"
   ]
  },
  {
   "cell_type": "code",
   "execution_count": 13,
   "metadata": {},
   "outputs": [],
   "source": [
    "vrsum = np.sum((exdata-mu)**2, axis = 0)"
   ]
  },
  {
   "cell_type": "code",
   "execution_count": 14,
   "metadata": {},
   "outputs": [],
   "source": [
    "variance = vrsum / m"
   ]
  },
  {
   "cell_type": "code",
   "execution_count": 15,
   "metadata": {},
   "outputs": [
    {
     "data": {
      "text/plain": [
       "0    1.832631\n",
       "1    1.709745\n",
       "dtype: float64"
      ]
     },
     "execution_count": 15,
     "metadata": {},
     "output_type": "execute_result"
    }
   ],
   "source": [
    "variance"
   ]
  },
  {
   "cell_type": "code",
   "execution_count": 16,
   "metadata": {},
   "outputs": [
    {
     "data": {
      "text/plain": [
       "array([[1.83263141, 0.        ],\n",
       "       [0.        , 1.70974533]])"
      ]
     },
     "execution_count": 16,
     "metadata": {},
     "output_type": "execute_result"
    }
   ],
   "source": [
    "var_dia = np.diag(variance)\n",
    "var_dia"
   ]
  },
  {
   "cell_type": "code",
   "execution_count": 17,
   "metadata": {},
   "outputs": [],
   "source": [
    "k = len(mu)\n",
    "X = exdata - mu"
   ]
  },
  {
   "cell_type": "code",
   "execution_count": 18,
   "metadata": {},
   "outputs": [
    {
     "data": {
      "text/plain": [
       "0      6.470829e-02\n",
       "1      5.030417e-02\n",
       "2      7.245035e-02\n",
       "3      5.031575e-02\n",
       "4      6.368497e-02\n",
       "           ...     \n",
       "302    3.981340e-02\n",
       "303    5.455673e-08\n",
       "304    4.461721e-12\n",
       "305    6.107184e-05\n",
       "306    2.912867e-23\n",
       "Length: 307, dtype: float64"
      ]
     },
     "execution_count": 18,
     "metadata": {},
     "output_type": "execute_result"
    }
   ],
   "source": [
    "p = 1/((2*np.pi)**(k/2)*(np.linalg.det(var_dia)**0.5))* np.exp(-0.5* np.sum(X @ np.linalg.pinv(var_dia) * X,axis=1))\n",
    "p"
   ]
  },
  {
   "cell_type": "code",
   "execution_count": 19,
   "metadata": {},
   "outputs": [],
   "source": [
    "cvx = pd.read_excel(\"./input-data/ex8data1.xlsx\", sheet_name = \"Xval\", header = None)"
   ]
  },
  {
   "cell_type": "code",
   "execution_count": 20,
   "metadata": {},
   "outputs": [
    {
     "data": {
      "text/html": [
       "<div>\n",
       "<style scoped>\n",
       "    .dataframe tbody tr th:only-of-type {\n",
       "        vertical-align: middle;\n",
       "    }\n",
       "\n",
       "    .dataframe tbody tr th {\n",
       "        vertical-align: top;\n",
       "    }\n",
       "\n",
       "    .dataframe thead th {\n",
       "        text-align: right;\n",
       "    }\n",
       "</style>\n",
       "<table border=\"1\" class=\"dataframe\">\n",
       "  <thead>\n",
       "    <tr style=\"text-align: right;\">\n",
       "      <th></th>\n",
       "      <th>0</th>\n",
       "      <th>1</th>\n",
       "    </tr>\n",
       "  </thead>\n",
       "  <tbody>\n",
       "    <tr>\n",
       "      <th>0</th>\n",
       "      <td>15.790260</td>\n",
       "      <td>14.921024</td>\n",
       "    </tr>\n",
       "    <tr>\n",
       "      <th>1</th>\n",
       "      <td>13.639619</td>\n",
       "      <td>15.329955</td>\n",
       "    </tr>\n",
       "    <tr>\n",
       "      <th>2</th>\n",
       "      <td>14.865899</td>\n",
       "      <td>16.473865</td>\n",
       "    </tr>\n",
       "    <tr>\n",
       "      <th>3</th>\n",
       "      <td>13.584676</td>\n",
       "      <td>13.989306</td>\n",
       "    </tr>\n",
       "    <tr>\n",
       "      <th>4</th>\n",
       "      <td>13.464042</td>\n",
       "      <td>15.635330</td>\n",
       "    </tr>\n",
       "    <tr>\n",
       "      <th>...</th>\n",
       "      <td>...</td>\n",
       "      <td>...</td>\n",
       "    </tr>\n",
       "    <tr>\n",
       "      <th>302</th>\n",
       "      <td>0.307938</td>\n",
       "      <td>5.391413</td>\n",
       "    </tr>\n",
       "    <tr>\n",
       "      <th>303</th>\n",
       "      <td>28.541786</td>\n",
       "      <td>21.599776</td>\n",
       "    </tr>\n",
       "    <tr>\n",
       "      <th>304</th>\n",
       "      <td>19.034988</td>\n",
       "      <td>12.028949</td>\n",
       "    </tr>\n",
       "    <tr>\n",
       "      <th>305</th>\n",
       "      <td>14.375779</td>\n",
       "      <td>23.355973</td>\n",
       "    </tr>\n",
       "    <tr>\n",
       "      <th>306</th>\n",
       "      <td>8.778066</td>\n",
       "      <td>16.689526</td>\n",
       "    </tr>\n",
       "  </tbody>\n",
       "</table>\n",
       "<p>307 rows × 2 columns</p>\n",
       "</div>"
      ],
      "text/plain": [
       "             0          1\n",
       "0    15.790260  14.921024\n",
       "1    13.639619  15.329955\n",
       "2    14.865899  16.473865\n",
       "3    13.584676  13.989306\n",
       "4    13.464042  15.635330\n",
       "..         ...        ...\n",
       "302   0.307938   5.391413\n",
       "303  28.541786  21.599776\n",
       "304  19.034988  12.028949\n",
       "305  14.375779  23.355973\n",
       "306   8.778066  16.689526\n",
       "\n",
       "[307 rows x 2 columns]"
      ]
     },
     "execution_count": 20,
     "metadata": {},
     "output_type": "execute_result"
    }
   ],
   "source": [
    "cvx"
   ]
  },
  {
   "cell_type": "code",
   "execution_count": 21,
   "metadata": {},
   "outputs": [],
   "source": [
    "cvy = pd.read_excel(\"./input-data/ex8data1.xlsx\", sheet_name = \"y\", header = None)"
   ]
  },
  {
   "cell_type": "code",
   "execution_count": 22,
   "metadata": {},
   "outputs": [
    {
     "data": {
      "text/html": [
       "<div>\n",
       "<style scoped>\n",
       "    .dataframe tbody tr th:only-of-type {\n",
       "        vertical-align: middle;\n",
       "    }\n",
       "\n",
       "    .dataframe tbody tr th {\n",
       "        vertical-align: top;\n",
       "    }\n",
       "\n",
       "    .dataframe thead th {\n",
       "        text-align: right;\n",
       "    }\n",
       "</style>\n",
       "<table border=\"1\" class=\"dataframe\">\n",
       "  <thead>\n",
       "    <tr style=\"text-align: right;\">\n",
       "      <th></th>\n",
       "      <th>0</th>\n",
       "    </tr>\n",
       "  </thead>\n",
       "  <tbody>\n",
       "    <tr>\n",
       "      <th>0</th>\n",
       "      <td>0</td>\n",
       "    </tr>\n",
       "    <tr>\n",
       "      <th>1</th>\n",
       "      <td>0</td>\n",
       "    </tr>\n",
       "    <tr>\n",
       "      <th>2</th>\n",
       "      <td>0</td>\n",
       "    </tr>\n",
       "    <tr>\n",
       "      <th>3</th>\n",
       "      <td>0</td>\n",
       "    </tr>\n",
       "    <tr>\n",
       "      <th>4</th>\n",
       "      <td>0</td>\n",
       "    </tr>\n",
       "    <tr>\n",
       "      <th>...</th>\n",
       "      <td>...</td>\n",
       "    </tr>\n",
       "    <tr>\n",
       "      <th>302</th>\n",
       "      <td>1</td>\n",
       "    </tr>\n",
       "    <tr>\n",
       "      <th>303</th>\n",
       "      <td>1</td>\n",
       "    </tr>\n",
       "    <tr>\n",
       "      <th>304</th>\n",
       "      <td>1</td>\n",
       "    </tr>\n",
       "    <tr>\n",
       "      <th>305</th>\n",
       "      <td>1</td>\n",
       "    </tr>\n",
       "    <tr>\n",
       "      <th>306</th>\n",
       "      <td>1</td>\n",
       "    </tr>\n",
       "  </tbody>\n",
       "</table>\n",
       "<p>307 rows × 1 columns</p>\n",
       "</div>"
      ],
      "text/plain": [
       "     0\n",
       "0    0\n",
       "1    0\n",
       "2    0\n",
       "3    0\n",
       "4    0\n",
       "..  ..\n",
       "302  1\n",
       "303  1\n",
       "304  1\n",
       "305  1\n",
       "306  1\n",
       "\n",
       "[307 rows x 1 columns]"
      ]
     },
     "execution_count": 22,
     "metadata": {},
     "output_type": "execute_result"
    }
   ],
   "source": [
    "cvy"
   ]
  },
  {
   "cell_type": "code",
   "execution_count": 23,
   "metadata": {},
   "outputs": [],
   "source": [
    "cvyy = np.array(cvy)"
   ]
  },
  {
   "cell_type": "code",
   "execution_count": 24,
   "metadata": {},
   "outputs": [
    {
     "data": {
      "text/plain": [
       "array([[0],\n",
       "       [0],\n",
       "       [0],\n",
       "       [0],\n",
       "       [0]], dtype=int64)"
      ]
     },
     "execution_count": 24,
     "metadata": {},
     "output_type": "execute_result"
    }
   ],
   "source": [
    "cvyy[:5]"
   ]
  },
  {
   "cell_type": "code",
   "execution_count": 26,
   "metadata": {},
   "outputs": [
    {
     "data": {
      "text/plain": [
       "count    3.070000e+02\n",
       "mean     5.905331e-02\n",
       "std      2.324461e-02\n",
       "min      1.181209e-23\n",
       "25%      4.361075e-02\n",
       "50%      6.510144e-02\n",
       "75%      7.849532e-02\n",
       "max      8.986095e-02\n",
       "dtype: float64"
      ]
     },
     "execution_count": 26,
     "metadata": {},
     "output_type": "execute_result"
    }
   ],
   "source": [
    "p.describe()"
   ]
  },
  {
   "cell_type": "code",
   "execution_count": 28,
   "metadata": {},
   "outputs": [],
   "source": [
    "def tpfpfn(ep):\n",
    "    tp, fp, fn = 0,0,0\n",
    "    \n",
    "    for i in range(len(cvyy)):\n",
    "        \n",
    "        if p[i] <= ep and cvyy[i][0] == 1:\n",
    "            \n",
    "            tp += 1\n",
    "            \n",
    "        elif p[i] <= ep and cvyy[i][0] == 0:\n",
    "            \n",
    "            fp += 1\n",
    "            \n",
    "        elif p[i] < ep and cvyy[i][0] == 1:\n",
    "            \n",
    "            fn += 1\n",
    "            \n",
    "    return tp, fp, fn\n",
    "            "
   ]
  },
  {
   "cell_type": "code",
   "execution_count": 29,
   "metadata": {},
   "outputs": [],
   "source": [
    "eps = [i for i in p if i <= p.mean()]"
   ]
  },
  {
   "cell_type": "code",
   "execution_count": 31,
   "metadata": {},
   "outputs": [
    {
     "data": {
      "text/plain": [
       "133"
      ]
     },
     "execution_count": 31,
     "metadata": {},
     "output_type": "execute_result"
    }
   ],
   "source": [
    "len(eps)"
   ]
  },
  {
   "cell_type": "code",
   "execution_count": 32,
   "metadata": {},
   "outputs": [],
   "source": [
    "def f1_calculate(ep):\n",
    "    \n",
    "    tp, fp, fn = tpfpfn(ep)\n",
    "    \n",
    "    prec = tp/(tp+fp)\n",
    "    rec = tp/(tp+fn)\n",
    "    \n",
    "    f1 = 2*prec*rec/(prec + rec)\n",
    "    \n",
    "    return f1"
   ]
  },
  {
   "cell_type": "code",
   "execution_count": 33,
   "metadata": {},
   "outputs": [],
   "source": [
    "f1data = []\n",
    "for i in eps:\n",
    "    \n",
    "    f1data.append(f1_calculate(i))"
   ]
  },
  {
   "cell_type": "code",
   "execution_count": 34,
   "metadata": {},
   "outputs": [
    {
     "data": {
      "text/plain": [
       "[0.14414414414414414,\n",
       " 0.14159292035398233,\n",
       " 0.1951219512195122,\n",
       " 0.15841584158415845,\n",
       " 0.21538461538461542,\n",
       " 0.4615384615384615,\n",
       " 0.15517241379310345,\n",
       " 0.3076923076923077,\n",
       " 0.19999999999999998,\n",
       " 0.6,\n",
       " 0.2028985507246377,\n",
       " 0.19999999999999998,\n",
       " 0.3157894736842105,\n",
       " 0.14678899082568805,\n",
       " 0.4,\n",
       " 0.1702127659574468,\n",
       " 0.2033898305084746,\n",
       " 0.1276595744680851,\n",
       " 0.23076923076923078,\n",
       " 0.2222222222222222,\n",
       " 0.34285714285714286,\n",
       " 0.18181818181818182,\n",
       " 0.20689655172413793,\n",
       " 0.2181818181818182,\n",
       " 0.3243243243243243,\n",
       " 0.6666666666666666,\n",
       " 0.5,\n",
       " 0.16666666666666669,\n",
       " 0.2553191489361702,\n",
       " 0.14545454545454545,\n",
       " 0.14634146341463414,\n",
       " 0.16,\n",
       " 0.19718309859154928,\n",
       " 0.21052631578947367,\n",
       " 0.2608695652173913,\n",
       " 0.18604651162790695,\n",
       " 0.21875,\n",
       " 0.140625,\n",
       " 0.14285714285714288,\n",
       " 0.14953271028037382,\n",
       " 0.1475409836065574,\n",
       " 0.23529411764705882,\n",
       " 0.2926829268292683,\n",
       " 0.631578947368421,\n",
       " 0.27906976744186046,\n",
       " 0.3870967741935484,\n",
       " 0.7058823529411764,\n",
       " 0.2222222222222222,\n",
       " 0.18823529411764706,\n",
       " 0.41379310344827586,\n",
       " 0.13138686131386862,\n",
       " 0.19444444444444445,\n",
       " 0.15126050420168066,\n",
       " 0.2857142857142857,\n",
       " 0.19999999999999998,\n",
       " 0.13740458015267176,\n",
       " 0.21428571428571425,\n",
       " 0.1523809523809524,\n",
       " 0.5217391304347826,\n",
       " 0.15384615384615385,\n",
       " 0.42857142857142855,\n",
       " 0.13636363636363635,\n",
       " 0.8571428571428571,\n",
       " 0.1267605633802817,\n",
       " 0.163265306122449,\n",
       " 0.2666666666666667,\n",
       " 0.16161616161616163,\n",
       " 0.13235294117647056,\n",
       " 0.14876033057851243,\n",
       " 0.25,\n",
       " 0.16842105263157897,\n",
       " 0.1904761904761905,\n",
       " 0.375,\n",
       " 0.923076923076923,\n",
       " 0.19178082191780824,\n",
       " 0.14285714285714288,\n",
       " 0.15,\n",
       " 0.21212121212121215,\n",
       " 0.18390804597701146,\n",
       " 0.14035087719298245,\n",
       " 0.17204301075268816,\n",
       " 0.22641509433962262,\n",
       " 0.1285714285714286,\n",
       " 0.17391304347826084,\n",
       " 0.7499999999999999,\n",
       " 0.1927710843373494,\n",
       " 0.1568627450980392,\n",
       " 0.35294117647058826,\n",
       " 0.1553398058252427,\n",
       " 0.13333333333333333,\n",
       " 0.1842105263157895,\n",
       " 0.1758241758241758,\n",
       " 0.4799999999999999,\n",
       " 0.2727272727272727,\n",
       " 0.17777777777777776,\n",
       " 0.4444444444444445,\n",
       " 0.1343283582089552,\n",
       " 0.16494845360824742,\n",
       " 0.14814814814814814,\n",
       " 0.3,\n",
       " 0.13953488372093023,\n",
       " 0.15254237288135594,\n",
       " 0.18666666666666665,\n",
       " 0.208955223880597,\n",
       " 0.5714285714285715,\n",
       " 0.13846153846153847,\n",
       " 0.18181818181818182,\n",
       " 0.8,\n",
       " 0.24489795918367346,\n",
       " 0.15384615384615385,\n",
       " 0.2058823529411765,\n",
       " 0.14173228346456693,\n",
       " 0.144,\n",
       " 0.15094339622641506,\n",
       " 0.19753086419753085,\n",
       " 0.13533834586466167,\n",
       " 0.14516129032258066,\n",
       " 0.1797752808988764,\n",
       " 0.33333333333333337,\n",
       " 0.18918918918918917,\n",
       " 0.19672131147540983,\n",
       " 0.12949640287769784,\n",
       " 0.3636363636363636,\n",
       " 0.24000000000000002,\n",
       " 0.13043478260869565,\n",
       " 0.5454545454545454,\n",
       " 1.0,\n",
       " 1.0,\n",
       " 0.20253164556962025,\n",
       " 1.0,\n",
       " 1.0,\n",
       " 1.0,\n",
       " 1.0]"
      ]
     },
     "execution_count": 34,
     "metadata": {},
     "output_type": "execute_result"
    }
   ],
   "source": [
    "f1data"
   ]
  },
  {
   "cell_type": "code",
   "execution_count": 35,
   "metadata": {},
   "outputs": [
    {
     "data": {
      "text/plain": [
       "126"
      ]
     },
     "execution_count": 35,
     "metadata": {},
     "output_type": "execute_result"
    }
   ],
   "source": [
    "np.array(f1data).argmax()"
   ]
  },
  {
   "cell_type": "code",
   "execution_count": 39,
   "metadata": {},
   "outputs": [],
   "source": [
    "e = eps[126]"
   ]
  },
  {
   "cell_type": "code",
   "execution_count": 40,
   "metadata": {},
   "outputs": [
    {
     "data": {
      "text/plain": [
       "5.933392126221045e-06"
      ]
     },
     "execution_count": 40,
     "metadata": {},
     "output_type": "execute_result"
    }
   ],
   "source": [
    "e"
   ]
  },
  {
   "cell_type": "code",
   "execution_count": 41,
   "metadata": {},
   "outputs": [
    {
     "data": {
      "text/plain": [
       "5.933392126221045e-06"
      ]
     },
     "execution_count": 41,
     "metadata": {},
     "output_type": "execute_result"
    }
   ],
   "source": [
    "eps[np.array(f1data).argmax()]"
   ]
  },
  {
   "cell_type": "code",
   "execution_count": 42,
   "metadata": {},
   "outputs": [],
   "source": [
    "label = []\n",
    "for i in range(len(exdata)):\n",
    "    \n",
    "    if p[i] <= e:\n",
    "        \n",
    "        label.append(1)\n",
    "        \n",
    "    else :\n",
    "        label.append(0)"
   ]
  },
  {
   "cell_type": "code",
   "execution_count": 43,
   "metadata": {},
   "outputs": [
    {
     "data": {
      "text/plain": [
       "307"
      ]
     },
     "execution_count": 43,
     "metadata": {},
     "output_type": "execute_result"
    }
   ],
   "source": [
    "len(label)"
   ]
  },
  {
   "cell_type": "code",
   "execution_count": 44,
   "metadata": {},
   "outputs": [
    {
     "data": {
      "text/html": [
       "<div>\n",
       "<style scoped>\n",
       "    .dataframe tbody tr th:only-of-type {\n",
       "        vertical-align: middle;\n",
       "    }\n",
       "\n",
       "    .dataframe tbody tr th {\n",
       "        vertical-align: top;\n",
       "    }\n",
       "\n",
       "    .dataframe thead th {\n",
       "        text-align: right;\n",
       "    }\n",
       "</style>\n",
       "<table border=\"1\" class=\"dataframe\">\n",
       "  <thead>\n",
       "    <tr style=\"text-align: right;\">\n",
       "      <th></th>\n",
       "      <th>0</th>\n",
       "      <th>1</th>\n",
       "      <th>label</th>\n",
       "    </tr>\n",
       "  </thead>\n",
       "  <tbody>\n",
       "    <tr>\n",
       "      <th>0</th>\n",
       "      <td>13.046815</td>\n",
       "      <td>14.741152</td>\n",
       "      <td>0</td>\n",
       "    </tr>\n",
       "    <tr>\n",
       "      <th>1</th>\n",
       "      <td>13.408520</td>\n",
       "      <td>13.763270</td>\n",
       "      <td>0</td>\n",
       "    </tr>\n",
       "    <tr>\n",
       "      <th>2</th>\n",
       "      <td>14.195915</td>\n",
       "      <td>15.853181</td>\n",
       "      <td>0</td>\n",
       "    </tr>\n",
       "    <tr>\n",
       "      <th>3</th>\n",
       "      <td>14.914701</td>\n",
       "      <td>16.174260</td>\n",
       "      <td>0</td>\n",
       "    </tr>\n",
       "    <tr>\n",
       "      <th>4</th>\n",
       "      <td>13.576700</td>\n",
       "      <td>14.042849</td>\n",
       "      <td>0</td>\n",
       "    </tr>\n",
       "  </tbody>\n",
       "</table>\n",
       "</div>"
      ],
      "text/plain": [
       "           0          1  label\n",
       "0  13.046815  14.741152      0\n",
       "1  13.408520  13.763270      0\n",
       "2  14.195915  15.853181      0\n",
       "3  14.914701  16.174260      0\n",
       "4  13.576700  14.042849      0"
      ]
     },
     "execution_count": 44,
     "metadata": {},
     "output_type": "execute_result"
    }
   ],
   "source": [
    "exdata['label'] = np.array(label)\n",
    "exdata.head()"
   ]
  },
  {
   "cell_type": "code",
   "execution_count": 46,
   "metadata": {},
   "outputs": [
    {
     "data": {
      "image/png": "[encoded data removed]",
      "text/plain": [
       "<Figure size 432x288 with 1 Axes>"
      ]
     },
     "metadata": {
      "needs_background": "light"
     },
     "output_type": "display_data"
    }
   ],
   "source": [
    "plt.figure()\n",
    "plt.scatter(exdata[0], exdata[1], c = exdata['label'])\n",
    "plt.show()"
   ]
  },
  {
   "cell_type": "code",
   "execution_count": null,
   "metadata": {},
   "outputs": [],
   "source": []
  },
  {
   "cell_type": "code",
   "execution_count": null,
   "metadata": {},
   "outputs": [],
   "source": []
  }
 ],
 "metadata": {
  "kernelspec": {
   "display_name": "Python 3",
   "language": "python",
   "name": "python3"
  },
  "language_info": {
   "codemirror_mode": {
    "name": "ipython",
    "version": 3
   },
   "file_extension": ".py",
   "mimetype": "text/x-python",
   "name": "python",
   "nbconvert_exporter": "python",
   "pygments_lexer": "ipython3",
   "version": "3.6.4"
  }
 },
 "nbformat": 4,
 "nbformat_minor": 2
}
