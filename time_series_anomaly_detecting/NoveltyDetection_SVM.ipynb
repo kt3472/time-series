{
 "cells": [
  {
   "cell_type": "code",
   "execution_count": 22,
   "metadata": {},
   "outputs": [],
   "source": [
    "# reference\n",
    "#https://scikit-learn.org/stable/auto_examples/svm/plot_oneclass.html#sphx-glr-download-auto-examples-svm-plot-oneclass-py\n",
    "# https://scikit-learn.org/stable/modules/outlier_detection.html#outlier-detection"
   ]
  },
  {
   "cell_type": "code",
   "execution_count": 23,
   "metadata": {},
   "outputs": [],
   "source": [
    "%matplotlib inline"
   ]
  },
  {
   "cell_type": "code",
   "execution_count": 24,
   "metadata": {},
   "outputs": [],
   "source": [
    "import numpy as np\n",
    "import pandas as pd"
   ]
  },
  {
   "cell_type": "code",
   "execution_count": 25,
   "metadata": {},
   "outputs": [],
   "source": [
    "import matplotlib.pyplot as plt\n",
    "import matplotlib.font_manager\n",
    "from sklearn import svm"
   ]
  },
  {
   "cell_type": "code",
   "execution_count": 26,
   "metadata": {},
   "outputs": [],
   "source": [
    "# -5와 5 사이에 500개 값 생성\n",
    "# x,y축으로 그리드 생성\n",
    "xx, yy = np.meshgrid(np.linspace(-5, 5, 500), np.linspace(-5, 5, 500))"
   ]
  },
  {
   "cell_type": "code",
   "execution_count": 27,
   "metadata": {},
   "outputs": [
    {
     "data": {
      "text/plain": [
       "array([[-5.        , -4.97995992, -4.95991984, ...,  4.95991984,\n",
       "         4.97995992,  5.        ],\n",
       "       [-5.        , -4.97995992, -4.95991984, ...,  4.95991984,\n",
       "         4.97995992,  5.        ],\n",
       "       [-5.        , -4.97995992, -4.95991984, ...,  4.95991984,\n",
       "         4.97995992,  5.        ],\n",
       "       ...,\n",
       "       [-5.        , -4.97995992, -4.95991984, ...,  4.95991984,\n",
       "         4.97995992,  5.        ],\n",
       "       [-5.        , -4.97995992, -4.95991984, ...,  4.95991984,\n",
       "         4.97995992,  5.        ],\n",
       "       [-5.        , -4.97995992, -4.95991984, ...,  4.95991984,\n",
       "         4.97995992,  5.        ]])"
      ]
     },
     "execution_count": 27,
     "metadata": {},
     "output_type": "execute_result"
    }
   ],
   "source": [
    "xx"
   ]
  },
  {
   "cell_type": "code",
   "execution_count": 28,
   "metadata": {},
   "outputs": [
    {
     "data": {
      "text/plain": [
       "array([[-5.        , -5.        , -5.        , ..., -5.        ,\n",
       "        -5.        , -5.        ],\n",
       "       [-4.97995992, -4.97995992, -4.97995992, ..., -4.97995992,\n",
       "        -4.97995992, -4.97995992],\n",
       "       [-4.95991984, -4.95991984, -4.95991984, ..., -4.95991984,\n",
       "        -4.95991984, -4.95991984],\n",
       "       ...,\n",
       "       [ 4.95991984,  4.95991984,  4.95991984, ...,  4.95991984,\n",
       "         4.95991984,  4.95991984],\n",
       "       [ 4.97995992,  4.97995992,  4.97995992, ...,  4.97995992,\n",
       "         4.97995992,  4.97995992],\n",
       "       [ 5.        ,  5.        ,  5.        , ...,  5.        ,\n",
       "         5.        ,  5.        ]])"
      ]
     },
     "execution_count": 28,
     "metadata": {},
     "output_type": "execute_result"
    }
   ],
   "source": [
    "yy"
   ]
  },
  {
   "cell_type": "code",
   "execution_count": 29,
   "metadata": {},
   "outputs": [],
   "source": [
    "# 훈련 데이터 생성\n",
    "X = 0.3 * np.random.randn(100, 2)\n",
    "X_train = np.r_[X + 2, X - 2]\n",
    "\n",
    "# 주기적인 새로운 관측치 생성\n",
    "X = 0.3 * np.random.randn(20, 2)\n",
    "X_test = np.r_[X + 2, X - 2]\n",
    "\n",
    "# 비정상적인 새로운 관측치 생성\n",
    "X_outliers = np.random.uniform(low=-4, high=4, size=(20, 2))"
   ]
  },
  {
   "cell_type": "code",
   "execution_count": 30,
   "metadata": {},
   "outputs": [
    {
     "data": {
      "text/plain": [
       "array([[ 1.98460929,  1.46911209],\n",
       "       [ 2.11865779,  2.13210484],\n",
       "       [ 1.86268859,  1.79583322],\n",
       "       [ 2.09695679,  2.13083733],\n",
       "       [ 1.85026018,  2.04978937],\n",
       "       [ 2.48289539,  1.92264499],\n",
       "       [ 2.02312056,  1.66061631],\n",
       "       [ 2.13739352,  2.19537223],\n",
       "       [ 1.8247013 ,  2.13968698],\n",
       "       [ 1.62203193,  1.6102897 ],\n",
       "       [ 1.71945672,  2.38007526],\n",
       "       [ 1.98077859,  2.12541822],\n",
       "       [ 2.3659492 ,  2.23320841],\n",
       "       [ 1.6552711 ,  2.08721888],\n",
       "       [ 2.49109897,  2.09542245],\n",
       "       [ 2.04215853,  2.61882894],\n",
       "       [ 2.36073332,  2.16731433],\n",
       "       [ 1.99402233,  2.05778793],\n",
       "       [ 2.2800691 ,  2.17148749],\n",
       "       [ 2.03717184,  1.77754442],\n",
       "       [ 2.2475981 ,  2.21685735],\n",
       "       [ 1.89675956,  2.02796577],\n",
       "       [ 1.84837587,  1.62104611],\n",
       "       [ 1.74587803,  1.7377134 ],\n",
       "       [ 2.04831661,  2.34097949],\n",
       "       [ 2.27909481,  1.78994426],\n",
       "       [ 1.66343949,  1.86873053],\n",
       "       [ 2.29511969,  1.88153292],\n",
       "       [ 2.03483042,  1.4327269 ],\n",
       "       [ 2.37829229,  1.9850278 ],\n",
       "       [ 2.31061579,  1.98542935],\n",
       "       [ 1.77444043,  1.71482646],\n",
       "       [ 1.89764469,  1.52699467],\n",
       "       [ 1.55607464,  2.47191569],\n",
       "       [ 1.94694935,  2.37169233],\n",
       "       [ 2.27205817,  2.61969078],\n",
       "       [ 2.10481378,  2.33021003],\n",
       "       [ 1.89401397,  2.05654273],\n",
       "       [ 1.56533345,  1.89638083],\n",
       "       [ 1.78160369,  2.25126821],\n",
       "       [ 1.53903133,  1.81122693],\n",
       "       [ 2.0297556 ,  1.96891273],\n",
       "       [ 2.37274278,  1.9018526 ],\n",
       "       [ 1.92930248,  2.41857451],\n",
       "       [ 2.35844888,  2.32985158],\n",
       "       [ 2.25091007,  2.31049567],\n",
       "       [ 1.9142145 ,  1.81156292],\n",
       "       [ 2.16358702,  2.30676352],\n",
       "       [ 2.21559288,  2.44297184],\n",
       "       [ 2.35371511,  1.9105006 ],\n",
       "       [ 2.09487729,  1.96916644],\n",
       "       [ 2.02741715,  2.14585863],\n",
       "       [ 1.76759663,  2.37742002],\n",
       "       [ 1.7179239 ,  2.31528123],\n",
       "       [ 1.91305511,  1.74404462],\n",
       "       [ 2.44779273,  1.86237502],\n",
       "       [ 1.50877507,  1.74178961],\n",
       "       [ 2.133451  ,  2.34806902],\n",
       "       [ 1.91329832,  1.82747337],\n",
       "       [ 1.44364346,  1.66698068],\n",
       "       [ 2.22516017,  2.68309862],\n",
       "       [ 2.31276419,  2.52677565],\n",
       "       [ 1.88901246,  2.06235208],\n",
       "       [ 1.97205876,  2.00418854],\n",
       "       [ 2.15904701,  2.29835203],\n",
       "       [ 1.79854865,  2.01720999],\n",
       "       [ 2.33753929,  1.34198451],\n",
       "       [ 1.98102483,  2.07454193],\n",
       "       [ 1.97792647,  2.19961792],\n",
       "       [ 2.15926062,  2.00379962],\n",
       "       [ 2.32361217,  2.30439519],\n",
       "       [ 2.1676938 ,  1.69709962],\n",
       "       [ 1.82280731,  1.70459073],\n",
       "       [ 1.77356554,  2.2052225 ],\n",
       "       [ 2.08649162,  1.6826569 ],\n",
       "       [ 2.22207393,  1.9960162 ],\n",
       "       [ 1.66831978,  1.98434492],\n",
       "       [ 2.17921912,  1.71740712],\n",
       "       [ 2.19933384,  1.54691368],\n",
       "       [ 1.99647117,  2.25814726],\n",
       "       [ 1.94363328,  1.60223762],\n",
       "       [ 1.99221295,  2.13607522],\n",
       "       [ 1.95088663,  1.35207317],\n",
       "       [ 1.94957138,  1.882304  ],\n",
       "       [ 1.66185728,  1.84910632],\n",
       "       [ 2.2278599 ,  2.13296401],\n",
       "       [ 1.92398859,  1.41066908],\n",
       "       [ 1.55922717,  1.61665807],\n",
       "       [ 1.8313032 ,  2.21070657],\n",
       "       [ 2.04182353,  1.72684068],\n",
       "       [ 2.42287905,  1.76220834],\n",
       "       [ 1.92214654,  1.80072057],\n",
       "       [ 2.40224385,  1.71308636],\n",
       "       [ 1.94249396,  2.14659802],\n",
       "       [ 1.77358038,  1.8084364 ],\n",
       "       [ 1.87625521,  1.90499532],\n",
       "       [ 2.19345424,  1.58761507],\n",
       "       [ 2.21505343,  2.04692343],\n",
       "       [ 2.38623101,  1.84362489],\n",
       "       [ 1.38543798,  2.13115363],\n",
       "       [-2.01539071, -2.53088791],\n",
       "       [-1.88134221, -1.86789516],\n",
       "       [-2.13731141, -2.20416678],\n",
       "       [-1.90304321, -1.86916267],\n",
       "       [-2.14973982, -1.95021063],\n",
       "       [-1.51710461, -2.07735501],\n",
       "       [-1.97687944, -2.33938369],\n",
       "       [-1.86260648, -1.80462777],\n",
       "       [-2.1752987 , -1.86031302],\n",
       "       [-2.37796807, -2.3897103 ],\n",
       "       [-2.28054328, -1.61992474],\n",
       "       [-2.01922141, -1.87458178],\n",
       "       [-1.6340508 , -1.76679159],\n",
       "       [-2.3447289 , -1.91278112],\n",
       "       [-1.50890103, -1.90457755],\n",
       "       [-1.95784147, -1.38117106],\n",
       "       [-1.63926668, -1.83268567],\n",
       "       [-2.00597767, -1.94221207],\n",
       "       [-1.7199309 , -1.82851251],\n",
       "       [-1.96282816, -2.22245558],\n",
       "       [-1.7524019 , -1.78314265],\n",
       "       [-2.10324044, -1.97203423],\n",
       "       [-2.15162413, -2.37895389],\n",
       "       [-2.25412197, -2.2622866 ],\n",
       "       [-1.95168339, -1.65902051],\n",
       "       [-1.72090519, -2.21005574],\n",
       "       [-2.33656051, -2.13126947],\n",
       "       [-1.70488031, -2.11846708],\n",
       "       [-1.96516958, -2.5672731 ],\n",
       "       [-1.62170771, -2.0149722 ],\n",
       "       [-1.68938421, -2.01457065],\n",
       "       [-2.22555957, -2.28517354],\n",
       "       [-2.10235531, -2.47300533],\n",
       "       [-2.44392536, -1.52808431],\n",
       "       [-2.05305065, -1.62830767],\n",
       "       [-1.72794183, -1.38030922],\n",
       "       [-1.89518622, -1.66978997],\n",
       "       [-2.10598603, -1.94345727],\n",
       "       [-2.43466655, -2.10361917],\n",
       "       [-2.21839631, -1.74873179],\n",
       "       [-2.46096867, -2.18877307],\n",
       "       [-1.9702444 , -2.03108727],\n",
       "       [-1.62725722, -2.0981474 ],\n",
       "       [-2.07069752, -1.58142549],\n",
       "       [-1.64155112, -1.67014842],\n",
       "       [-1.74908993, -1.68950433],\n",
       "       [-2.0857855 , -2.18843708],\n",
       "       [-1.83641298, -1.69323648],\n",
       "       [-1.78440712, -1.55702816],\n",
       "       [-1.64628489, -2.0894994 ],\n",
       "       [-1.90512271, -2.03083356],\n",
       "       [-1.97258285, -1.85414137],\n",
       "       [-2.23240337, -1.62257998],\n",
       "       [-2.2820761 , -1.68471877],\n",
       "       [-2.08694489, -2.25595538],\n",
       "       [-1.55220727, -2.13762498],\n",
       "       [-2.49122493, -2.25821039],\n",
       "       [-1.866549  , -1.65193098],\n",
       "       [-2.08670168, -2.17252663],\n",
       "       [-2.55635654, -2.33301932],\n",
       "       [-1.77483983, -1.31690138],\n",
       "       [-1.68723581, -1.47322435],\n",
       "       [-2.11098754, -1.93764792],\n",
       "       [-2.02794124, -1.99581146],\n",
       "       [-1.84095299, -1.70164797],\n",
       "       [-2.20145135, -1.98279001],\n",
       "       [-1.66246071, -2.65801549],\n",
       "       [-2.01897517, -1.92545807],\n",
       "       [-2.02207353, -1.80038208],\n",
       "       [-1.84073938, -1.99620038],\n",
       "       [-1.67638783, -1.69560481],\n",
       "       [-1.8323062 , -2.30290038],\n",
       "       [-2.17719269, -2.29540927],\n",
       "       [-2.22643446, -1.7947775 ],\n",
       "       [-1.91350838, -2.3173431 ],\n",
       "       [-1.77792607, -2.0039838 ],\n",
       "       [-2.33168022, -2.01565508],\n",
       "       [-1.82078088, -2.28259288],\n",
       "       [-1.80066616, -2.45308632],\n",
       "       [-2.00352883, -1.74185274],\n",
       "       [-2.05636672, -2.39776238],\n",
       "       [-2.00778705, -1.86392478],\n",
       "       [-2.04911337, -2.64792683],\n",
       "       [-2.05042862, -2.117696  ],\n",
       "       [-2.33814272, -2.15089368],\n",
       "       [-1.7721401 , -1.86703599],\n",
       "       [-2.07601141, -2.58933092],\n",
       "       [-2.44077283, -2.38334193],\n",
       "       [-2.1686968 , -1.78929343],\n",
       "       [-1.95817647, -2.27315932],\n",
       "       [-1.57712095, -2.23779166],\n",
       "       [-2.07785346, -2.19927943],\n",
       "       [-1.59775615, -2.28691364],\n",
       "       [-2.05750604, -1.85340198],\n",
       "       [-2.22641962, -2.1915636 ],\n",
       "       [-2.12374479, -2.09500468],\n",
       "       [-1.80654576, -2.41238493],\n",
       "       [-1.78494657, -1.95307657],\n",
       "       [-1.61376899, -2.15637511],\n",
       "       [-2.61456202, -1.86884637]])"
      ]
     },
     "execution_count": 30,
     "metadata": {},
     "output_type": "execute_result"
    }
   ],
   "source": [
    "X_train"
   ]
  },
  {
   "cell_type": "code",
   "execution_count": 31,
   "metadata": {},
   "outputs": [
    {
     "data": {
      "text/plain": [
       "array([[ 1.93318082,  2.27266154],\n",
       "       [ 2.29321376,  2.03550244],\n",
       "       [ 1.99761299,  2.2104418 ],\n",
       "       [ 2.24599009,  2.31942728],\n",
       "       [ 2.04898829,  1.99962316],\n",
       "       [ 2.36231834,  1.82534938],\n",
       "       [ 1.91800678,  2.24714016],\n",
       "       [ 2.23302122,  2.01669473],\n",
       "       [ 2.26168547,  2.15335261],\n",
       "       [ 2.20088061,  2.06454381],\n",
       "       [ 1.88771413,  2.12720132],\n",
       "       [ 1.76750799,  1.68417726],\n",
       "       [ 2.02359674,  2.01795311],\n",
       "       [ 2.1653121 ,  1.69291377],\n",
       "       [ 2.28119324,  2.19833765],\n",
       "       [ 1.84562397,  1.76372575],\n",
       "       [ 2.25172538,  2.05868111],\n",
       "       [ 2.01393528,  2.60647131],\n",
       "       [ 1.8399387 ,  1.73184773],\n",
       "       [ 1.69441468,  1.94441554],\n",
       "       [-2.06681918, -1.72733846],\n",
       "       [-1.70678624, -1.96449756],\n",
       "       [-2.00238701, -1.7895582 ],\n",
       "       [-1.75400991, -1.68057272],\n",
       "       [-1.95101171, -2.00037684],\n",
       "       [-1.63768166, -2.17465062],\n",
       "       [-2.08199322, -1.75285984],\n",
       "       [-1.76697878, -1.98330527],\n",
       "       [-1.73831453, -1.84664739],\n",
       "       [-1.79911939, -1.93545619],\n",
       "       [-2.11228587, -1.87279868],\n",
       "       [-2.23249201, -2.31582274],\n",
       "       [-1.97640326, -1.98204689],\n",
       "       [-1.8346879 , -2.30708623],\n",
       "       [-1.71880676, -1.80166235],\n",
       "       [-2.15437603, -2.23627425],\n",
       "       [-1.74827462, -1.94131889],\n",
       "       [-1.98606472, -1.39352869],\n",
       "       [-2.1600613 , -2.26815227],\n",
       "       [-2.30558532, -2.05558446]])"
      ]
     },
     "execution_count": 31,
     "metadata": {},
     "output_type": "execute_result"
    }
   ],
   "source": [
    "X_test"
   ]
  },
  {
   "cell_type": "code",
   "execution_count": 32,
   "metadata": {},
   "outputs": [
    {
     "data": {
      "text/plain": [
       "array([[-0.87372666, -3.12152739],\n",
       "       [ 3.63901774, -0.22704121],\n",
       "       [-2.99904161,  1.72992589],\n",
       "       [-3.86686913,  1.45865098],\n",
       "       [-0.50067122,  1.17486996],\n",
       "       [-1.72970603, -3.02222451],\n",
       "       [-2.89119408,  0.12907714],\n",
       "       [ 0.27749024,  2.30505506],\n",
       "       [ 2.66113436,  2.18433989],\n",
       "       [ 2.21998685, -1.66558558],\n",
       "       [ 3.75045283, -3.97950211],\n",
       "       [ 3.99525933, -1.20924196],\n",
       "       [ 1.14356661, -0.09930997],\n",
       "       [-3.91472282,  3.10918963],\n",
       "       [ 1.77016176,  0.74806577],\n",
       "       [ 2.32196967,  2.13896116],\n",
       "       [-1.90475429,  2.52391469],\n",
       "       [ 2.60200636,  2.82396075],\n",
       "       [ 1.27353495,  0.74016963],\n",
       "       [ 0.15993207, -1.31425613]])"
      ]
     },
     "execution_count": 32,
     "metadata": {},
     "output_type": "execute_result"
    }
   ],
   "source": [
    "X_outliers"
   ]
  },
  {
   "cell_type": "code",
   "execution_count": 33,
   "metadata": {},
   "outputs": [],
   "source": [
    "clf = svm.OneClassSVM(nu = 0.1, kernel = \"rbf\", gamma = 0.1)"
   ]
  },
  {
   "cell_type": "code",
   "execution_count": 34,
   "metadata": {},
   "outputs": [
    {
     "data": {
      "text/plain": [
       "OneClassSVM(gamma=0.1, nu=0.1)"
      ]
     },
     "execution_count": 34,
     "metadata": {},
     "output_type": "execute_result"
    }
   ],
   "source": [
    "clf.fit(X_train)"
   ]
  },
  {
   "cell_type": "code",
   "execution_count": 35,
   "metadata": {},
   "outputs": [],
   "source": [
    "y_pred_train = clf.predict(X_train)\n",
    "y_pred_test = clf.predict(X_test)\n",
    "y_pred_outliers = clf.predict(X_outliers)"
   ]
  },
  {
   "cell_type": "code",
   "execution_count": 36,
   "metadata": {},
   "outputs": [],
   "source": [
    "n_error_train = y_pred_train[y_pred_train == -1].size\n",
    "n_error_test = y_pred_test[y_pred_test == -1].size\n",
    "n_error_outliers = y_pred_outliers[y_pred_outliers == 1].size"
   ]
  },
  {
   "cell_type": "code",
   "execution_count": 37,
   "metadata": {},
   "outputs": [
    {
     "name": "stdout",
     "output_type": "stream",
     "text": [
      "20\n",
      "1\n",
      "1\n"
     ]
    }
   ],
   "source": [
    "print(n_error_train)\n",
    "print(n_error_test)\n",
    "print(n_error_outliers)"
   ]
  },
  {
   "cell_type": "code",
   "execution_count": 38,
   "metadata": {},
   "outputs": [
    {
     "data": {
      "text/plain": [
       "array([[1.93318082, 2.27266154],\n",
       "       [2.29321376, 2.03550244],\n",
       "       [1.99761299, 2.2104418 ],\n",
       "       [2.24599009, 2.31942728],\n",
       "       [2.04898829, 1.99962316],\n",
       "       [2.36231834, 1.82534938],\n",
       "       [1.91800678, 2.24714016],\n",
       "       [2.23302122, 2.01669473],\n",
       "       [2.26168547, 2.15335261],\n",
       "       [2.20088061, 2.06454381]])"
      ]
     },
     "execution_count": 38,
     "metadata": {},
     "output_type": "execute_result"
    }
   ],
   "source": [
    "X_test[:10]"
   ]
  },
  {
   "cell_type": "code",
   "execution_count": 39,
   "metadata": {},
   "outputs": [
    {
     "data": {
      "text/plain": [
       "array([[-0.87372666, -3.12152739],\n",
       "       [ 3.63901774, -0.22704121],\n",
       "       [-2.99904161,  1.72992589],\n",
       "       [-3.86686913,  1.45865098],\n",
       "       [-0.50067122,  1.17486996],\n",
       "       [-1.72970603, -3.02222451],\n",
       "       [-2.89119408,  0.12907714],\n",
       "       [ 0.27749024,  2.30505506],\n",
       "       [ 2.66113436,  2.18433989],\n",
       "       [ 2.21998685, -1.66558558]])"
      ]
     },
     "execution_count": 39,
     "metadata": {},
     "output_type": "execute_result"
    }
   ],
   "source": [
    "X_outliers[:10]"
   ]
  },
  {
   "cell_type": "code",
   "execution_count": 40,
   "metadata": {},
   "outputs": [
    {
     "name": "stdout",
     "output_type": "stream",
     "text": [
      "20\n"
     ]
    }
   ],
   "source": [
    "print(len(X_outliers))"
   ]
  },
  {
   "cell_type": "code",
   "execution_count": 41,
   "metadata": {},
   "outputs": [
    {
     "name": "stdout",
     "output_type": "stream",
     "text": [
      "500\n"
     ]
    }
   ],
   "source": [
    "Z = clf.decision_function(np.c_[xx.ravel(), yy.ravel()])\n",
    "Z = Z.reshape(xx.shape)\n",
    "\n",
    "print(len(Z))"
   ]
  },
  {
   "cell_type": "code",
   "execution_count": 42,
   "metadata": {},
   "outputs": [
    {
     "data": {
      "text/plain": [
       "array([[-7.7200909 , -7.69780206, -7.67542034, ..., -9.62805147,\n",
       "        -9.62932207, -9.63056919],\n",
       "       [-7.69835284, -7.67581939, -7.65319205, ..., -9.62674195,\n",
       "        -9.62803281, -9.62929988],\n",
       "       [-7.67653112, -7.65375213, -7.63087823, ..., -9.62540762,\n",
       "        -9.62671902, -9.62800637],\n",
       "       ...,\n",
       "       [-9.62470813, -9.62334086, -9.62194795, ..., -7.67828704,\n",
       "        -7.70097518, -7.72356327],\n",
       "       [-9.62604383, -9.6246978 , -9.62332643, ..., -7.70005405,\n",
       "        -7.72249776, -7.74484249],\n",
       "       [-9.62735494, -9.62602985, -9.62467973, ..., -7.72173773,\n",
       "        -7.74393793, -7.76604022]])"
      ]
     },
     "execution_count": 42,
     "metadata": {},
     "output_type": "execute_result"
    }
   ],
   "source": [
    "Z"
   ]
  },
  {
   "cell_type": "code",
   "execution_count": 43,
   "metadata": {},
   "outputs": [
    {
     "data": {
      "image/png": "[encoded data removed]",
      "text/plain": [
       "<Figure size 432x288 with 1 Axes>"
      ]
     },
     "metadata": {
      "needs_background": "light"
     },
     "output_type": "display_data"
    }
   ],
   "source": [
    "# 특이치 탐지\n",
    "plt.title(\"Novelty Detection\")\n",
    "plt.contourf(xx, yy, Z, levels=np.linspace(Z.min(), 0, 7), cmap=plt.cm.PuBu)\n",
    "\n",
    "a = plt.contour(xx, yy, Z, levels=[0], linewidths=2, colors='darkred')\n",
    "plt.contourf(xx, yy, Z, levels=[0, Z.max()], colors='palevioletred')\n",
    "\n",
    "s = 40\n",
    "b1 = plt.scatter(X_train[:, 0], X_train[:, 1], c='white', s=s, edgecolors='k')\n",
    "b2 = plt.scatter(X_test[:, 0], X_test[:, 1], c='blueviolet', s=s,\n",
    "                 edgecolors='k')\n",
    "c = plt.scatter(X_outliers[:, 0], X_outliers[:, 1], c='gold', s=s,\n",
    "                edgecolors='k')\n",
    "\n",
    "plt.axis('tight')\n",
    "plt.xlim((-5, 5))\n",
    "plt.ylim((-5, 5))\n",
    "plt.legend([a.collections[0], b1, b2, c],\n",
    "           [\"learned frontier\", \"training observationsrh\",\n",
    "            \"new regular observations\", \"new abnormal observations\"],\n",
    "           loc=\"upper left\",\n",
    "           prop=matplotlib.font_manager.FontProperties(size=11))\n",
    "plt.xlabel(\n",
    "    \"error train: %d/200 ; errors novel regular: %d/40 ; \"\n",
    "    \"errors novel abnormal: %d/40\"\n",
    "    % (n_error_train, n_error_test, n_error_outliers))\n",
    "plt.show()"
   ]
  },
  {
   "cell_type": "code",
   "execution_count": null,
   "metadata": {},
   "outputs": [],
   "source": []
  }
 ],
 "metadata": {
  "kernelspec": {
   "display_name": "Python 3",
   "language": "python",
   "name": "python3"
  },
  "language_info": {
   "codemirror_mode": {
    "name": "ipython",
    "version": 3
   },
   "file_extension": ".py",
   "mimetype": "text/x-python",
   "name": "python",
   "nbconvert_exporter": "python",
   "pygments_lexer": "ipython3",
   "version": "3.6.4"
  }
 },
 "nbformat": 4,
 "nbformat_minor": 2
}
